{
 "cells": [
  {
   "cell_type": "markdown",
   "id": "901541d7-a89c-45a1-a22f-041d82634153",
   "metadata": {},
   "source": [
    "### 역순 연결 리스트\n",
    "- 인덱스 m에서 n까지를 역순으로 만들어라. 인덱스는 m은 1부터 시작한다.<br>\n",
    "리트코드 92"
   ]
  },
  {
   "cell_type": "markdown",
   "id": "8a562500-6f91-4f38-ad20-324d2ffc3e0f",
   "metadata": {},
   "source": [
    "#### 풀이) 01.반복 구조로 노드 뒤집기"
   ]
  },
  {
   "cell_type": "code",
   "execution_count": 8,
   "id": "db13e65c-e3d9-4a8d-a70a-c66bc1e29e44",
   "metadata": {},
   "outputs": [],
   "source": [
    "class ListNode:\n",
    "    def __init__(self, val=0, next=None):\n",
    "        self.val = val\n",
    "        self.next = next"
   ]
  },
  {
   "cell_type": "markdown",
   "id": "4db8aa7e-2551-4978-afd0-03aab17fc840",
   "metadata": {},
   "source": [
    "<pre>\n",
    "class Solution:\n",
    "    def reverseBetween(self, head: Optional[ListNode], left: int, right: int) -> Optional[ListNode]:\n",
    "        # 예외처리\n",
    "        if not head or left == right:\n",
    "            return head\n",
    "        \n",
    "        root = start = ListNode(None)\n",
    "        root.next = head\n",
    "        # start, end 지정\n",
    "        for _ in range(left-1):\n",
    "            start = start.next\n",
    "        end = start.next\n",
    "        \n",
    "        # 반복하면서 노드 차례대로 뒤집기\n",
    "        for _ in range(right-left):\n",
    "            tmp, start.next, end.next = start.next, end.next, end.next.next\n",
    "            start.next.next = tmp\n",
    "            \n",
    "        return root.next\n",
    "</pre>"
   ]
  },
  {
   "cell_type": "code",
   "execution_count": null,
   "id": "44e920ab-00b0-4d8e-861b-7f60dc8c18e9",
   "metadata": {},
   "outputs": [],
   "source": []
  }
 ],
 "metadata": {
  "kernelspec": {
   "display_name": "Python 3",
   "language": "python",
   "name": "python3"
  },
  "language_info": {
   "codemirror_mode": {
    "name": "ipython",
    "version": 3
   },
   "file_extension": ".py",
   "mimetype": "text/x-python",
   "name": "python",
   "nbconvert_exporter": "python",
   "pygments_lexer": "ipython3",
   "version": "3.8.8"
  }
 },
 "nbformat": 4,
 "nbformat_minor": 5
}
