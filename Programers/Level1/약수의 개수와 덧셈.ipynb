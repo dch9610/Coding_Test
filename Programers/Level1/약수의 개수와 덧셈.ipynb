{
 "cells": [
  {
   "cell_type": "markdown",
   "metadata": {},
   "source": [
    "## 문제 설명\n",
    "- https://programmers.co.kr/learn/courses/30/lessons/77884"
   ]
  },
  {
   "cell_type": "markdown",
   "metadata": {},
   "source": [
    "### 알고리즘 구현방법\n",
    "1. 덧셈값 배열, 뺄셈값 배열 생성\n",
    "2. left값에서 right값까지 반복문 \n",
    "    - range(left,right+1,1)\n",
    "3. 약수가 홀수인 경우 찾기 (뺄셈 배열에 넣기)\n",
    "    - 제곱승의 값들 ex) 4, 9, 16, 25.."
   ]
  },
  {
   "cell_type": "code",
   "execution_count": 15,
   "metadata": {},
   "outputs": [
    {
     "name": "stdout",
     "output_type": "stream",
     "text": [
      "[16]\n",
      "[13, 14, 15, 17]\n"
     ]
    },
    {
     "data": {
      "text/plain": [
       "43"
      ]
     },
     "execution_count": 15,
     "metadata": {},
     "output_type": "execute_result"
    }
   ],
   "source": [
    "left = 13\n",
    "right = 17\n",
    "\n",
    "# 배열생성\n",
    "even_sum = []\n",
    "odd_sum = []\n",
    "\n",
    "# 홀수인 값을 담은 배열 생성\n",
    "odd_array = []\n",
    "for i in range(1,32,1):\n",
    "    odd_array.append(i**2)\n",
    "\n",
    "for i in range(left, right+1, 1):\n",
    "    if i in odd_array:\n",
    "        odd_sum.append(i)\n",
    "    else:\n",
    "        even_sum.append(i)\n",
    "    \n",
    "print(odd_sum)\n",
    "print(even_sum)\n",
    "even_sum = sum(even_sum)\n",
    "odd_sum = sum(odd_sum)\n",
    "even_sum - odd_sum"
   ]
  },
  {
   "cell_type": "code",
   "execution_count": 19,
   "metadata": {},
   "outputs": [],
   "source": [
    "def solution(left, right):\n",
    "    # 배열생성\n",
    "    even_sum = []\n",
    "    odd_sum = []\n",
    "    \n",
    "    # 약수가 홀수인 값을 담은 배열 생성\n",
    "    odd_array = []\n",
    "    # 값의 범위가 1000\n",
    "    for i in range(1,32,1):\n",
    "        odd_array.append(i**2)\n",
    "        \n",
    "    for i in range(left, right+1,1):\n",
    "        if i in odd_array:\n",
    "            odd_sum.append(i)\n",
    "        else:\n",
    "            even_sum.append(i)\n",
    "            \n",
    "    even_sum = sum(even_sum)\n",
    "    odd_sum = sum(odd_sum)       \n",
    "        \n",
    "    answer = even_sum - odd_sum\n",
    "    return answer"
   ]
  },
  {
   "cell_type": "code",
   "execution_count": 21,
   "metadata": {
    "scrolled": true
   },
   "outputs": [
    {
     "data": {
      "text/plain": [
       "52"
      ]
     },
     "execution_count": 21,
     "metadata": {},
     "output_type": "execute_result"
    }
   ],
   "source": [
    "solution(24,27)"
   ]
  },
  {
   "cell_type": "markdown",
   "metadata": {},
   "source": [
    "---"
   ]
  },
  {
   "cell_type": "markdown",
   "metadata": {},
   "source": [
    "### 다른사람 풀이"
   ]
  },
  {
   "cell_type": "code",
   "execution_count": 23,
   "metadata": {},
   "outputs": [],
   "source": [
    "def solution(left, right):\n",
    "    answer = 0\n",
    "    for i in range(left, right+1):\n",
    "        if int(i**0.5) == i**0.5:\n",
    "            answer -= i\n",
    "        else:\n",
    "            answer += i\n",
    "            \n",
    "    return answer"
   ]
  },
  {
   "cell_type": "code",
   "execution_count": 24,
   "metadata": {},
   "outputs": [
    {
     "data": {
      "text/plain": [
       "43"
      ]
     },
     "execution_count": 24,
     "metadata": {},
     "output_type": "execute_result"
    }
   ],
   "source": [
    "solution(13,17)"
   ]
  }
 ],
 "metadata": {
  "kernelspec": {
   "display_name": "Python 3",
   "language": "python",
   "name": "python3"
  },
  "language_info": {
   "codemirror_mode": {
    "name": "ipython",
    "version": 3
   },
   "file_extension": ".py",
   "mimetype": "text/x-python",
   "name": "python",
   "nbconvert_exporter": "python",
   "pygments_lexer": "ipython3",
   "version": "3.8.5"
  }
 },
 "nbformat": 4,
 "nbformat_minor": 4
}
