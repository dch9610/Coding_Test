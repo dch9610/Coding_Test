{
 "cells": [
  {
   "cell_type": "markdown",
   "metadata": {},
   "source": [
    "## 문제설명\n",
    "문제 제목 : 블랙잭 2798번 <br>\n",
    "문제 난이도 : 하 <br>\n",
    "문제 유형 : 배열, 완전 탐색"
   ]
  },
  {
   "cell_type": "markdown",
   "metadata": {},
   "source": [
    "### 문제\n",
    "블랙잭에서 각 카드에는 양의 정수가 쓰여 있다. 그 다음, 딜러는 N장의 카드를 모두 숫자가 보이도록 바닥에 놓는다. 그런 후에 딜러는 숫자 M을 크게 외친다.\n",
    "\n",
    "이제 플레이어는 제한된 시간 안에 N장의 카드 중에서 3장의 카드를 골라야 한다. 블랙잭 변형 게임이기 때문에, 플레이어가 고른 카드의 합은 M을 넘지 않으면서 M과 최대한 가깝게 만들어야 한다.\n",
    "\n",
    "N장의 카드에 써져 있는 숫자가 주어졌을 때, M을 넘지 않으면서 M에 최대한 가까운 카드 3장의 합을 구해 출력하시오."
   ]
  },
  {
   "cell_type": "markdown",
   "metadata": {},
   "source": [
    "### 입력\n",
    "첫째 줄에 카드의 개수 N(3 ≤ N ≤ 100)과 M(10 ≤ M ≤ 300,000)이 주어진다. 둘째 줄에는 카드에 쓰여 있는 수가 주어지며, 이 값은 100,000을 넘지 않는 양의 정수이다.\n",
    "\n",
    "합이 M을 넘지 않는 카드 3장을 찾을 수 있는 경우만 입력으로 주어진다."
   ]
  },
  {
   "cell_type": "markdown",
   "metadata": {},
   "source": [
    "### 출력\n",
    "첫째 줄에 M을 넘지 않으면서 M에 최대한 가까운 카드 3장의 합을 출력한다."
   ]
  },
  {
   "cell_type": "markdown",
   "metadata": {},
   "source": [
    "### 문제풀이 핵심 아이디어\n",
    "1. 카드 중 3개씩 뽑는 모든 경우의 수는 C(n,3)이며, n은 최대 100입니다.\n",
    "2. 따라서 단순히 3중 반복문으로 모든 경우의 수를 확인하여 문제를 해결한다."
   ]
  },
  {
   "cell_type": "code",
   "execution_count": 13,
   "metadata": {},
   "outputs": [
    {
     "name": "stdout",
     "output_type": "stream",
     "text": [
      "10 500\n",
      "93 181 245 214 315 36 185 138 216 295\n"
     ]
    },
    {
     "data": {
      "text/plain": [
       "497"
      ]
     },
     "execution_count": 13,
     "metadata": {},
     "output_type": "execute_result"
    }
   ],
   "source": [
    "# 첫번째줄 입력값 (카드의 수(N), 카드의 합(M))\n",
    "N, M = list(map(int, input().split()))\n",
    "# 두번째줄 입력값 (카드(data))\n",
    "data = list(map(int, input().split()))\n",
    "\n",
    "# 3개 카드의 합을 저장할 변수\n",
    "result = 0\n",
    "\n",
    "# 3개의 카드를 뽑는 것이므로 3중 반복문\n",
    "for i in range(0, len(data)):  \n",
    "    for j in range(i+1, len(data)):        \n",
    "        for h in range(j+1, len(data)):\n",
    "            # 3개 카드의 합\n",
    "            sum_value = data[i] + data[j] + data[h]\n",
    "            # 합이 M보다 작은 경우\n",
    "            if sum_value <= M:\n",
    "                # result에는 M보다 작은 가장 큰 값이 저장됨\n",
    "                result = max(sum_value,result)\n",
    "result      "
   ]
  }
 ],
 "metadata": {
  "kernelspec": {
   "display_name": "Python 3",
   "language": "python",
   "name": "python3"
  },
  "language_info": {
   "codemirror_mode": {
    "name": "ipython",
    "version": 3
   },
   "file_extension": ".py",
   "mimetype": "text/x-python",
   "name": "python",
   "nbconvert_exporter": "python",
   "pygments_lexer": "ipython3",
   "version": "3.8.5"
  }
 },
 "nbformat": 4,
 "nbformat_minor": 4
}
