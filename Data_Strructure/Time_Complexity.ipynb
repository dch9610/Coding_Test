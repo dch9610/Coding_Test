{
 "cells": [
  {
   "cell_type": "markdown",
   "metadata": {},
   "source": [
    "## 알고리즘 복잡도 표현 방법"
   ]
  },
  {
   "cell_type": "markdown",
   "metadata": {},
   "source": [
    "### 1. 알고리즘 복잡도 계산이 필요한 이유\n",
    "#### 하나의 문제를 푸는 알고리즘은 다양할 수 있음\n",
    "  - 정수의 절대값 구하기\n",
    "    - 1, -1 ->> 1\n",
    "    - 방법1: 정수값을 제곱한 값에 다시 루트를 씌우기\n",
    "    - 방법2: 정수가 음수인지 확인해서, 음수일 때만, -1을 곱하기\n",
    "\n",
    "> 다양한 알고리즘 중 어느 알고리즘이 더 좋은지를 분석하기 위해, 복잡도를 정의하고 계산함"
   ]
  },
  {
   "cell_type": "markdown",
   "metadata": {},
   "source": [
    "### 2. 알고리즘 복잡도 계산 항목\n",
    "1. **시간 복잡도**: 알고리즘 실행 속도\n",
    "2. **공간 복잡도**: 알고리즘이 사용하는 메모리 사이즈\n",
    "\n",
    "> 가장 중요한 시간 복잡도를 꼭 이해하고 계산할 수 있어야 함"
   ]
  },
  {
   "cell_type": "markdown",
   "metadata": {},
   "source": [
    "### 알고리즘 시간 복잡도의 주요 요소\n",
    "\n",
    "> 반복문이 지배합니다."
   ]
  },
  {
   "cell_type": "markdown",
   "metadata": {},
   "source": [
    "<div class=\"alert alert-block alert-warning\">\n",
    "<strong><font color=\"blue\" size=\"3em\">생각해보기: 자동차로 서울에서 부산을 가기 위해, 다음과 같이 항목을 나누었을 때, 가장 총 시간에 영향을 많이 미칠 것 같은 요소는?</font></strong><br>\n",
    "\n",
    "* 예: \n",
    "  - 자동차로 서울에서 부산가기\n",
    "    1. 자동차 문열기\n",
    "    2. 자동차 문닫기\n",
    "    3. 자동차 운전석 등받이 조정하기\n",
    "    4. 자동차 시동걸기\n",
    "    5. 자동차로 서울에서 부산가기\n",
    "    6. 자동차 시동끄기\n",
    "    7. 자동차 문열기\n",
    "    8. 자동차 문닫기\n",
    "</div>"
   ]
  },
  {
   "cell_type": "markdown",
   "metadata": {},
   "source": [
    "### 마찬가지로, 프로그래밍에서 시간 복잡도에 가장 영향을 많이 미치는 요소는 반복문\n",
    "* 입력의 크기가 커지면 커질수록 반복문이 알고리즘 수행 시간을 지배함"
   ]
  },
  {
   "cell_type": "markdown",
   "metadata": {},
   "source": [
    "### 알고리즘 성능 표기법\n",
    "- Big O (빅-오) 표기법: O(N)\n",
    "  - 알고리즘 최악의 실행 시간을 표기\n",
    "  - **가장 많이/일반적으로 사용함**\n",
    "  - **아무리 최악의 상황이라도, 이정도의 성능은 보장한다는 의미이기 때문**\n",
    "\n",
    "- Ω (오메가) 표기법:  Ω(N)\n",
    "  - 오메가 표기법은 알고리즘 최상의 실행 시간을 표기\n",
    "\n",
    "- Θ (세타) 표기법: Θ(N)\n",
    "  - 오메가 표기법은 알고리즘 평균 실행 시간을 표기\n",
    "\n",
    "> 시간 복잡도 계산은 반복문이 핵심 요소임을 인지하고, 계산 표기는 최상, 평균, 최악 중, 최악의 시간인 Big-O 표기법을 중심으로 익히면 됨 "
   ]
  },
  {
   "cell_type": "markdown",
   "metadata": {},
   "source": [
    "### 3. 대문자 O 표기법\n",
    "* 빅 오 표기법, Big-O 표기법 이라고도 부름\n",
    "* O(입력)\n",
    "  - 입력 n 에 따라 결정되는 시간 복잡도 함수\n",
    "  - O(1), O($log n$), O(n), O(n$log n$), O($n^2$), O($2^n$), O(n!)등으로 표기함\n",
    "  - 입력 n 의 크기에 따라 기하급수적으로 시간 복잡도가 늘어날 수 있음\n",
    "    - O(1) < O($log n$) < O(n) < O(n$log n$) < O($n^2$) < O($2^n$) < O(n!)\n",
    "      - 참고: log n 의 베이스는 2 - $log_2 n$\n",
    "\n",
    "* 단순하게 입력 n에 따라, 몇번 실행이 되는지를 계산하면 됩니다.\n",
    "  - **표현식에 가장 큰 영향을 미치는 n 의 단위로 표기합니다.**\n",
    "  - n이 1이든 100이든, 1000이든, 10000이든 실행을\n",
    "    - 무조건 2회(상수회) 실행한다: O(1) \n",
    "       ```python\n",
    "            if n > 10:\n",
    "                 print(n)\n",
    "       ```\n",
    "    - n에 따라, n번, n + 10 번, 또는 3n + 10 번등 실행한다: O(n)\n",
    "       ```python\n",
    "            variable = 1\n",
    "            for num in range(3):\n",
    "                for index in range(n):\n",
    "                     print(index)\n",
    "       ```\n",
    "    - n에 따라, $n^2$번, $n^2$ + 1000 번, 100$n^2$ - 100, 또는 300$n^2$ + 1번등 실행한다: O($n^2$)\n",
    "       ```python\n",
    "            variable = 1\n",
    "            for i in range(300):\n",
    "                for num in range(n):\n",
    "                    for index in range(n):\n",
    "                         print(index)\n",
    "       ```    \n"
   ]
  },
  {
   "cell_type": "code",
   "execution_count": null,
   "metadata": {},
   "outputs": [],
   "source": []
  }
 ],
 "metadata": {
  "kernelspec": {
   "display_name": "Python 3",
   "language": "python",
   "name": "python3"
  },
  "language_info": {
   "codemirror_mode": {
    "name": "ipython",
    "version": 3
   },
   "file_extension": ".py",
   "mimetype": "text/x-python",
   "name": "python",
   "nbconvert_exporter": "python",
   "pygments_lexer": "ipython3",
   "version": "3.7.6"
  }
 },
 "nbformat": 4,
 "nbformat_minor": 4
}
