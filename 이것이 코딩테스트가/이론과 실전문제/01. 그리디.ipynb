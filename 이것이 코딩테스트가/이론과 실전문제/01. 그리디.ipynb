{
 "cells": [
  {
   "cell_type": "markdown",
   "id": "5d35c7e6-41cf-4f7a-80df-066f695d4c1b",
   "metadata": {},
   "source": [
    "## 그리디\n",
    "- 현재 상황에서 지금 당장 좋은 것만 고르는 방법"
   ]
  },
  {
   "cell_type": "markdown",
   "id": "53bd3cb6-35bb-478f-979e-d1ea1f8fa9a3",
   "metadata": {},
   "source": [
    "### 예제 03-1 거스름돈\n",
    "- 거슬러줘야할 최소한의 동전개수"
   ]
  },
  {
   "cell_type": "code",
   "execution_count": 15,
   "id": "3719f560-4705-49d4-ae24-1210d1bf5d87",
   "metadata": {},
   "outputs": [],
   "source": [
    "n = 1260\n",
    "coin_type = [500,10,50,100]"
   ]
  },
  {
   "cell_type": "code",
   "execution_count": 16,
   "id": "17b71813-f426-4199-ab91-ed0b86450224",
   "metadata": {},
   "outputs": [
    {
     "name": "stdout",
     "output_type": "stream",
     "text": [
      "최소한의 동전개수:  6\n"
     ]
    }
   ],
   "source": [
    "count = 0\n",
    "coin_type.sort(reverse=True)\n",
    "\n",
    "for coin in coin_type:\n",
    "    count += n // coin\n",
    "    n %= coin\n",
    "    \n",
    "print('최소한의 동전개수: ', count)"
   ]
  },
  {
   "cell_type": "code",
   "execution_count": 17,
   "id": "0c095149-986d-454e-99ef-b769dfc3a36d",
   "metadata": {},
   "outputs": [],
   "source": [
    "def min_coin_count(value, coin_list):\n",
    "    count = 0\n",
    "    details = list()\n",
    "    coin_list.sort(reverse=True)\n",
    "    \n",
    "    for coin in coin_list:\n",
    "        coin_num = value // coin\n",
    "        count += coin_num\n",
    "        value -= coin_num * coin\n",
    "        details.append([coin, coin_num])\n",
    "    return count, details"
   ]
  },
  {
   "cell_type": "code",
   "execution_count": 19,
   "id": "c72ae64b-00b6-44ab-a37e-2757f27fd6d3",
   "metadata": {},
   "outputs": [
    {
     "data": {
      "text/plain": [
       "(6, [[500, 2], [100, 2], [50, 1], [10, 1]])"
      ]
     },
     "execution_count": 19,
     "metadata": {},
     "output_type": "execute_result"
    }
   ],
   "source": [
    "min_coin_count(1260, coin_type)"
   ]
  },
  {
   "cell_type": "markdown",
   "id": "701a58d1-90b6-4d06-a323-d894bbba9ca3",
   "metadata": {},
   "source": [
    "대부분의 그리디 알고리즘 문제에서는 이처럼 문제 풀이를 위한 최소한의 아디어를 떠올리고 이것이 정당한지 검토할 수 있어야 답을 도출할 수 있다."
   ]
  },
  {
   "cell_type": "markdown",
   "id": "f10204ee-e646-4627-9586-b00789bdfb59",
   "metadata": {},
   "source": [
    "---"
   ]
  },
  {
   "cell_type": "markdown",
   "id": "b3becfea-83e4-4d2b-80ae-eebca30c0f35",
   "metadata": {},
   "source": [
    "### 실전 문제) 01.큰 수의 법칙\n",
    "- 입력 조건 : \n",
    "    1. 첫째 줄에 N(2 < N < 1,000), M(1 < M < 10,000), K(1<K<10,000)의 자연수가 주어지며, 각 자연수는 공백으로 구분한다.\n",
    "    2. 둘째 줄에 N개의 자연수가 주어진다. 각 자연수는 공백으로 구분한다. 단, 각각의 자연수는 1 이상 10000 이하의 수로 주어진다.\n",
    "    3. 입력으로 주어지는 K는 항상 M보다 작거나 같다.\n",
    "    \n",
    "- 출력 조건 :\n",
    "    1. 첫째 줄에 큰 수의 법칙에 따라 더해진 답을 출력한다.\n",
    "  \n",
    "<pre>\n",
    "입력\n",
    "5 8 3\n",
    "2 4 5 4 6\n",
    "\n",
    "출력 \n",
    "46\n",
    "</pre>"
   ]
  },
  {
   "cell_type": "code",
   "execution_count": 32,
   "id": "ae9b5715-fd30-4ec6-92f0-3275bdc2c553",
   "metadata": {},
   "outputs": [
    {
     "name": "stdin",
     "output_type": "stream",
     "text": [
      " 5 7 2\n",
      " 3 4 3 4 3\n"
     ]
    },
    {
     "name": "stdout",
     "output_type": "stream",
     "text": [
      "28\n"
     ]
    }
   ],
   "source": [
    "n, m, k = map(int, input().split())\n",
    "data = list(map(int, input().split()))\n",
    "data.sort(reverse=True)\n",
    "\n",
    "result = 0\n",
    "\n",
    "while True:\n",
    "    for i in range(k):\n",
    "        # 반복문 종료 조건\n",
    "        if m == 0:\n",
    "            break\n",
    "        result += data[0] # 가장 큰수 더하기\n",
    "        m -= 1 \n",
    "    \n",
    "    # 2번째로 큰수 더하고 한번만 실행\n",
    "    if m == 0:\n",
    "        break\n",
    "    result += data[1]\n",
    "    m -= 1\n",
    "\n",
    "print(result)"
   ]
  },
  {
   "cell_type": "markdown",
   "id": "869b055b-6cb7-4ac5-9e4c-8b07ea85fc50",
   "metadata": {},
   "source": [
    "시간 초과 우려"
   ]
  },
  {
   "cell_type": "code",
   "execution_count": 35,
   "id": "06a62342-c52e-40db-bf2b-3e651361eda5",
   "metadata": {},
   "outputs": [
    {
     "name": "stdin",
     "output_type": "stream",
     "text": [
      " 5 8 3\n",
      " 2 4 5 4 6\n"
     ]
    },
    {
     "name": "stdout",
     "output_type": "stream",
     "text": [
      "46\n"
     ]
    }
   ],
   "source": [
    "n, m, k = map(int, input().split())\n",
    "data = list(map(int, input().split()))\n",
    "data.sort(reverse=True)\n",
    "\n",
    "result = 0\n",
    "\n",
    "# 가장 큰수가 더해지는 횟수 계산\n",
    "count = int(m/(k+1)) * k\n",
    "count += m % (k+1)\n",
    "\n",
    "result = count * data[0]\n",
    "result += (m - count) * data[1]\n",
    "\n",
    "print(result)"
   ]
  },
  {
   "cell_type": "markdown",
   "id": "51706a92-9620-48a4-8adb-d1b6469903ec",
   "metadata": {},
   "source": [
    "---"
   ]
  },
  {
   "cell_type": "markdown",
   "id": "ef49d157-950b-4ec2-8d8d-b5038959cb0c",
   "metadata": {},
   "source": [
    "### 실전 문제) 02.숫자 카드 게임"
   ]
  },
  {
   "cell_type": "markdown",
   "id": "0fd34dc6-fcdb-4961-9ffd-28ff05ae610e",
   "metadata": {},
   "source": [
    "숫자 카드 게임은 여러 개의 숫자 카드 중에서 가장 높은 숫자가 쓰인 카드 한 장을 뽑는 게임이다. \n",
    "\n",
    "1. 숫자가 쓰인 카드들이 N x M 형태로 놓여있다. 이때 N은 행의 개수를 의미하며, M은 열의 개수를 의미한다.\n",
    "2. 먼저 뽑고자 하는 카드가 포함되어 있는 행을 선택한다.\n",
    "3. 그 다음 선택된 행에 포함된 카드들 중 가장 숫자가 낮은 카드를 뽑아야 한다.\n",
    "4. 따라서 처음에 카드를 골라낼 행을 선택할 때, 이후에 해당 행에서 가장 숫자가 낮은 카드를 뽑을 것을 고려하여 최종적으로 가장 높은 숫자의 카드를 뽑을 수 있도록 전략을 세워야 한다."
   ]
  },
  {
   "cell_type": "markdown",
   "id": "6f2a8454-af8b-4689-b0ee-640affc94e3c",
   "metadata": {},
   "source": [
    "<pre>\n",
    "입력 예시1\n",
    "3 3\n",
    "3 1 2\n",
    "4 1 4\n",
    "2 2 2\n",
    "\n",
    "출력 예시 1\n",
    "2\n",
    "\n",
    "입력예시 2\n",
    "2 4 \n",
    "7 3 1 8\n",
    "3 3 3 4\n",
    "\n",
    "출력예시 2\n",
    "3\n",
    "</pre>"
   ]
  },
  {
   "cell_type": "code",
   "execution_count": 36,
   "id": "119c39d2-5a35-4082-b9af-cb3dda7d5160",
   "metadata": {},
   "outputs": [
    {
     "name": "stdin",
     "output_type": "stream",
     "text": [
      " 2 4\n",
      " 7 3 1 8\n",
      " 3 3 3 4\n"
     ]
    },
    {
     "name": "stdout",
     "output_type": "stream",
     "text": [
      "3\n"
     ]
    }
   ],
   "source": [
    "# min 함수를 이용하여 풀기\n",
    "n, m = map(int, input().split())\n",
    "result = 0\n",
    "\n",
    "# 한줄씩 입력\n",
    "for i in range(n):\n",
    "    data = list(map(int, input().split()))\n",
    "    # 가장 작은값 찾기\n",
    "    min_value = min(data)\n",
    "    # 가장 작은 수 중에서 큰 수 찾기\n",
    "    result = max(result, min_value)\n",
    "print(result)"
   ]
  },
  {
   "cell_type": "code",
   "execution_count": null,
   "id": "cadf20fb-190b-4ada-b16d-998b4a713bdc",
   "metadata": {},
   "outputs": [],
   "source": []
  }
 ],
 "metadata": {
  "kernelspec": {
   "display_name": "Python 3",
   "language": "python",
   "name": "python3"
  },
  "language_info": {
   "codemirror_mode": {
    "name": "ipython",
    "version": 3
   },
   "file_extension": ".py",
   "mimetype": "text/x-python",
   "name": "python",
   "nbconvert_exporter": "python",
   "pygments_lexer": "ipython3",
   "version": "3.8.8"
  }
 },
 "nbformat": 4,
 "nbformat_minor": 5
}
