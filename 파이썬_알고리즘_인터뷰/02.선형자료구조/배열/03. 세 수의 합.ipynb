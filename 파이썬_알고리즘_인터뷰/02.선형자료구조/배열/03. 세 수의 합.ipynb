{
 "cells": [
  {
   "cell_type": "markdown",
   "metadata": {},
   "source": [
    "## 03. 세 수의 합\n",
    "- 배열을 입력받아 합으로 0을 만들 수 있는 3개의 엘리먼트를 출력하라"
   ]
  },
  {
   "cell_type": "code",
   "execution_count": 12,
   "metadata": {},
   "outputs": [],
   "source": [
    "import time"
   ]
  },
  {
   "cell_type": "code",
   "execution_count": 1,
   "metadata": {},
   "outputs": [],
   "source": [
    "nums = [-1, 0, 1, 2, -1,-4]"
   ]
  },
  {
   "cell_type": "markdown",
   "metadata": {},
   "source": [
    "#### 01. 브루트 포스로 계산\n",
    "1. sort() 함수를 이용해 정렬한다.\n",
    "2. 중복된 값이 있는 경우 continue를 통해 건너뛴다."
   ]
  },
  {
   "cell_type": "code",
   "execution_count": 3,
   "metadata": {},
   "outputs": [
    {
     "data": {
      "text/plain": [
       "[-4, -1, -1, 0, 1, 2]"
      ]
     },
     "execution_count": 3,
     "metadata": {},
     "output_type": "execute_result"
    }
   ],
   "source": [
    "nums.sort()\n",
    "nums"
   ]
  },
  {
   "cell_type": "code",
   "execution_count": 4,
   "metadata": {},
   "outputs": [
    {
     "data": {
      "text/plain": [
       "[-4, -1, -1, 0, 1, 2]"
      ]
     },
     "execution_count": 4,
     "metadata": {},
     "output_type": "execute_result"
    }
   ],
   "source": [
    "sorted(nums)"
   ]
  },
  {
   "cell_type": "code",
   "execution_count": 13,
   "metadata": {},
   "outputs": [
    {
     "name": "stdout",
     "output_type": "stream",
     "text": [
      "time: 0.0002181529998779297\n",
      "[[-1, -1, 2], [-1, 0, 1]]\n"
     ]
    }
   ],
   "source": [
    "results = []\n",
    "nums.sort()\n",
    "\n",
    "# 브루트 포스 n^3 반복\n",
    "start_time = time.time()\n",
    "for i in range(len(nums) - 2):\n",
    "    # 중복된값 건너 뛰기\n",
    "    if i > 0 and nums[i] == nums[i-1]:\n",
    "        continue\n",
    "    for j in range(i+1,len(nums)-1):\n",
    "        if j > i+1 and nums[j] == nums[j-1]:\n",
    "            continue\n",
    "        for k in range(j+1,len(nums)):\n",
    "            if k > j+1 and nums[k] == nums[k-1]:\n",
    "                continue\n",
    "            if nums[i] + nums[j] + nums[k] == 0:\n",
    "                results.append([nums[i], nums[j], nums[k]])\n",
    "end_time = time.time()\n",
    "print('time:', end_time - start_time)                \n",
    "print(results)"
   ]
  },
  {
   "cell_type": "markdown",
   "metadata": {},
   "source": [
    "#### 02. 투 포인터로 합 계산\n",
    "- i를 축으로 하고, 중복된 값을 건너뜀\n",
    "- 투 포인터가 간격을 좁혀나가며 합 sum을 계산한다.\n",
    "- sum이 0보다 작다면 값을 더 키워야 하므로 left를 우측이동하고, 0보다 크다면 값을 더 작게하기 위해 right를 좌측으로 이동한다."
   ]
  },
  {
   "cell_type": "code",
   "execution_count": 10,
   "metadata": {},
   "outputs": [
    {
     "name": "stdout",
     "output_type": "stream",
     "text": [
      "[[-1, 0, 1]]\n"
     ]
    }
   ],
   "source": [
    "results = []\n",
    "nums.sort()\n",
    "\n",
    "for i in range(len(nums) - 2):\n",
    "    # 중복된 값 건너뛰기\n",
    "    if i> 0 and nums[i] == nums[i+1]:\n",
    "        continue\n",
    "        \n",
    "    # 간격을 좁혀가며 합 sum 계산\n",
    "    left, right = i + 1, len(nums) - 1\n",
    "    while left < right:\n",
    "        sum = nums[i] + nums[left] + nums[right]\n",
    "        if sum < 0:\n",
    "            left += 1\n",
    "        elif sum > 0:\n",
    "            right -= 1\n",
    "        else:\n",
    "            # sum = 0인 경우이므로 \n",
    "            results.append([nums[i], nums[left], nums[right]])\n",
    "            \n",
    "            while left < right and nums[left] == nums[left+1]:\n",
    "                left += 1\n",
    "            while left < right and nums[right] == nums[right - 1]:\n",
    "                right -= 1\n",
    "            left += 1\n",
    "            right -= 1\n",
    "            \n",
    "print(results)\n",
    "            "
   ]
  },
  {
   "cell_type": "markdown",
   "metadata": {},
   "source": [
    "#### 시간비교\n",
    "| 풀이 | 방식 | 실행 시간 |\n",
    "|---|:---:|---:|\n",
    "| 1 | 브루트 포스로 계산 | 타임아웃 |\n",
    "| 2 | 투 포인터로 합 계산 | 884밀리초 |\n",
    "\n",
    "\n"
   ]
  },
  {
   "cell_type": "code",
   "execution_count": null,
   "metadata": {},
   "outputs": [],
   "source": []
  }
 ],
 "metadata": {
  "kernelspec": {
   "display_name": "Python 3",
   "language": "python",
   "name": "python3"
  },
  "language_info": {
   "codemirror_mode": {
    "name": "ipython",
    "version": 3
   },
   "file_extension": ".py",
   "mimetype": "text/x-python",
   "name": "python",
   "nbconvert_exporter": "python",
   "pygments_lexer": "ipython3",
   "version": "3.8.5"
  }
 },
 "nbformat": 4,
 "nbformat_minor": 4
}
