{
 "cells": [
  {
   "cell_type": "markdown",
   "metadata": {},
   "source": [
    "## 문제설명\n",
    "- https://programmers.co.kr/learn/courses/30/lessons/1845"
   ]
  },
  {
   "cell_type": "markdown",
   "metadata": {},
   "source": [
    "### 알고리즘 구현방법\n",
    "1. 중복값 제거한 후 갯수\n",
    "2. N/2의 갯수\n",
    "3. 1과 2의 값 비교\n",
    "    - 1. 2의 값보다 1이 작은 경우 (1의 값 출력)\n",
    "    - 2. 2의 값보다 1이 큰 경우 (2의 값 출력)"
   ]
  },
  {
   "cell_type": "code",
   "execution_count": 8,
   "metadata": {
    "scrolled": true
   },
   "outputs": [
    {
     "data": {
      "text/plain": [
       "3"
      ]
     },
     "execution_count": 8,
     "metadata": {},
     "output_type": "execute_result"
    }
   ],
   "source": [
    "nums = [3,3,3,2,2,4]\n",
    "result = 0\n",
    "\n",
    "# 중복제거 (set)한 후 갯수 저장\n",
    "nums_count = len(set(nums))\n",
    "nums_half_len = len(nums)//2\n",
    "\n",
    "if nums_half_len >= nums_count:\n",
    "    result = nums_count\n",
    "elif nums_half_len < nums_count:\n",
    "    result = nums_half_len\n",
    "    \n",
    "result"
   ]
  },
  {
   "cell_type": "markdown",
   "metadata": {},
   "source": [
    "### 다른 사람 풀이"
   ]
  },
  {
   "cell_type": "code",
   "execution_count": 9,
   "metadata": {},
   "outputs": [],
   "source": [
    "def solution(nums):\n",
    "    return min(len(nums)//2, len(set(nums)))"
   ]
  },
  {
   "cell_type": "code",
   "execution_count": 10,
   "metadata": {},
   "outputs": [
    {
     "data": {
      "text/plain": [
       "3"
      ]
     },
     "execution_count": 10,
     "metadata": {},
     "output_type": "execute_result"
    }
   ],
   "source": [
    "nums = [3,3,3,2,2,4]\n",
    "solution(nums)"
   ]
  }
 ],
 "metadata": {
  "kernelspec": {
   "display_name": "Python 3",
   "language": "python",
   "name": "python3"
  },
  "language_info": {
   "codemirror_mode": {
    "name": "ipython",
    "version": 3
   },
   "file_extension": ".py",
   "mimetype": "text/x-python",
   "name": "python",
   "nbconvert_exporter": "python",
   "pygments_lexer": "ipython3",
   "version": "3.8.5"
  }
 },
 "nbformat": 4,
 "nbformat_minor": 4
}
