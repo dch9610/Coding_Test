{
 "cells": [
  {
   "cell_type": "markdown",
   "id": "b0262afa-ecbb-4c74-be70-8410a7fcb460",
   "metadata": {},
   "source": [
    "### 03. 로그 파일 재정렬"
   ]
  },
  {
   "cell_type": "markdown",
   "id": "8f9d788d-e74a-4af6-a50d-26dbdb9f30e0",
   "metadata": {},
   "source": [
    "1. 로그의 가장 앞 부분은 식별자다.\n",
    "2. 문자로 구성된 로그가 숫자 로그보다 앞에 온다.\n",
    "3. 식별자는 순서에 영향을 끼치지 않지만, 문자가 동일할 경우 식별자 순으로 한다.\n",
    "4. 숫자 로그는 입력 순서대로 한다."
   ]
  },
  {
   "cell_type": "markdown",
   "id": "d4177f39-b02d-4217-9e38-e0dd8405bc9c",
   "metadata": {},
   "source": [
    "#### 01. 람다와 + 연산자를 이용\n",
    "- 문자로 구성된 로그가 숫자 로그보다 이전에 오며, 숫자 로그는 입력 순서대로 둔다.\n",
    "- 문자와 숫자를 구분하고, 숫자는 나중에 그대로 이어 붙인다.\n",
    "- isdigit()을 이용해서 숫자 여부인지를 판볋해 구분한다."
   ]
  },
  {
   "cell_type": "code",
   "execution_count": 13,
   "id": "2aac7547-a08c-417a-84ee-cdfb5b4f392b",
   "metadata": {},
   "outputs": [],
   "source": [
    "logs = ['dig1 7 1 5 1', 'let1 art can', '333 111', 'dig3 4 5 3 1 2','dig3 dog 31 12 44']"
   ]
  },
  {
   "cell_type": "code",
   "execution_count": 14,
   "id": "eeb24966-b148-4f45-b96d-ac94c56e3f19",
   "metadata": {},
   "outputs": [
    {
     "name": "stdout",
     "output_type": "stream",
     "text": [
      "False\n",
      "False\n",
      "True\n",
      "False\n",
      "False\n"
     ]
    }
   ],
   "source": [
    "digits=[]\n",
    "letter=[]\n",
    "\n",
    "for log in logs:\n",
    "    print(log.split()[0].isdigit())\n",
    "    if log.split()[1].isdigit(): # 첫단어 숫자판별 여부\n",
    "        digits.append(log) # 숫자일경우 추가\n",
    "    else:\n",
    "        letter.append(log)"
   ]
  },
  {
   "cell_type": "code",
   "execution_count": 15,
   "id": "a44f258f-705a-4636-a830-14e00dfb53aa",
   "metadata": {},
   "outputs": [
    {
     "data": {
      "text/plain": [
       "['dig3 dog 31 12 44', 'let1 art can']"
      ]
     },
     "execution_count": 15,
     "metadata": {},
     "output_type": "execute_result"
    }
   ],
   "source": [
    "# 문자열 정렬\n",
    "# 식별자를 제외한 문자열 [1:]을 키로하여 정렬\n",
    "letter.sort()\n",
    "letter"
   ]
  },
  {
   "cell_type": "code",
   "execution_count": 16,
   "id": "ca1101ea-27bd-4bb4-97ed-7518bd193366",
   "metadata": {},
   "outputs": [
    {
     "data": {
      "text/plain": [
       "['let1 art can', 'dig3 dog 31 12 44']"
      ]
     },
     "execution_count": 16,
     "metadata": {},
     "output_type": "execute_result"
    }
   ],
   "source": [
    "# 문자열 정렬\n",
    "# 식별자를 제외한 문자열 [1:]을 키로하여 정렬\n",
    "letter.sort(key=lambda x: (x.split()[1:], x.split()[0]))\n",
    "letter"
   ]
  },
  {
   "cell_type": "code",
   "execution_count": null,
   "id": "d58d982b-585c-49a6-a50d-81e8fa926f96",
   "metadata": {},
   "outputs": [],
   "source": []
  },
  {
   "cell_type": "code",
   "execution_count": 17,
   "id": "387ef1d6-327b-4069-9aad-11d557796c2b",
   "metadata": {},
   "outputs": [],
   "source": [
    "from typing import List"
   ]
  },
  {
   "cell_type": "code",
   "execution_count": 10,
   "id": "6af757f9-1200-4beb-8a93-6d3f3b52da86",
   "metadata": {},
   "outputs": [],
   "source": [
    "def reorderLogFile(self, logs:List[str]):\n",
    "    letters, digits = [], []\n",
    "    for log in logs:\n",
    "        if logs.split()[1].isdigit():\n",
    "            digits.append(log)\n",
    "        else:\n",
    "            digits.append(log)\n",
    "        \n",
    "    # 2개의 키를 람다 표현식으로 정렬\n",
    "    letters.sort(key=lambda x: (x.split()[1:], x.split()[0]))\n",
    "    return letters + digits"
   ]
  },
  {
   "cell_type": "code",
   "execution_count": 11,
   "id": "0e84a931-79dc-47aa-8440-0f8c01dc0f0f",
   "metadata": {},
   "outputs": [],
   "source": [
    "logs = ['dig1 7 1 5 1', 'let1 art can', '333 111', 'dig3 4 5 3 1 2','dig3 dog 31 12 44']"
   ]
  },
  {
   "cell_type": "code",
   "execution_count": 12,
   "id": "1f70737d-7bee-4443-95fb-a1b61c239f6f",
   "metadata": {},
   "outputs": [
    {
     "ename": "TypeError",
     "evalue": "reorderLogFile() missing 1 required positional argument: 'logs'",
     "output_type": "error",
     "traceback": [
      "\u001b[1;31m---------------------------------------------------------------------------\u001b[0m",
      "\u001b[1;31mTypeError\u001b[0m                                 Traceback (most recent call last)",
      "\u001b[1;32m<ipython-input-12-e4fc7fd3896b>\u001b[0m in \u001b[0;36m<module>\u001b[1;34m\u001b[0m\n\u001b[1;32m----> 1\u001b[1;33m \u001b[0mreorderLogFile\u001b[0m\u001b[1;33m(\u001b[0m\u001b[0mlogs\u001b[0m\u001b[1;33m)\u001b[0m\u001b[1;33m\u001b[0m\u001b[1;33m\u001b[0m\u001b[0m\n\u001b[0m",
      "\u001b[1;31mTypeError\u001b[0m: reorderLogFile() missing 1 required positional argument: 'logs'"
     ]
    }
   ],
   "source": [
    "reorderLogFile(logs)"
   ]
  },
  {
   "cell_type": "code",
   "execution_count": null,
   "id": "12c4b592-37e0-4611-8241-1f78d1ed128f",
   "metadata": {},
   "outputs": [],
   "source": []
  }
 ],
 "metadata": {
  "kernelspec": {
   "display_name": "Python 3",
   "language": "python",
   "name": "python3"
  },
  "language_info": {
   "codemirror_mode": {
    "name": "ipython",
    "version": 3
   },
   "file_extension": ".py",
   "mimetype": "text/x-python",
   "name": "python",
   "nbconvert_exporter": "python",
   "pygments_lexer": "ipython3",
   "version": "3.8.8"
  }
 },
 "nbformat": 4,
 "nbformat_minor": 5
}
