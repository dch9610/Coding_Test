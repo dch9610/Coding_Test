{
 "cells": [
  {
   "cell_type": "markdown",
   "metadata": {},
   "source": [
    "## 문제\n",
    "봄캠프를 마친 김진영 조교는 여러 도시를 돌며 여행을 다닐 계획이다. 그런데 김 조교는, '느림의 미학'을 중요시하는 사람이라 항상 최단경로로만 이동하는 것은 별로 좋아하지 않는다. 하지만 너무 시간이 오래 걸리는 경로도 그리 매력적인 것만은 아니어서, 적당한 타협안인 'k번째 최단경로'를 구하길 원한다. 그를 돕기 위한 프로그램을 작성해 보자."
   ]
  },
  {
   "cell_type": "markdown",
   "metadata": {},
   "source": [
    "## 입력\n",
    "첫째 줄에 n, m, k가 주어진다. (1 ≤ n ≤ 1000, 0 ≤ m ≤ 2000000, 1 ≤ k ≤ 100) n과 m은 각각 김 조교가 여행을 고려하고 있는 도시들의 개수와, 도시 간에 존재하는 도로의 수이다.\n",
    "\n",
    "이어지는 m개의 줄에는 각각 도로의 정보를 제공하는 세 개의 정수 a, b, c가 포함되어 있다. 이것은 a번 도시에서 b번 도시로 갈 때는 c의 시간이 걸린다는 의미이다. (1 ≤ a, b ≤ n. 1 ≤ c ≤ 1000)\n",
    "\n",
    "도시의 번호는 1번부터 n번까지 연속하여 붙어 있으며, 1번 도시는 시작도시이다."
   ]
  },
  {
   "cell_type": "markdown",
   "metadata": {},
   "source": [
    "## 출력\n",
    "n개의 줄을 출력한다. i번째 줄에 1번 도시에서 i번 도시로 가는 k번째 최단경로의 소요시간을 출력한다.\n",
    "\n",
    "경로의 소요시간은 경로 위에 있는 도로들을 따라 이동하는데 필요한 시간들의 합이다. i번 도시에서 i번 도시로 가는 최단경로는 0이지만, 일반적인 k번째 최단경로는 0이 아닐 수 있음에 유의한다. 또, k번째 최단경로가 존재하지 않으면 -1을 출력한다. 최단경로에 같은 정점이 여러 번 포함되어도 된다."
   ]
  },
  {
   "cell_type": "markdown",
   "metadata": {},
   "source": [
    "<pre>\n",
    "5 10 2\n",
    "1 2 2\n",
    "1 3 7\n",
    "1 4 5\n",
    "1 5 6\n",
    "2 4 2\n",
    "2 3 4\n",
    "3 4 6\n",
    "3 5 8\n",
    "5 2 4\n",
    "5 4 1\n",
    "\n",
    "\n",
    "-1\n",
    "10\n",
    "7\n",
    "5\n",
    "14\n",
    "</pre>"
   ]
  },
  {
   "cell_type": "markdown",
   "metadata": {},
   "source": [
    "---"
   ]
  },
  {
   "cell_type": "markdown",
   "metadata": {},
   "source": [
    "### 다익스트라 알고리즘"
   ]
  },
  {
   "cell_type": "code",
   "execution_count": 3,
   "metadata": {},
   "outputs": [
    {
     "name": "stdin",
     "output_type": "stream",
     "text": [
      " ㅇ\n"
     ]
    },
    {
     "ename": "ValueError",
     "evalue": "invalid literal for int() with base 10: 'ㅇ'",
     "output_type": "error",
     "traceback": [
      "\u001b[1;31m---------------------------------------------------------------------------\u001b[0m",
      "\u001b[1;31mValueError\u001b[0m                                Traceback (most recent call last)",
      "\u001b[1;32m<ipython-input-3-4d724d30bade>\u001b[0m in \u001b[0;36m<module>\u001b[1;34m\u001b[0m\n\u001b[0;32m      4\u001b[0m \u001b[1;33m\u001b[0m\u001b[0m\n\u001b[0;32m      5\u001b[0m \u001b[1;31m# 노드의 개수, 간선의 개수 입력받기\u001b[0m\u001b[1;33m\u001b[0m\u001b[1;33m\u001b[0m\u001b[1;33m\u001b[0m\u001b[0m\n\u001b[1;32m----> 6\u001b[1;33m \u001b[0mn\u001b[0m\u001b[1;33m,\u001b[0m \u001b[0mm\u001b[0m \u001b[1;33m=\u001b[0m \u001b[0mmap\u001b[0m\u001b[1;33m(\u001b[0m\u001b[0mint\u001b[0m\u001b[1;33m,\u001b[0m \u001b[0minput\u001b[0m\u001b[1;33m(\u001b[0m\u001b[1;33m)\u001b[0m\u001b[1;33m.\u001b[0m\u001b[0msplit\u001b[0m\u001b[1;33m(\u001b[0m\u001b[1;33m)\u001b[0m\u001b[1;33m)\u001b[0m\u001b[1;33m\u001b[0m\u001b[1;33m\u001b[0m\u001b[0m\n\u001b[0m\u001b[0;32m      7\u001b[0m \u001b[1;33m\u001b[0m\u001b[0m\n\u001b[0;32m      8\u001b[0m \u001b[1;31m# 시작 노드 번호 입력받기\u001b[0m\u001b[1;33m\u001b[0m\u001b[1;33m\u001b[0m\u001b[1;33m\u001b[0m\u001b[0m\n",
      "\u001b[1;31mValueError\u001b[0m: invalid literal for int() with base 10: 'ㅇ'"
     ]
    }
   ],
   "source": [
    "import heapq\n",
    "\n",
    "INF = int(1e9) # 무한을 의미하는 값\n",
    "\n",
    "# 노드의 개수, 간선의 개수 입력받기\n",
    "n, m = map(int, input().split())\n",
    "\n",
    "# 시작 노드 번호 입력받기\n",
    "start = int(input())\n",
    "# 각 노드에 연결되어 있는 노드에 대한 정보를 담는 리스트 만들기\n",
    "graph = [[] for i in range(n+1)]\n",
    "# 최단 거리 테이블을 모두 무한으로 초기화\n",
    "distance = [INF] * (n+1)\n",
    "\n",
    "# 모든 간선 정보를 입력받기\n",
    "for _ in range(m):\n",
    "    a, b, c = map(int, input().split())\n",
    "    # a번 노드에서 b번 노드로 가는 비용이 c라는 의미\n",
    "    graph[a].append((b,c))\n",
    "\n",
    "# print(graph)\n",
    "\n",
    "def dijkstra(start):\n",
    "    q = []\n",
    "    # 시작 노드로 가기 위한 최단 경로를 0으로 설정 후 큐에 삽입\n",
    "    \n",
    "    heapq.heappush(q, (0,start))\n",
    "    distance[start] = 0\n",
    "    while q: # 큐가 비어있지 않다면\n",
    "        # 가장 최단 거리가 짧은 노드에 대한 정보 꺼내기\n",
    "        dist, now = heapq.heappop(q)\n",
    "        # 현재 노드가 이미 처리된 적이 있는 노드라면 무시\n",
    "        if distance[now] < dist:\n",
    "            continue\n",
    "        # 현재 노드와 연결된 다른 인접 노드들을 확인\n",
    "        for i in graph[now]:\n",
    "            cost = dist + i[1]\n",
    "            # 현재 노드를 거쳐서, 다른 노드로 이동하는 거리가 더 짧은 경우\n",
    "            if cost < distance[i[0]]:\n",
    "                distance[i[0]] = cost\n",
    "                heapq.heappush(q, (cost, i[0]))\n",
    "                \n",
    "# 알고리즘 수행\n",
    "dijkstra(start)\n",
    "\n",
    "# 모든 노드로 가기 위한 최단 거리를 출력\n",
    "for i in range(1, n+1):\n",
    "    # 도달할 수 없는 경우, -1로 출력\n",
    "    if distance[i] == INF:\n",
    "        print('-1')\n",
    "        \n",
    "    # 도달할 수 있는 경우\n",
    "    else:\n",
    "        print(distance[i])"
   ]
  },
  {
   "cell_type": "markdown",
   "metadata": {},
   "source": [
    "---"
   ]
  },
  {
   "cell_type": "code",
   "execution_count": 3,
   "metadata": {},
   "outputs": [
    {
     "name": "stdin",
     "output_type": "stream",
     "text": [
      " 1 2 2\n",
      " 1 3 7\n",
      " 1 4 5\n",
      " 1 5 6\n",
      " 2 4 2\n",
      " 2 3 4\n",
      " 3 4 6\n",
      " 3 5 8\n",
      " 5 2 4\n",
      " 5 4 1\n"
     ]
    },
    {
     "name": "stdout",
     "output_type": "stream",
     "text": [
      "[[], [(2, 2), (3, 7), (4, 5), (5, 6)], [(4, 2), (3, 4)], [(4, 6), (5, 8)], [], [(2, 4), (4, 1)]]\n"
     ]
    }
   ],
   "source": [
    "### 각 노드에 연결되어 있는 노드에 대한 정보를 담는 리스트 만들기\n",
    "\n",
    "graph = [[] for i in range(5+1)]\n",
    "# 최단 거리 테이블을 2차원 배열로 만들어서 담기\n",
    "# distance = [[INF]*(k+1) for i in range(n+1)]\n",
    "\n",
    "# 모든 간선 정보를 입력받기\n",
    "for _ in range(10):\n",
    "    a, b, c = map(int, input().split())\n",
    "    # a번 노드에서 b번 노드로 가는 비용이 c라는 의미\n",
    "    graph[a].append((b,c))\n",
    "print(graph)"
   ]
  },
  {
   "cell_type": "code",
   "execution_count": 9,
   "metadata": {},
   "outputs": [
    {
     "name": "stdout",
     "output_type": "stream",
     "text": [
      "0 1\n"
     ]
    },
    {
     "data": {
      "text/plain": [
       "[(0, 2)]"
      ]
     },
     "execution_count": 9,
     "metadata": {},
     "output_type": "execute_result"
    }
   ],
   "source": [
    "q = []\n",
    "# 시작 노드로 가기 위한 최단 경로를 0으로 설정 후 큐에 삽입\n",
    "\n",
    "heapq.heappush(q, (0,1))\n",
    "heapq.heappush(q, (0,2))\n",
    "\n",
    "a, b = heapq.heappop(q)\n",
    "print(a,b)\n",
    "q"
   ]
  },
  {
   "cell_type": "code",
   "execution_count": 18,
   "metadata": {},
   "outputs": [
    {
     "data": {
      "text/plain": [
       "[[1000000000, 1000000000, 1000000000],\n",
       " [1000000000, 1000000000, 1000000000],\n",
       " [1000000000, 1000000000, 1000000000],\n",
       " [1000000000, 1000000000, 1000000000],\n",
       " [4, 6, 8],\n",
       " [1000000000, 1000000000, 1000000000]]"
      ]
     },
     "execution_count": 18,
     "metadata": {},
     "output_type": "execute_result"
    }
   ],
   "source": [
    "INF = int(1e9) # 무한을 의미하는 값\n",
    "# 최단 거리 테이블을 2차원 배열로 만들어서 담기\n",
    "distance = [[INF]*(2+1) for i in range(5+1)]\n",
    "distance[4][2] = 4\n",
    "distance[4] = sorted(distance[4])\n",
    "if distance[4][2] > 4:\n",
    "    distance[4][2] = 6\n",
    "    distance[4] = sorted(distance[4])\n",
    "    \n",
    "if distance[4][2] > 4:\n",
    "    distance[4][2] = 7\n",
    "    distance[4] = sorted(distance[4])\n",
    "\n",
    "if distance[4][2] > 4:\n",
    "    distance[4][2] = 8\n",
    "    distance[4] = sorted(distance[4])\n",
    "distance\n"
   ]
  },
  {
   "cell_type": "markdown",
   "metadata": {},
   "source": [
    "---"
   ]
  },
  {
   "cell_type": "code",
   "execution_count": 16,
   "metadata": {},
   "outputs": [
    {
     "name": "stdin",
     "output_type": "stream",
     "text": [
      " 5 10 1\n",
      " 1 2 2\n",
      " 1 3 7\n",
      " 1 4 5\n",
      " 1 5 6\n",
      " 2 4 2\n",
      " 2 3 4\n",
      " 3 4 6\n",
      " 3 5 8\n",
      " 5 2 4\n",
      " 5 4 1\n"
     ]
    },
    {
     "name": "stdout",
     "output_type": "stream",
     "text": [
      "0\n",
      "2\n",
      "6\n",
      "4\n",
      "6\n"
     ]
    }
   ],
   "source": [
    "import heapq\n",
    "\n",
    "INF = int(1e9) # 무한을 의미하는 값\n",
    "\n",
    "# 노드의 개수, 간선의 개수 입력받기\n",
    "n, m, k = map(int, input().split())\n",
    "\n",
    "# 각 노드에 연결되어 있는 노드에 대한 정보를 담는 리스트 만들기\n",
    "graph = [[] for i in range(n+1)]\n",
    "# 최단 거리 테이블을 2차원 배열로 만들어서 담기\n",
    "distance = [[INF]*(k+1) for i in range(n+1)]\n",
    "\n",
    "# 모든 간선 정보를 입력받기\n",
    "for _ in range(m):\n",
    "    a, b, c = map(int, input().split())\n",
    "    # a번 노드에서 b번 노드로 가는 비용이 c라는 의미\n",
    "    graph[a].append((b,c))\n",
    "\n",
    "# print(graph)\n",
    "\n",
    "def dijkstra():\n",
    "    q = []\n",
    "    # 최단 경로를 0으로 설정 후 큐에 삽입\n",
    "    heapq.heappush(q, (0,1))\n",
    "    \n",
    "    #  1번 도시에서 1번 도시로 가는 최단경로는 0\n",
    "    distance[1][0] = 0\n",
    "    \n",
    "    while q: # 큐가 비어있지 않다면\n",
    "        # 노드에 대한 정보 꺼내기\n",
    "        dist, now = heapq.heappop(q)\n",
    "        \n",
    "        for next, cost in graph[now]:\n",
    "            # distance 2차원 배열에 k번째 최단거리 데이터 넣기 \n",
    "            if distance[next][k] > dist + cost: \n",
    "                distance[next][k] = dist + cost # 값이 더 큰 경우 dist + cost 값으로 대체 \n",
    "                distance[next] = sorted(distance[next]) # 대체한 값이 앞으로 오게 값 정렬 (INF)\n",
    "                heapq.heappush(q,(dist + cost,next)) \n",
    "       \n",
    "\n",
    "\n",
    "        \n",
    "# 알고리즘 수행\n",
    "dijkstra()\n",
    "\n",
    "# 모든 노드로 가기 위한 최단 거리를 출력\n",
    "for _ in range(1, n+1):\n",
    "    # 갈 수 없는 경우는 -1로 출력\n",
    "    if distance[_][k-1] == INF: # 0부터 시작하기 때문에 -1\n",
    "        print('-1')\n",
    "        \n",
    "    # 도달할 수 있는 경우\n",
    "    else:\n",
    "        print(distance[_][k-1])"
   ]
  }
 ],
 "metadata": {
  "kernelspec": {
   "display_name": "Python 3",
   "language": "python",
   "name": "python3"
  },
  "language_info": {
   "codemirror_mode": {
    "name": "ipython",
    "version": 3
   },
   "file_extension": ".py",
   "mimetype": "text/x-python",
   "name": "python",
   "nbconvert_exporter": "python",
   "pygments_lexer": "ipython3",
   "version": "3.8.8"
  }
 },
 "nbformat": 4,
 "nbformat_minor": 4
}
