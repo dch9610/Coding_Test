{
 "cells": [
  {
   "cell_type": "markdown",
   "id": "af9f5132-96fc-49ba-997c-2bf813bd64e4",
   "metadata": {},
   "source": [
    "### 페어의 노드 스왑\n",
    "- 연결 리스트를 입력 받아 페어(2개씩) 단위로 스왑하라 <br>\n",
    "리트코드 24"
   ]
  },
  {
   "cell_type": "markdown",
   "id": "6c4b33fe-df9e-4bb7-a40d-bc51a7824207",
   "metadata": {},
   "source": [
    "#### 풀이) 01. 값만 교환\n",
    "- 연결 리스트의 노드를 변경하는 게 아닌, 노드 구조는 그대로 유지하되 값만 변경하는 방법"
   ]
  },
  {
   "cell_type": "markdown",
   "id": "c07eeae4-3b06-40f0-acb4-aa6b4dd0e5a2",
   "metadata": {},
   "source": [
    "<pre>\n",
    "class Solution:\n",
    "    def swapPairs(self, head: Optional[ListNode]) -> Optional[ListNode]:\n",
    "        cur = head\n",
    "        \n",
    "        while cur and cur.next:\n",
    "            # 값만 교화\n",
    "            cur.val, cur.next.val = cur.next.val, cur.val\n",
    "            cur = cur.next.next\n",
    "            \n",
    "        return head\n",
    "            \n",
    "</pre>"
   ]
  },
  {
   "cell_type": "markdown",
   "id": "045e2050-7463-460d-97a8-80651352c97f",
   "metadata": {},
   "source": [
    "변칙적인 풀이 방법이므로, 만약 코딩 테스트 이후 코드 리뷰를 진행하면 좋지 않은 피드백을 받을 가능성이 있다. 그렇기에 빨리 풀기위한 방법이라는 사실을 어필해야한다."
   ]
  },
  {
   "cell_type": "markdown",
   "id": "1e3eb10f-d1d5-4b69-a551-12861c4f6655",
   "metadata": {},
   "source": [
    "---"
   ]
  },
  {
   "cell_type": "markdown",
   "id": "8b177a19-eddf-438b-99f7-bd88fe8241d0",
   "metadata": {},
   "source": [
    "#### 풀이) 02. 반복 구조로 스왑"
   ]
  },
  {
   "cell_type": "markdown",
   "id": "43ee6452-c4a0-4eb5-910f-d6b33aee0d6d",
   "metadata": {},
   "source": [
    "<pre>\n",
    "class Solution:\n",
    "    def swapPairs(self, head: Optional[ListNode]) -> Optional[ListNode]:\n",
    "        root = prev = ListNode(None)\n",
    "        prev.next = head\n",
    "    \n",
    "        while head and head.next:\n",
    "            # b가 a(head)를 가리키도록 할당\n",
    "            b = head.next\n",
    "            head.next = b.next\n",
    "            b.next = head\n",
    "            \n",
    "            # prev가 b를 가리키도록 할당\n",
    "            prev.next = b\n",
    "            \n",
    "            # 다음번 비교를 위해 이동\n",
    "            head = head.next\n",
    "            prev = prev.next.next\n",
    "            \n",
    "        return root.next\n",
    "</pre>"
   ]
  },
  {
   "cell_type": "markdown",
   "id": "2b6d4fa0-0ba4-408f-a39a-3e0bae6ddc26",
   "metadata": {},
   "source": [
    "연결 리스트의 head를 가리키는 노드가 직접 바뀌는 풀이이므로 head를 리턴하지 못하고 그 이전 값을 root로 별도로 설정한 다음 root.next를 리턴하게 함"
   ]
  },
  {
   "cell_type": "markdown",
   "id": "14cc0841-a6db-42e9-8bd1-df763ae799d9",
   "metadata": {},
   "source": [
    "---"
   ]
  },
  {
   "cell_type": "markdown",
   "id": "2bd13854-a061-4679-9bbb-201810616171",
   "metadata": {},
   "source": [
    "#### 풀이) 03.재귀 구조로 스왑"
   ]
  },
  {
   "cell_type": "markdown",
   "id": "aceae467-271d-4189-9bfc-254952fd043b",
   "metadata": {},
   "source": [
    "<pre>\n",
    "class Solution:\n",
    "    def swapPairs(self, head: Optional[ListNode]) -> Optional[ListNode]:\n",
    "        if head and head.next:\n",
    "            p = head.next\n",
    "            # 스왑된 값 리턴 받음\n",
    "            head.next = self.swapPairs(p.next)\n",
    "            p.next = head\n",
    "            return p\n",
    "        return head\n",
    "</pre>"
   ]
  },
  {
   "cell_type": "markdown",
   "id": "f07ea798-0201-4919-b44f-2f410fb20fe3",
   "metadata": {},
   "source": [
    "재귀 풀이 방식은 불필요한 변수를 사용하지 않아 공간 복잡도가 낮으면서, 빈틈 없는 코드 구조를 지니고 있다"
   ]
  }
 ],
 "metadata": {
  "kernelspec": {
   "display_name": "Python 3",
   "language": "python",
   "name": "python3"
  },
  "language_info": {
   "codemirror_mode": {
    "name": "ipython",
    "version": 3
   },
   "file_extension": ".py",
   "mimetype": "text/x-python",
   "name": "python",
   "nbconvert_exporter": "python",
   "pygments_lexer": "ipython3",
   "version": "3.8.8"
  }
 },
 "nbformat": 4,
 "nbformat_minor": 5
}
