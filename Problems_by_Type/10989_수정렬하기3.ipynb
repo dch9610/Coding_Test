{
 "cells": [
  {
   "cell_type": "markdown",
   "metadata": {},
   "source": [
    "## 문제설명\n",
    "문제 제목 : 수 정렬하기3 10989 <br>\n",
    "문제 난이도 : 하 <br>\n",
    "문제 유형 : 정렬"
   ]
  },
  {
   "cell_type": "markdown",
   "metadata": {},
   "source": [
    "### 문제\n",
    "N개의 수가 주어졌을 때, 이를 오름차순으로 정렬하는 프로그램을 작성하시오."
   ]
  },
  {
   "cell_type": "markdown",
   "metadata": {},
   "source": [
    "### 입력\n",
    "첫째 줄에 수의 개수 N(1 ≤ N ≤ 10,000,000)이 주어진다. 둘째 줄부터 N개의 줄에는 숫자가 주어진다. 이 수는 10,000보다 작거나 같은 자연수이다.\n",
    "\n"
   ]
  },
  {
   "cell_type": "markdown",
   "metadata": {},
   "source": [
    "### 출력\n",
    "첫째 줄부터 N개의 줄에 오름차순으로 정렬한 결과를 한 줄에 하나씩 출력한다."
   ]
  },
  {
   "cell_type": "markdown",
   "metadata": {},
   "source": [
    "### 핵심 아이디어\n",
    "1. 시간 복잡도 O(N)의 정렬 알고리즘을 이용\n",
    "2. 1 ~ 10,000이므로 계수 정렬을 이용\n",
    "     - 배열의 인덱스를 특정한 데이터의 값으로 여기는 정렬방법\n",
    "     - 배열의 크기는 데이터의 범위를 포함할 수 있도록 설정\n",
    "     \n",
    "- 유의사항 : 데이터의 개수가 많을때 sys.stdin.readline()을 사용"
   ]
  },
  {
   "cell_type": "markdown",
   "metadata": {},
   "source": [
    "### 계수 정렬 알고리즘\n",
    "- 배열의 인덱스를 특정한 데이터의 값으로 여기는 정렬방법\n",
    "- 배열의 크기는 데이터의 범위를 포함할 수 있도록 설정\n",
    "- 데이터가 등장한 횟수를 셉니다"
   ]
  },
  {
   "cell_type": "markdown",
   "metadata": {},
   "source": [
    "---"
   ]
  },
  {
   "cell_type": "code",
   "execution_count": 2,
   "metadata": {},
   "outputs": [],
   "source": [
    "# sys.stdin.readline() 주피터 환경에서 에러가 발생\n",
    "import sys\n",
    "\n",
    "n = int(sys.stdin.readline())\n",
    "# 데이터의 범위를 포함할 수 있도록 설정 (10000)\n",
    "array = [0] * 10001\n",
    "\n",
    "for _ in range(n):\n",
    "    data = int(sys.stdin.readline())\n",
    "    # 계수 정렬\n",
    "    # 데이터가 들어오면 해당 인덱스에 맞는 값이 하나씩 증가\n",
    "    array[data] += 1\n",
    "\n",
    "for i in range(10001):\n",
    "    # 해당 array에 값이 0이 아니라면\n",
    "    if array[i] != 0:\n",
    "        # 해당 숫자가 몇번 나왔는지 출력\n",
    "        for j in range(array[i]):\n",
    "            print(i)"
   ]
  },
  {
   "cell_type": "code",
   "execution_count": null,
   "metadata": {},
   "outputs": [],
   "source": []
  },
  {
   "cell_type": "code",
   "execution_count": null,
   "metadata": {},
   "outputs": [],
   "source": []
  },
  {
   "cell_type": "code",
   "execution_count": null,
   "metadata": {},
   "outputs": [],
   "source": []
  },
  {
   "cell_type": "code",
   "execution_count": 10,
   "metadata": {},
   "outputs": [
    {
     "name": "stdout",
     "output_type": "stream",
     "text": [
      "5\n",
      "1\n",
      "1\n",
      "2\n",
      "2\n",
      "3\n",
      "0\n",
      "1\n",
      "0\n",
      "1\n",
      "0\n"
     ]
    }
   ],
   "source": [
    "import sys\n",
    "\n",
    "# 시간초과\n",
    "n = int(input())\n",
    "# 데이터의 범위를 포함할 수 있도록 설정\n",
    "# [0, 0, 0, 0 ....]\n",
    "array = [0] * 10001\n",
    "\n",
    "for i in range(n):\n",
    "    data = int(input())\n",
    "    # 계수 정렬\n",
    "    # 데이터가 들어오면 해당 인덱스에 맞는 값이 하나씩 증가\n",
    "    array[data] += 1\n",
    "\n",
    "# print(array)\n",
    "# print('-'*20)\n",
    "    \n",
    "# 출력부분\n",
    "for i in range(10001):\n",
    "    if array[i] != 0:\n",
    "        for j in range(array[i]):\n",
    "            print(j)"
   ]
  }
 ],
 "metadata": {
  "kernelspec": {
   "display_name": "Python 3",
   "language": "python",
   "name": "python3"
  },
  "language_info": {
   "codemirror_mode": {
    "name": "ipython",
    "version": 3
   },
   "file_extension": ".py",
   "mimetype": "text/x-python",
   "name": "python",
   "nbconvert_exporter": "python",
   "pygments_lexer": "ipython3",
   "version": "3.8.5"
  }
 },
 "nbformat": 4,
 "nbformat_minor": 4
}
