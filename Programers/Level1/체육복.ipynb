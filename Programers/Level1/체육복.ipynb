{
 "cells": [
  {
   "cell_type": "markdown",
   "metadata": {},
   "source": [
    "## 문제설명\n",
    "- https://programmers.co.kr/learn/courses/30/lessons/42862"
   ]
  },
  {
   "cell_type": "markdown",
   "metadata": {},
   "source": [
    "### 알고리즘 구현"
   ]
  },
  {
   "cell_type": "markdown",
   "metadata": {},
   "source": [
    "1. 동일한 값을 가지는 값 제거 (중복여부 제거)\n",
    "     - set을 이용하여 차집합 적용\n",
    "     -  C = list(set(A) - set(B)) # 리스트로 감싸는 이유는 remove를 하기 위함\n",
    "     \n",
    "     \n",
    "2. reserve 값의 반복문으로 실행하여 -1, +1의 조건에 맞으면 lost에서 제거\n",
    "    - i-1 in lost:  lost.remove(i-1)\n",
    "    \n",
    "    \n",
    "3. 전체 학생 수에서 lost의 갯수만큼 빼기"
   ]
  },
  {
   "cell_type": "code",
   "execution_count": 9,
   "metadata": {},
   "outputs": [
    {
     "name": "stdout",
     "output_type": "stream",
     "text": [
      "2\n"
     ]
    }
   ],
   "source": [
    "n = 3\n",
    "lost = [3]\n",
    "reserve = [1]\n",
    "\n",
    "for i in reserve:\n",
    "    if i-1 in lost:\n",
    "        lost.remove(i-1)\n",
    "    elif i+1 in lost:\n",
    "        lost.remove(i+1)\n",
    "        \n",
    "print(n - len(lost))"
   ]
  },
  {
   "cell_type": "code",
   "execution_count": 86,
   "metadata": {},
   "outputs": [],
   "source": [
    "def solution(n, lost, reserve):\n",
    "    # 1.\n",
    "    losts = list(set(lost) - set(reserve))\n",
    "    reserves = list(set(reserve) - set(lost))\n",
    "\n",
    "    # 2.\n",
    "    for i in reserves:\n",
    "        if i-1 in losts:\n",
    "            losts.remove(i-1)\n",
    "        elif i+1 in losts:\n",
    "            losts.remove(i+1)\n",
    "    # 3.\n",
    "    answer = n - len(losts)\n",
    "    return answer"
   ]
  },
  {
   "cell_type": "code",
   "execution_count": 84,
   "metadata": {
    "scrolled": true
   },
   "outputs": [
    {
     "name": "stdout",
     "output_type": "stream",
     "text": [
      "[5] [2]\n"
     ]
    }
   ],
   "source": [
    "lost = [3,4,5]\n",
    "reserve = [3,4,2]\n",
    "reserves = [3,4,2]\n",
    "\n",
    "# for i in reserve:\n",
    "#     print(i)\n",
    "#     if i in lost:\n",
    "#         lost.remove(i)\n",
    "#         reserve.remove(i)\n",
    "        \n",
    "losts = list(set(lost) - set(reserve))\n",
    "reserves = list(set(reserve) - set(lost))\n",
    "print(losts, reserves)"
   ]
  },
  {
   "cell_type": "code",
   "execution_count": 89,
   "metadata": {},
   "outputs": [
    {
     "data": {
      "text/plain": [
       "2"
      ]
     },
     "execution_count": 89,
     "metadata": {},
     "output_type": "execute_result"
    }
   ],
   "source": [
    "n = 3\n",
    "lost = [3]\n",
    "reserve = [1]\n",
    "\n",
    "solution(n, lost, reserve)"
   ]
  },
  {
   "cell_type": "markdown",
   "metadata": {},
   "source": [
    "---"
   ]
  },
  {
   "cell_type": "markdown",
   "metadata": {},
   "source": [
    "### 다른 사람의 풀이"
   ]
  },
  {
   "cell_type": "code",
   "execution_count": 88,
   "metadata": {},
   "outputs": [],
   "source": [
    "def solution(n, lost, reserve):\n",
    "    _reserve = [x for x in reserve if x not in lost]\n",
    "    _lost = [y for y in lost if y not in reserve]\n",
    "    \n",
    "    for i in _reserve:\n",
    "        if i-1 in _lost:\n",
    "            _lost.remove(i-1)\n",
    "        elif i+1 in _lost:\n",
    "            _lost.remove(i+1)\n",
    "    \n",
    "    return n - len(_lost)"
   ]
  },
  {
   "cell_type": "code",
   "execution_count": 90,
   "metadata": {},
   "outputs": [
    {
     "data": {
      "text/plain": [
       "2"
      ]
     },
     "execution_count": 90,
     "metadata": {},
     "output_type": "execute_result"
    }
   ],
   "source": [
    "n = 3\n",
    "lost = [3]\n",
    "reserve = [1]\n",
    "\n",
    "solution(n, lost, reserve)"
   ]
  }
 ],
 "metadata": {
  "kernelspec": {
   "display_name": "Python 3",
   "language": "python",
   "name": "python3"
  },
  "language_info": {
   "codemirror_mode": {
    "name": "ipython",
    "version": 3
   },
   "file_extension": ".py",
   "mimetype": "text/x-python",
   "name": "python",
   "nbconvert_exporter": "python",
   "pygments_lexer": "ipython3",
   "version": "3.8.5"
  }
 },
 "nbformat": 4,
 "nbformat_minor": 4
}
