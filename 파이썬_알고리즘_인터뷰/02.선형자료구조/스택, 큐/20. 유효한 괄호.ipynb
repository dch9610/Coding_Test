{
 "cells": [
  {
   "cell_type": "markdown",
   "id": "63d030db-c28c-474e-a7e0-bf3fcb236188",
   "metadata": {},
   "source": [
    "## 20.유효한 괄호\n",
    "- 괄호로 된 입력값이 올바른지 판별하라. <br>\n",
    "리트코드 20"
   ]
  },
  {
   "cell_type": "markdown",
   "id": "431c79a5-bf8f-470c-b102-e0cc937ae770",
   "metadata": {},
   "source": [
    "---"
   ]
  },
  {
   "cell_type": "markdown",
   "id": "bb1b6234-5db8-4ad5-b04d-779201f493e6",
   "metadata": {},
   "source": [
    "### 풀이) 01. 스택 일치 여부 판별\n",
    "-'(,[,{'는 스택에 푸시하고, '),},]'를 만나면스택에서 pop한 결과가 매핑 테이블 결과와 매칭 되는지 확인"
   ]
  },
  {
   "cell_type": "code",
   "execution_count": 14,
   "id": "977fc248-6231-479a-a408-7d59c8968601",
   "metadata": {},
   "outputs": [
    {
     "name": "stdout",
     "output_type": "stream",
     "text": [
      "(\n",
      ")\n",
      "['(']\n"
     ]
    }
   ],
   "source": [
    "s = '()'\n",
    "stack = []\n",
    "table = {\n",
    "    ')' : '(',\n",
    "    '}' : '{',\n",
    "    ']' : '['\n",
    "}\n",
    "\n",
    "# 스택 이용 예외 처리 및 일치 여부 판별\n",
    "for char in s:\n",
    "    print(char)\n",
    "    if char not in table:\n",
    "        stack.append(char)\n",
    "#     elif not stack or table[char] != stack.pop():\n",
    "#         print('False')\n",
    "\n",
    "print(stack)                \n",
    "# table[(]   "
   ]
  },
  {
   "cell_type": "markdown",
   "id": "4b3ed0b9-25a1-4c0b-b3e1-aae7156817db",
   "metadata": {},
   "source": [
    "<pre>\n",
    "class Solution:\n",
    "    def isValid(self, s: str) -> bool:\n",
    "        stack = []\n",
    "        table = {\n",
    "            ')' : '(',\n",
    "            '}' : '{',\n",
    "            ']' : '['\n",
    "        }\n",
    "        \n",
    "        # 스택 이용 예외 처리 및 일치 여부 판별\n",
    "        for char in s:\n",
    "            if char not in table:\n",
    "                stack.append(char)\n",
    "            elif not stack or table[char] != stack.pop():\n",
    "                return False\n",
    "            \n",
    "        return len(stack) == 0\n",
    "</pre>"
   ]
  },
  {
   "cell_type": "code",
   "execution_count": null,
   "id": "50ea1c07-a452-4676-b411-15faa0bb100e",
   "metadata": {},
   "outputs": [],
   "source": []
  }
 ],
 "metadata": {
  "kernelspec": {
   "display_name": "Python 3",
   "language": "python",
   "name": "python3"
  },
  "language_info": {
   "codemirror_mode": {
    "name": "ipython",
    "version": 3
   },
   "file_extension": ".py",
   "mimetype": "text/x-python",
   "name": "python",
   "nbconvert_exporter": "python",
   "pygments_lexer": "ipython3",
   "version": "3.8.8"
  }
 },
 "nbformat": 4,
 "nbformat_minor": 5
}
