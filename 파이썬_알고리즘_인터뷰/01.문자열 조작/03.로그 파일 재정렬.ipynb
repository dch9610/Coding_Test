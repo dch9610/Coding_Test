{
 "cells": [
  {
   "cell_type": "markdown",
   "id": "b0262afa-ecbb-4c74-be70-8410a7fcb460",
   "metadata": {},
   "source": [
    "### 03. 로그 파일 재정렬"
   ]
  },
  {
   "cell_type": "markdown",
   "id": "8f9d788d-e74a-4af6-a50d-26dbdb9f30e0",
   "metadata": {},
   "source": [
    "1. 로그의 가장 앞 부분은 식별자다.\n",
    "2. 문자로 구성된 로그가 숫자 로그보다 앞에 온다.\n",
    "3. 식별자는 순서에 영향을 끼치지 않지만, 문자가 동일할 경우 식별자 순으로 한다.\n",
    "4. 숫자 로그는 입력 순서대로 한다."
   ]
  },
  {
   "cell_type": "markdown",
   "id": "d4177f39-b02d-4217-9e38-e0dd8405bc9c",
   "metadata": {},
   "source": [
    "#### 01. 람다와 + 연산자를 이용\n",
    "- 문자로 구성된 로그가 숫자 로그보다 이전에 오며, 숫자 로그는 입력 순서대로 둔다.\n",
    "- 문자와 숫자를 구분하고, 숫자는 나중에 그대로 이어 붙인다.\n",
    "- isdigit()을 이용해서 숫자 여부인지를 판볋해 구분한다."
   ]
  },
  {
   "cell_type": "code",
   "execution_count": 48,
   "id": "2aac7547-a08c-417a-84ee-cdfb5b4f392b",
   "metadata": {},
   "outputs": [],
   "source": [
    "logs = ['dig1 7 1 5 1', 'let1 art can', '333 111', 'dig3 4 5 3 1 2','dig3 dog 31 12 44']"
   ]
  },
  {
   "cell_type": "code",
   "execution_count": 53,
   "id": "eeb24966-b148-4f45-b96d-ac94c56e3f19",
   "metadata": {},
   "outputs": [
    {
     "name": "stdout",
     "output_type": "stream",
     "text": [
      "False\n",
      "False\n",
      "True\n",
      "False\n",
      "False\n"
     ]
    }
   ],
   "source": [
    "digits=[]\n",
    "letter=[]\n",
    "\n",
    "for log in logs:\n",
    "    print(log.split()[0].isdigit())\n",
    "    if log.split()[1].isdigit(): # 첫단어 숫자판별 여부\n",
    "        digits.append(log) # 숫자일경우 추가\n",
    "    else:\n",
    "        letter.append(log)"
   ]
  },
  {
   "cell_type": "code",
   "execution_count": 54,
   "id": "a44f258f-705a-4636-a830-14e00dfb53aa",
   "metadata": {},
   "outputs": [
    {
     "data": {
      "text/plain": [
       "['dig3 dog 31 12 44', 'let1 art can']"
      ]
     },
     "execution_count": 54,
     "metadata": {},
     "output_type": "execute_result"
    }
   ],
   "source": [
    "# 문자열 정렬\n",
    "# 식별자를 제외한 문자열 [1:]을 키로하여 정렬\n",
    "letter.sort()\n",
    "letter"
   ]
  },
  {
   "cell_type": "code",
   "execution_count": 56,
   "id": "ca1101ea-27bd-4bb4-97ed-7518bd193366",
   "metadata": {},
   "outputs": [
    {
     "data": {
      "text/plain": [
       "['let1 art can', 'dig3 dog 31 12 44']"
      ]
     },
     "execution_count": 56,
     "metadata": {},
     "output_type": "execute_result"
    }
   ],
   "source": [
    "# 문자열 정렬\n",
    "# 식별자를 제외한 문자열 [1:]을 키로하여 정렬\n",
    "letter.sort(key=lambda x: (x.split()[1:], x.split()[0]))\n",
    "letter"
   ]
  },
  {
   "cell_type": "code",
   "execution_count": null,
   "id": "6af757f9-1200-4beb-8a93-6d3f3b52da86",
   "metadata": {},
   "outputs": [],
   "source": [
    "def reor"
   ]
  }
 ],
 "metadata": {
  "kernelspec": {
   "display_name": "Python 3",
   "language": "python",
   "name": "python3"
  },
  "language_info": {
   "codemirror_mode": {
    "name": "ipython",
    "version": 3
   },
   "file_extension": ".py",
   "mimetype": "text/x-python",
   "name": "python",
   "nbconvert_exporter": "python",
   "pygments_lexer": "ipython3",
   "version": "3.8.8"
  }
 },
 "nbformat": 4,
 "nbformat_minor": 5
}
