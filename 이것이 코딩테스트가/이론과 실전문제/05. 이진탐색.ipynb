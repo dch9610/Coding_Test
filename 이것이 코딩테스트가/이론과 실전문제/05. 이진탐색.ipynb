{
 "cells": [
  {
   "cell_type": "markdown",
   "metadata": {},
   "source": [
    "### 순차 탐색\n",
    "- 리스트 안에 있는 특정한 데이터를 찾기 위해 앞에서부터 데이터를 하나씩 차례대로 확인하는 방법\n",
    "\n",
    "비효율적"
   ]
  },
  {
   "cell_type": "markdown",
   "metadata": {},
   "source": [
    "### 이진탐색 : 반으로 쪼개면서 탐색하기\n",
    "- 배열 내부의 데이터가 정렬되어 있어야함 사용가능한 알고리즘\n",
    "- 찾으려는 데이터와 중간점 위치에 있는 데이터를 반복적으로 비교해서 원하는 데이터를 찾는 과정"
   ]
  },
  {
   "cell_type": "code",
   "execution_count": 18,
   "metadata": {},
   "outputs": [],
   "source": [
    "def binary_search(data, search):\n",
    "    #print(data)\n",
    "    if len(data) <= 1:\n",
    "        if search == data[0]:\n",
    "            return True\n",
    "        else: \n",
    "            return False\n",
    "    \n",
    "    medium = len(data)//2\n",
    "    if search == data[medium]:\n",
    "        return data[medium]\n",
    "    else:\n",
    "        if search > data[medium]:\n",
    "            return binary_search(data[medium+1:],search)\n",
    "        else:\n",
    "            return binary_search(data[:medium], search)"
   ]
  },
  {
   "cell_type": "code",
   "execution_count": 19,
   "metadata": {},
   "outputs": [
    {
     "name": "stdin",
     "output_type": "stream",
     "text": [
      " 2 2\n",
      " 4 5 6 7 8 9 3 2\n"
     ]
    },
    {
     "name": "stdout",
     "output_type": "stream",
     "text": [
      "True\n"
     ]
    }
   ],
   "source": [
    "n, target = list(map(int,input().split()))\n",
    "array = list(map(int, input().split()))\n",
    "\n",
    "result = binary_search(sorted(array), target)\n",
    "\n",
    "if result == None:\n",
    "    print('없음')\n",
    "else:\n",
    "    print(result)"
   ]
  },
  {
   "cell_type": "markdown",
   "metadata": {},
   "source": [
    "#### 빠르게 입력받기"
   ]
  },
  {
   "cell_type": "code",
   "execution_count": 24,
   "metadata": {},
   "outputs": [
    {
     "name": "stdout",
     "output_type": "stream",
     "text": [
      "\n"
     ]
    }
   ],
   "source": [
    "import sys\n",
    "input_data = sys.stdin.readline().rstrip()\n",
    "\n",
    "print(input_data)"
   ]
  },
  {
   "cell_type": "markdown",
   "metadata": {},
   "source": [
    "---"
   ]
  },
  {
   "cell_type": "markdown",
   "metadata": {},
   "source": [
    "#### 실전문제 01. 부품찾기\n",
    "\n",
    ": 부품이 N개 있다. 각 부품은 정수 형태의 고유한 번호가 있다.\n",
    "손님이 M개 종류의 부품을 대량으로 구매할때, 부품 M개 종류를 모두 확인해서 견적서를 작성한다."
   ]
  },
  {
   "cell_type": "code",
   "execution_count": 32,
   "metadata": {},
   "outputs": [
    {
     "name": "stdin",
     "output_type": "stream",
     "text": [
      " 3\n",
      " 4 5 6 71 23 4\n"
     ]
    },
    {
     "data": {
      "text/plain": [
       "[4, 4, 5, 6, 23, 71]"
      ]
     },
     "execution_count": 32,
     "metadata": {},
     "output_type": "execute_result"
    }
   ],
   "source": [
    "N = int(input())\n",
    "N_num = (list(map(int, input().split())))\n",
    "N_num.sort()\n",
    "N_num"
   ]
  },
  {
   "cell_type": "code",
   "execution_count": 40,
   "metadata": {},
   "outputs": [
    {
     "name": "stdin",
     "output_type": "stream",
     "text": [
      " 5\n",
      " 9 9 9 9 9\n",
      " 3\n",
      " 0 9 2\n"
     ]
    },
    {
     "name": "stdout",
     "output_type": "stream",
     "text": [
      "no yes no "
     ]
    }
   ],
   "source": [
    "N = int(input())\n",
    "N_num = (list(map(int, input().split())))\n",
    "N_num.sort()\n",
    "M = int(input())\n",
    "M_num = list(map(int, input().split()))\n",
    "\n",
    "# 이진 탐색 구현\n",
    "def binary_search(data, search):\n",
    "    if len(data) <= 1:\n",
    "        if data[0] == search:\n",
    "            return search\n",
    "        else: \n",
    "            return None\n",
    "    \n",
    "    mid = len(data)//2\n",
    "    if search == data[mid]:\n",
    "        return data[mid]\n",
    "    else:\n",
    "        if search > data[mid]:\n",
    "            return binary_search(data[mid+1:], search)\n",
    "        else:\n",
    "            return binary_search(data[:mid], search)\n",
    "        \n",
    "\n",
    "        \n",
    "for i in M_num:\n",
    "    result = binary_search(N_num,i)\n",
    "    if result != None:\n",
    "        print('yes', end= ' ')\n",
    "    else:\n",
    "        print('no', end = ' ')\n",
    "    \n",
    "\n",
    "    "
   ]
  },
  {
   "cell_type": "code",
   "execution_count": 41,
   "metadata": {},
   "outputs": [
    {
     "name": "stdin",
     "output_type": "stream",
     "text": [
      " 5\n",
      " 8 3 7 9 2\n",
      " 3\n",
      " 5 7 9\n"
     ]
    },
    {
     "name": "stdout",
     "output_type": "stream",
     "text": [
      "no yes yes "
     ]
    }
   ],
   "source": [
    "## 계수 정렬\n",
    "# N을 입력받기\n",
    "n = int(input())\n",
    "array = [0] * 100001\n",
    "\n",
    "for i in input().split():\n",
    "    array[int(i)] = 1\n",
    "    \n",
    "# 손님이 필요한 부품 개수 입력\n",
    "m = int(input())\n",
    "m_array = list(map(int, input().split()))\n",
    "\n",
    "for i in m_array:\n",
    "    if array[i] == 1:\n",
    "        print('yes', end=' ')\n",
    "    else:\n",
    "        print('no', end=' ')"
   ]
  },
  {
   "cell_type": "markdown",
   "metadata": {},
   "source": [
    "---"
   ]
  },
  {
   "cell_type": "markdown",
   "metadata": {},
   "source": [
    "#### 실전문제 02.떡볶이 떡 만들기\n",
    "- 높이가 H보다 긴 떡은 H 위의 부분이 잘리고, 낮은 떡은 잘리지 않는다.\n",
    "- 입력 (N, M) N:떡의 개수, M:손님이 요청한 떡의 길이"
   ]
  },
  {
   "cell_type": "markdown",
   "metadata": {},
   "source": [
    "파라메트릭 서치 문제 \n",
    ": 원하는 조건을 만족하는 가장 알맞은 값을 찾는 문제\n",
    "\n",
    "- 입력값이 큰 수를 보면 당연하다는 듯이 이진 탐색을 떠올려야한다."
   ]
  },
  {
   "cell_type": "code",
   "execution_count": 44,
   "metadata": {},
   "outputs": [
    {
     "name": "stdin",
     "output_type": "stream",
     "text": [
      " 4 6\n",
      " 19 15 10 17\n"
     ]
    },
    {
     "name": "stdout",
     "output_type": "stream",
     "text": [
      "15\n"
     ]
    }
   ],
   "source": [
    "# 입력값\n",
    "n, m = list(map(int, input().split()))\n",
    "array = list(map(int, input().split()))\n",
    "\n",
    "# 이진탐색을 위한 시작점과 끝점 지정\n",
    "start = 0\n",
    "end = max(array)\n",
    "\n",
    "result = 0\n",
    "\n",
    "# 이진 탐색 수행\n",
    "while(start<=end):\n",
    "    total = 0\n",
    "    mid = (start+end) // 2\n",
    "    for x in array:\n",
    "        # 잘랐을때 양 계산\n",
    "        if x > mid:\n",
    "            total += x - mid\n",
    "        \n",
    "    # 떡의 양이 부족한 경우 더 많이 자르기 (왼쪽부분 탐색)\n",
    "    if total < m:\n",
    "        end = mid-1\n",
    "    # 떡의 양이 충분한 경우 (오른쪽 부분 탐색)\n",
    "    else:\n",
    "        result = mid\n",
    "        start = mid +1\n",
    "            \n",
    "print(result)"
   ]
  },
  {
   "cell_type": "code",
   "execution_count": null,
   "metadata": {},
   "outputs": [],
   "source": []
  }
 ],
 "metadata": {
  "kernelspec": {
   "display_name": "Python 3",
   "language": "python",
   "name": "python3"
  },
  "language_info": {
   "codemirror_mode": {
    "name": "ipython",
    "version": 3
   },
   "file_extension": ".py",
   "mimetype": "text/x-python",
   "name": "python",
   "nbconvert_exporter": "python",
   "pygments_lexer": "ipython3",
   "version": "3.8.5"
  }
 },
 "nbformat": 4,
 "nbformat_minor": 4
}
