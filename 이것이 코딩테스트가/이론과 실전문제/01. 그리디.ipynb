{
 "cells": [
  {
   "cell_type": "markdown",
   "metadata": {},
   "source": [
    "## 그리디\n",
    "- 현재 상황에서 지금 당장 좋은 것만 고르는 방법"
   ]
  },
  {
   "cell_type": "markdown",
   "metadata": {},
   "source": [
    "### 예제 03-1 거스름돈\n",
    "- 거슬러줘야할 최소한의 동전개수"
   ]
  },
  {
   "cell_type": "code",
   "execution_count": 15,
   "metadata": {},
   "outputs": [],
   "source": [
    "n = 1260\n",
    "coin_type = [500,10,50,100]"
   ]
  },
  {
   "cell_type": "code",
   "execution_count": 16,
   "metadata": {},
   "outputs": [
    {
     "name": "stdout",
     "output_type": "stream",
     "text": [
      "최소한의 동전개수:  6\n"
     ]
    }
   ],
   "source": [
    "count = 0\n",
    "coin_type.sort(reverse=True)\n",
    "\n",
    "for coin in coin_type:\n",
    "    count += n // coin\n",
    "    n %= coin\n",
    "    \n",
    "print('최소한의 동전개수: ', count)"
   ]
  },
  {
   "cell_type": "code",
   "execution_count": 17,
   "metadata": {},
   "outputs": [],
   "source": [
    "def min_coin_count(value, coin_list):\n",
    "    count = 0\n",
    "    details = list()\n",
    "    coin_list.sort(reverse=True)\n",
    "    \n",
    "    for coin in coin_list:\n",
    "        coin_num = value // coin\n",
    "        count += coin_num\n",
    "        value -= coin_num * coin\n",
    "        details.append([coin, coin_num])\n",
    "    return count, details"
   ]
  },
  {
   "cell_type": "code",
   "execution_count": 19,
   "metadata": {},
   "outputs": [
    {
     "data": {
      "text/plain": [
       "(6, [[500, 2], [100, 2], [50, 1], [10, 1]])"
      ]
     },
     "execution_count": 19,
     "metadata": {},
     "output_type": "execute_result"
    }
   ],
   "source": [
    "min_coin_count(1260, coin_type)"
   ]
  },
  {
   "cell_type": "markdown",
   "metadata": {},
   "source": [
    "대부분의 그리디 알고리즘 문제에서는 이처럼 문제 풀이를 위한 최소한의 아디어를 떠올리고 이것이 정당한지 검토할 수 있어야 답을 도출할 수 있다."
   ]
  },
  {
   "cell_type": "markdown",
   "metadata": {},
   "source": [
    "---"
   ]
  },
  {
   "cell_type": "markdown",
   "metadata": {},
   "source": [
    "### 실전 문제) 01.큰 수의 법칙\n",
    "- 입력 조건 : \n",
    "    1. 첫째 줄에 N(2 < N < 1,000), M(1 < M < 10,000), K(1<K<10,000)의 자연수가 주어지며, 각 자연수는 공백으로 구분한다.\n",
    "    2. 둘째 줄에 N개의 자연수가 주어진다. 각 자연수는 공백으로 구분한다. 단, 각각의 자연수는 1 이상 10000 이하의 수로 주어진다.\n",
    "    3. 입력으로 주어지는 K는 항상 M보다 작거나 같다.\n",
    "    \n",
    "- 출력 조건 :\n",
    "    1. 첫째 줄에 큰 수의 법칙에 따라 더해진 답을 출력한다.\n",
    "  \n",
    "<pre>\n",
    "입력\n",
    "5 8 3\n",
    "2 4 5 4 6\n",
    "\n",
    "출력 \n",
    "46\n",
    "</pre>"
   ]
  },
  {
   "cell_type": "code",
   "execution_count": 32,
   "metadata": {},
   "outputs": [
    {
     "name": "stdin",
     "output_type": "stream",
     "text": [
      " 5 7 2\n",
      " 3 4 3 4 3\n"
     ]
    },
    {
     "name": "stdout",
     "output_type": "stream",
     "text": [
      "28\n"
     ]
    }
   ],
   "source": [
    "n, m, k = map(int, input().split())\n",
    "data = list(map(int, input().split()))\n",
    "data.sort(reverse=True)\n",
    "\n",
    "result = 0\n",
    "\n",
    "while True:\n",
    "    for i in range(k):\n",
    "        # 반복문 종료 조건\n",
    "        if m == 0:\n",
    "            break\n",
    "        result += data[0] # 가장 큰수 더하기\n",
    "        m -= 1 \n",
    "    \n",
    "    # 2번째로 큰수 더하고 한번만 실행\n",
    "    if m == 0:\n",
    "        break\n",
    "    result += data[1]\n",
    "    m -= 1\n",
    "\n",
    "print(result)"
   ]
  },
  {
   "cell_type": "markdown",
   "metadata": {},
   "source": [
    "시간 초과 우려"
   ]
  },
  {
   "cell_type": "code",
   "execution_count": 35,
   "metadata": {},
   "outputs": [
    {
     "name": "stdin",
     "output_type": "stream",
     "text": [
      " 5 8 3\n",
      " 2 4 5 4 6\n"
     ]
    },
    {
     "name": "stdout",
     "output_type": "stream",
     "text": [
      "46\n"
     ]
    }
   ],
   "source": [
    "n, m, k = map(int, input().split())\n",
    "data = list(map(int, input().split()))\n",
    "data.sort(reverse=True)\n",
    "\n",
    "result = 0\n",
    "\n",
    "# 가장 큰수가 더해지는 횟수 계산\n",
    "count = int(m/(k+1)) * k\n",
    "count += m % (k+1)\n",
    "\n",
    "result = count * data[0]\n",
    "result += (m - count) * data[1]\n",
    "\n",
    "print(result)"
   ]
  },
  {
   "cell_type": "markdown",
   "metadata": {},
   "source": [
    "---"
   ]
  },
  {
   "cell_type": "markdown",
   "metadata": {},
   "source": [
    "### 실전 문제) 02.숫자 카드 게임"
   ]
  },
  {
   "cell_type": "markdown",
   "metadata": {},
   "source": [
    "숫자 카드 게임은 여러 개의 숫자 카드 중에서 가장 높은 숫자가 쓰인 카드 한 장을 뽑는 게임이다. \n",
    "\n",
    "1. 숫자가 쓰인 카드들이 N x M 형태로 놓여있다. 이때 N은 행의 개수를 의미하며, M은 열의 개수를 의미한다.\n",
    "2. 먼저 뽑고자 하는 카드가 포함되어 있는 행을 선택한다.\n",
    "3. 그 다음 선택된 행에 포함된 카드들 중 가장 숫자가 낮은 카드를 뽑아야 한다.\n",
    "4. 따라서 처음에 카드를 골라낼 행을 선택할 때, 이후에 해당 행에서 가장 숫자가 낮은 카드를 뽑을 것을 고려하여 최종적으로 가장 높은 숫자의 카드를 뽑을 수 있도록 전략을 세워야 한다."
   ]
  },
  {
   "cell_type": "markdown",
   "metadata": {},
   "source": [
    "<pre>\n",
    "입력 예시1\n",
    "3 3\n",
    "3 1 2\n",
    "4 1 4\n",
    "2 2 2\n",
    "\n",
    "출력 예시 1\n",
    "2\n",
    "\n",
    "입력예시 2\n",
    "2 4 \n",
    "7 3 1 8\n",
    "3 3 3 4\n",
    "\n",
    "출력예시 2\n",
    "3\n",
    "</pre>"
   ]
  },
  {
   "cell_type": "code",
   "execution_count": 36,
   "metadata": {},
   "outputs": [
    {
     "name": "stdin",
     "output_type": "stream",
     "text": [
      " 2 4\n",
      " 7 3 1 8\n",
      " 3 3 3 4\n"
     ]
    },
    {
     "name": "stdout",
     "output_type": "stream",
     "text": [
      "3\n"
     ]
    }
   ],
   "source": [
    "# min 함수를 이용하여 풀기\n",
    "n, m = map(int, input().split())\n",
    "result = 0\n",
    "\n",
    "# 한줄씩 입력\n",
    "for i in range(n):\n",
    "    data = list(map(int, input().split()))\n",
    "    # 가장 작은값 찾기\n",
    "    min_value = min(data)\n",
    "    # 가장 작은 수 중에서 큰 수 찾기\n",
    "    result = max(result, min_value)\n",
    "print(result)"
   ]
  },
  {
   "cell_type": "markdown",
   "metadata": {},
   "source": [
    "---"
   ]
  },
  {
   "cell_type": "markdown",
   "metadata": {},
   "source": [
    "### 실전문제) 03. 1이 될 때까지"
   ]
  },
  {
   "cell_type": "markdown",
   "metadata": {},
   "source": [
    "어떠한 수 N이 1이 될떄까지 다음의 두 과정 중 하나를 반복적으로 선택하여 수행하려고 한다. 단, 두번째 연산은 N이 K로 나누어 떨어질 때만 선택할 수 있다.\n",
    "1. N에서 1을 뺀다.\n",
    "2. N을 K로 나눈다.\n",
    "\n",
    "예를 들어 N이 17, K가 4라고 가정하자. 이때 1번의 과정을 한번 수행하면 N은 16이 된다. 이후에 2번의 과정을 두 번 수행하면 N은 1이된다. 결과적으로 이 경우 전체 과정을 실행한 횟수는 3이 된다.\n",
    "N과 K가 주어질 때 N이 1이 될때까지 혹은 2번의 과정을 수행해야 하는 최소 횟수를 구하는 프로그램을 작성하라."
   ]
  },
  {
   "cell_type": "code",
   "execution_count": 3,
   "metadata": {},
   "outputs": [
    {
     "name": "stdin",
     "output_type": "stream",
     "text": [
      " 25 6\n"
     ]
    },
    {
     "name": "stdout",
     "output_type": "stream",
     "text": [
      "5\n"
     ]
    }
   ],
   "source": [
    "n, k  = map(int, input().split())\n",
    "result = 0\n",
    "\n",
    "while n >= k:\n",
    "    # n이 k로 나누어지지 않는 경우\n",
    "    while n % k != 0:\n",
    "        n-=1\n",
    "        result += 1\n",
    "    \n",
    "    # 나누어지는 경우\n",
    "    n = n // k\n",
    "    result += 1\n",
    "    \n",
    "# 마지막 남은 수에 1 빼기\n",
    "while n > 1:\n",
    "    n -= 1\n",
    "    result += 1\n",
    "\n",
    "\n",
    "print(result)"
   ]
  },
  {
   "cell_type": "code",
   "execution_count": 5,
   "metadata": {},
   "outputs": [
    {
     "name": "stdin",
     "output_type": "stream",
     "text": [
      " 25 6\n"
     ]
    },
    {
     "name": "stdout",
     "output_type": "stream",
     "text": [
      "5\n"
     ]
    }
   ],
   "source": [
    "n, k  = map(int, input().split())\n",
    "result = 0\n",
    "\n",
    "while True:\n",
    "    # N == K로 나누어 떨어지는 수가 될때까지 1씩 빼기\n",
    "    target = (n//k)*k\n",
    "    result += (n-target)\n",
    "    n = target\n",
    "    \n",
    "    # N이 K보다 작을 때 반복문 탈출\n",
    "    if n<k:\n",
    "        break\n",
    "    \n",
    "    # K로 나누기\n",
    "    n = n//k\n",
    "    result += 1\n",
    "    \n",
    "\n",
    "# 마지막으로 남은 수에 대하여 1씩 빼기\n",
    "result += (n-1)\n",
    "print(result)"
   ]
  },
  {
   "cell_type": "code",
   "execution_count": null,
   "metadata": {},
   "outputs": [],
   "source": []
  }
 ],
 "metadata": {
  "kernelspec": {
   "display_name": "Python 3",
   "language": "python",
   "name": "python3"
  },
  "language_info": {
   "codemirror_mode": {
    "name": "ipython",
    "version": 3
   },
   "file_extension": ".py",
   "mimetype": "text/x-python",
   "name": "python",
   "nbconvert_exporter": "python",
   "pygments_lexer": "ipython3",
   "version": "3.8.5"
  }
 },
 "nbformat": 4,
 "nbformat_minor": 5
}
