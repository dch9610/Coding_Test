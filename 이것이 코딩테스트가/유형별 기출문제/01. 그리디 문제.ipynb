{
 "cells": [
  {
   "cell_type": "markdown",
   "metadata": {},
   "source": [
    "### 01. 모험가 길드\n",
    "공포도가 X인 모험가는 반드시 X명 이상으로 구성한 모험가 그룹에 참여해야함\n",
    "N명의 모험가에 대한 정보가 주어졌을때, 여행을 떠날 수 있는 그룹 수의 최댓값을 구하는 프로그램 작성"
   ]
  },
  {
   "cell_type": "markdown",
   "metadata": {},
   "source": [
    "#### 1회 도전"
   ]
  },
  {
   "cell_type": "code",
   "execution_count": 1,
   "metadata": {},
   "outputs": [
    {
     "name": "stdin",
     "output_type": "stream",
     "text": [
      " 5\n",
      " 2 3 1 2 2\n"
     ]
    },
    {
     "name": "stdout",
     "output_type": "stream",
     "text": [
      "5 [2, 3, 1, 2, 2]\n"
     ]
    }
   ],
   "source": [
    "# 입력값\n",
    "n = int(input())\n",
    "m = list(map(int, input().split()))\n",
    "\n",
    "# 그룹의 수\n",
    "result = 0\n",
    "\n"
   ]
  },
  {
   "cell_type": "markdown",
   "metadata": {},
   "source": [
    "#### 풀이\n",
    "- 현재 그룹에 포함된 모험가의 수가 현재 확인하고 있는 공포도보다 크거나 같다면, 그룹을 결성"
   ]
  },
  {
   "cell_type": "code",
   "execution_count": 2,
   "metadata": {},
   "outputs": [
    {
     "name": "stdin",
     "output_type": "stream",
     "text": [
      " 5\n",
      " 2 4 1 2 2\n"
     ]
    },
    {
     "name": "stdout",
     "output_type": "stream",
     "text": [
      "2\n"
     ]
    }
   ],
   "source": [
    "# 입력값\n",
    "n = int(input())\n",
    "m = list(map(int, input().split()))\n",
    "m.sort()\n",
    "\n",
    "# 그룹의 수\n",
    "result = 0\n",
    "# 그룹에 포함된 모험가의 수\n",
    "count = 0\n",
    "\n",
    "# 공포도가 낮은 것부터 하나씩 확인하기\n",
    "for i in m:\n",
    "    count += 1 # 현재 그룹에 해당 모험가를 포함시키기\n",
    "    if count >= i: # 현재 그룹에 포함된 모험가의 수가 현재의 공포도 이상이라면, 그룹 결성\n",
    "        result += 1 # 총 그룹의 수 증가시키기\n",
    "        count = 0 # 현재 그룹의 포함된 모험가의 수 초기화\n",
    "print(result)\n",
    "        "
   ]
  },
  {
   "cell_type": "markdown",
   "metadata": {},
   "source": [
    "---"
   ]
  },
  {
   "cell_type": "markdown",
   "metadata": {},
   "source": [
    "### 02. 곱하기 혹은 더하기\n",
    "각 자리가 숫자로만 이루어진 문자열 S가 주어졌을 때, 곱하기 혹은 더하기를 넣어 가장 큰수를 만드는 프로그램 만들기"
   ]
  },
  {
   "cell_type": "markdown",
   "metadata": {},
   "source": [
    "#### 1회 도전"
   ]
  },
  {
   "cell_type": "code",
   "execution_count": 12,
   "metadata": {},
   "outputs": [
    {
     "name": "stdin",
     "output_type": "stream",
     "text": [
      " 567\n"
     ]
    },
    {
     "name": "stdout",
     "output_type": "stream",
     "text": [
      "210\n"
     ]
    }
   ],
   "source": [
    "# 입력값\n",
    "data = input()\n",
    "\n",
    "# 결과값\n",
    "result = int(data[0])\n",
    "\n",
    "for i in range(1,len(data)):\n",
    "    num = int(data[i])\n",
    "    if result <= 1 or num <=1 :\n",
    "        result += num\n",
    "    else:\n",
    "        result *= num\n",
    "\n",
    "print(result)\n",
    "    "
   ]
  },
  {
   "cell_type": "markdown",
   "metadata": {},
   "source": [
    "#### 풀이\n",
    "- 두 수 중에서 하나라도 1이하인 경우는 덧셈, 그 외에는 곱셈\n",
    "- 문자를 숫자로 변경하여 대입"
   ]
  },
  {
   "cell_type": "code",
   "execution_count": 13,
   "metadata": {},
   "outputs": [
    {
     "name": "stdin",
     "output_type": "stream",
     "text": [
      " 02984\n"
     ]
    },
    {
     "name": "stdout",
     "output_type": "stream",
     "text": [
      "576\n"
     ]
    }
   ],
   "source": [
    "data = input()\n",
    "\n",
    "# 첫번째 문자를 숫자로 변경하여 대입\n",
    "result = int(data[0])\n",
    "\n",
    "for i in range(1,len(data)):\n",
    "    # 두 수 중에서 하나라도 0 혹은 1인 경우,곱하기보다는 더하기 수행\n",
    "    num = int(data[i])\n",
    "    if num <=1 or result<=1:\n",
    "        result += num\n",
    "    else:\n",
    "        result *= num\n",
    "        \n",
    "print(result)"
   ]
  },
  {
   "cell_type": "markdown",
   "metadata": {},
   "source": [
    "---"
   ]
  },
  {
   "cell_type": "markdown",
   "metadata": {},
   "source": [
    "### 03. 문자열 뒤집기\n",
    "0과 1로만 이루어진 문자열이 존재, 문자열에 있는 모든 숫자를 같게 하려고 합니다.\n",
    "할 수 있는 행동은 연속된 하나 이상의 숫자를 잡고 모두 뒤집어 모두 같게하는 최소 행동수를 출력"
   ]
  },
  {
   "cell_type": "markdown",
   "metadata": {},
   "source": [
    "#### 1회 도전"
   ]
  },
  {
   "cell_type": "code",
   "execution_count": 35,
   "metadata": {},
   "outputs": [
    {
     "name": "stdin",
     "output_type": "stream",
     "text": [
      " 0001100\n"
     ]
    },
    {
     "name": "stdout",
     "output_type": "stream",
     "text": [
      "1\n"
     ]
    }
   ],
   "source": [
    "# 입력값\n",
    "data = input()\n",
    "\n",
    "# 0,1 그룹 생성\n",
    "count_0 = 0\n",
    "count_1 = 0\n",
    "\n",
    "for i in range(1,len(data)):\n",
    "    if (int(data[i-1]) == 0 and int(data[i]) == 1):\n",
    "        count_0 +=1\n",
    "        \n",
    "    if (int(data[i-1]) == 1 and int(data[i]) == 0):\n",
    "        count_1 +=1\n",
    "        \n",
    "        \n",
    "if int(data[-1]) == 0:\n",
    "    count_0 +=1\n",
    "    \n",
    "else:\n",
    "    count_1 +=1        \n",
    "\n",
    "result = min(count_0, count_1)\n",
    "\n",
    "print(result)"
   ]
  },
  {
   "cell_type": "markdown",
   "metadata": {},
   "source": [
    "#### 풀이"
   ]
  },
  {
   "cell_type": "code",
   "execution_count": 36,
   "metadata": {},
   "outputs": [
    {
     "name": "stdin",
     "output_type": "stream",
     "text": [
      " 0001100\n"
     ]
    },
    {
     "name": "stdout",
     "output_type": "stream",
     "text": [
      "1\n"
     ]
    }
   ],
   "source": [
    "data = input()\n",
    "count0 = 0 # 전부 0으로 바꾸는 경우\n",
    "count1 = 0 # 전부 1로 바꾸는 경우\n",
    "\n",
    "# 첫번째 원소에 대해서 처리\n",
    "if data[0] == '1':\n",
    "    count0 += 1\n",
    "else:\n",
    "    count1 +=1\n",
    "    \n",
    "# 두번째 원소부터 모든 원소를 확인하며\n",
    "for i in range(len(data) - 1):\n",
    "    if data[i] != data[i+1]:\n",
    "        # 다음 수에서 1로 바뀌는 경우\n",
    "        if data[i+1] == '1':\n",
    "            count0 +=1\n",
    "        else:\n",
    "            count1 +=1\n",
    "            \n",
    "print(min(count0, count1))"
   ]
  },
  {
   "cell_type": "markdown",
   "metadata": {},
   "source": [
    "---"
   ]
  },
  {
   "cell_type": "markdown",
   "metadata": {},
   "source": [
    "#### 04. 만들수 없는 금액\n",
    "N개의 동전을 이용하여 만들 수 없는 양의 정수 금액 중 최솟값을 구하는 프로그램 작성\n",
    "\n",
    "ex) 동전이 각각 3,5,9원일 경우 만들 수 없는 최솟값은 1원입니다. <br>\n",
    "    동전이 각각 3,2,1,1,9원일 경우 만들 수 없는 최솟값은 8원 입니다."
   ]
  },
  {
   "cell_type": "markdown",
   "metadata": {},
   "source": [
    "#### 1회 도전"
   ]
  },
  {
   "cell_type": "code",
   "execution_count": 39,
   "metadata": {},
   "outputs": [
    {
     "name": "stdin",
     "output_type": "stream",
     "text": [
      " 3\n",
      " 3 4 5\n"
     ]
    },
    {
     "name": "stdout",
     "output_type": "stream",
     "text": [
      "1\n"
     ]
    }
   ],
   "source": [
    "# 입력값\n",
    "n = int(input())\n",
    "data = list(map(int, input().split()))\n",
    "data.sort()\n",
    "\n",
    "result = 0\n",
    "\n",
    "for i in data:\n",
    "    \n",
    "    \n",
    "    \n",
    "    if data != 1:\n",
    "        result = 1\n",
    "print(result)"
   ]
  },
  {
   "cell_type": "markdown",
   "metadata": {},
   "source": [
    "#### 풀이\n",
    "0. 처음에는 금액 1을 만들 수 있는지 확인하기 위해, result = 1로 설정한다.\n",
    "1. result = 1을 만족할 수 있는지 확인한다. 이어서 result = 1+1 =2로 업데이트 한다.\n",
    "2. result = 2를 만족하는지 확인. 2인 동전이 있으면 result = 2+2가 된다. (3까지 모든 금액을 만들수 있다.\n",
    "3. result = 4를 만족하는지 확인. 3인 동전이 있으면 result = 4 + 3= 7이 된다 (6까지 모든 금액을 만들 수 있다.)\n",
    "4. result = 7를 만족하는지 확인. 8인 동전이 있으므로 7을 만드는 방법이 없다. 정답은 7 "
   ]
  },
  {
   "cell_type": "code",
   "execution_count": 47,
   "metadata": {},
   "outputs": [
    {
     "name": "stdin",
     "output_type": "stream",
     "text": [
      " 3\n",
      " 1 2 5\n"
     ]
    },
    {
     "name": "stdout",
     "output_type": "stream",
     "text": [
      "4\n"
     ]
    }
   ],
   "source": [
    "n = int(input())\n",
    "data = list(map(int, input().split()))\n",
    "data.sort()\n",
    "\n",
    "result = 1\n",
    "for x in data:\n",
    "    # 만들 수 없는 금액을 찾았을때 반복종료\n",
    "    if result < x:\n",
    "        break\n",
    "    result += x\n",
    "    \n",
    "# 출력\n",
    "print(result)"
   ]
  }
 ],
 "metadata": {
  "kernelspec": {
   "display_name": "Python 3",
   "language": "python",
   "name": "python3"
  },
  "language_info": {
   "codemirror_mode": {
    "name": "ipython",
    "version": 3
   },
   "file_extension": ".py",
   "mimetype": "text/x-python",
   "name": "python",
   "nbconvert_exporter": "python",
   "pygments_lexer": "ipython3",
   "version": "3.8.8"
  }
 },
 "nbformat": 4,
 "nbformat_minor": 4
}
