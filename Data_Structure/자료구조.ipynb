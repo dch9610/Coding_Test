{
 "cells": [
  {
   "cell_type": "markdown",
   "id": "a6b4e0d7",
   "metadata": {},
   "source": [
    "## 자료구조\n",
    "- 대량의 데이터를 효율적으로 관리할 수 있는 데이터의 구조를 의미\n",
    "- 코드상에서 효율적으로 데이터를 처리하기 위해, 데이터 특성에 따라, 체계적으로 데이터를 구조화해야함"
   ]
  },
  {
   "cell_type": "markdown",
   "id": "8add11ac",
   "metadata": {},
   "source": [
    "### 대표적인 자료구조\n",
    "- 배열\n",
    "- 스택\n",
    "- 큐\n",
    "- 링크드 리스트\n",
    "- 해쉬 테이블\n",
    "- 힙 등"
   ]
  },
  {
   "cell_type": "markdown",
   "id": "664ad717",
   "metadata": {},
   "source": [
    "### 알고리즘\n",
    "- 어떤 문제를 풀기 위한 절차/방법\n",
    "- 어떤 문제에 대해, 특정한 '입력'을 넣으면, 원하는 '출력'을 얻을 수 있도록 만드는 프로그래밍"
   ]
  },
  {
   "cell_type": "markdown",
   "id": "149e6efb",
   "metadata": {},
   "source": [
    "### 자료구조와 알고리즘이 중요한 이유\n",
    "- 어떤 자료구조와 알고리즘을 쓰느냐에 따라, 성능이 천지차!\n",
    "- 프로그래밍을 잘 할 수 있는 기술과 역량을 익히고, 검증할 수 있음"
   ]
  }
 ],
 "metadata": {
  "kernelspec": {
   "display_name": "Python 3",
   "language": "python",
   "name": "python3"
  },
  "language_info": {
   "codemirror_mode": {
    "name": "ipython",
    "version": 3
   },
   "file_extension": ".py",
   "mimetype": "text/x-python",
   "name": "python",
   "nbconvert_exporter": "python",
   "pygments_lexer": "ipython3",
   "version": "3.8.8"
  }
 },
 "nbformat": 4,
 "nbformat_minor": 5
}
