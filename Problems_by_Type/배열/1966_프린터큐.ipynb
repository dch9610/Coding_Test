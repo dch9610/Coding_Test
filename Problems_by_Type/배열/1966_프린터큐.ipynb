{
 "cells": [
  {
   "cell_type": "markdown",
   "metadata": {},
   "source": [
    "## 문제설명\n",
    "문제 제목 : 프린터 큐 1874 <br>\n",
    "문제 난이도 : 하 <br>\n",
    "문제 유형 : 큐, 구현, 그리디"
   ]
  },
  {
   "cell_type": "markdown",
   "metadata": {},
   "source": [
    "### 문제\n",
    "1. 현재 Queue의 가장 앞에 있는 문서의 ‘중요도’를 확인한다.<br>\n",
    "2. 나머지 문서들 중 현재 문서보다 중요도가 높은 문서가 하나라도 있다면, 이 문서를 인쇄하지 않고 Queue의 가장 뒤에 재배치 한다. 그렇지 않다면 바로 인쇄를 한다.\n",
    "\n",
    "여러분이 할 일은, 현재 Queue에 있는 문서의 수와 중요도가 주어졌을 때, 어떤 한 문서가 몇 번째로 인쇄되는지 알아내는 것이다. 예를 들어 위의 예에서 C문서는 1번째로, A문서는 3번째로 인쇄되게 된다."
   ]
  },
  {
   "cell_type": "markdown",
   "metadata": {},
   "source": [
    "### 입력\n",
    "첫 줄에 테스트케이스의 수가 주어진다. 각 테스트케이스는 두 줄로 이루어져 있다.\n",
    "\n",
    "테스트케이스의 첫 번째 줄에는 문서의 개수 N(1 ≤ N ≤ 100)과, 몇 번째로 인쇄되었는지 궁금한 문서가 현재 Queue에서 몇 번째에 놓여 있는지를 나타내는 정수 M(0 ≤ M < N)이 주어진다. 이때 맨 왼쪽은 0번째라고 하자. 두 번째 줄에는 N개 문서의 중요도가 차례대로 주어진다. 중요도는 1 이상 9 이하의 정수이고, 중요도가 같은 문서가 여러 개 있을 수도 있다."
   ]
  },
  {
   "cell_type": "markdown",
   "metadata": {},
   "source": [
    "### 출력\n",
    "각 테스트 케이스에 대해 문서가 몇번째로 인쇄되는지 출력한다."
   ]
  },
  {
   "cell_type": "markdown",
   "metadata": {},
   "source": [
    "### 문제풀이 핵심 아이디어\n",
    "1. 현재 리스트에서 가장 큰 수가 앞에 올때까지 회전시킨 뒤에 추출\n",
    "2. 가장 큰 수가 M이면서 가장 앞에 있을 때 프로그램을 종료"
   ]
  },
  {
   "cell_type": "code",
   "execution_count": 6,
   "metadata": {},
   "outputs": [
    {
     "name": "stdout",
     "output_type": "stream",
     "text": [
      "3\n",
      "1 0\n",
      "5\n",
      "1\n",
      "4 2\n",
      "1 2 3 4\n",
      "2\n",
      "6 0\n",
      "1 1 9 1 1 1\n",
      "5\n",
      "[(1, 0), (1, 1)]\n"
     ]
    },
    {
     "data": {
      "text/plain": [
       "1"
      ]
     },
     "execution_count": 6,
     "metadata": {},
     "output_type": "execute_result"
    }
   ],
   "source": [
    "test_case = int(input())\n",
    "\n",
    "for _ in range(test_case):\n",
    "    # 문서의 개수, 출력하고자하는 프린트 번호\n",
    "    n, m = list(map(int, input().split()))\n",
    "    \n",
    "    # 중요도\n",
    "    queue = list(map(int, input().split()))\n",
    "        \n",
    "    # 튜플 형태로 인덱스 번호와 함께 구현\n",
    "    queue = [(i, idx) for idx, i in enumerate(queue)]\n",
    "    \n",
    "    # 몇번째로 출력되는지 확인하기 위한 변수\n",
    "    count = 0\n",
    "    \n",
    "    while True:\n",
    "        # 중요도 체크\n",
    "        if queue[0][0] == max(queue, key =lambda x : x[0])[0]:\n",
    "            count+=1\n",
    "            if queue[0][1] == m:\n",
    "                print(count)\n",
    "                break\n",
    "            \n",
    "            \n",
    "            \n",
    "            # 중요도가 높은 문서 뽑기\n",
    "            else:\n",
    "                queue.pop(0)\n",
    "            \n",
    "        # 중요도가 더 높은게 있는 경우\n",
    "        else:\n",
    "            queue.append(queue.pop(0))\n",
    "\n",
    "print(queue)\n",
    "max(queue, key=lambda x: x[0])[0]"
   ]
  },
  {
   "cell_type": "markdown",
   "metadata": {},
   "source": [
    "--- "
   ]
  },
  {
   "cell_type": "code",
   "execution_count": 1,
   "metadata": {},
   "outputs": [
    {
     "name": "stdout",
     "output_type": "stream",
     "text": [
      "1\n",
      "4 3\n",
      "4 9 2 7\n",
      "2\n"
     ]
    }
   ],
   "source": [
    "### 전체 테스트케이스의 문서 갯수\n",
    "test_case = int(input())\n",
    "\n",
    "for _ in range(test_case):\n",
    "    # 문서의 개수(n), 출력하고자 하는 문서번호(m)\n",
    "    n, m = list(map(int, input().split()))\n",
    "    # 중요도\n",
    "    queue = list(map(int, input().split()))\n",
    "    # 인덱스번호가 있는 튜플형태로 만들어줌\n",
    "    # ex) (2,0),(1,1),(4,2),(3,3)\n",
    "    queue = [(i,idx) for idx, i in enumerate(queue)]\n",
    "    \n",
    "    count = 0\n",
    "        \n",
    "    while True:\n",
    "        # 큐의 가장 앞쪽에 있는 값을 확인하고 중요도가 가장 높은 문서가 앞에 존재하는 경우\n",
    "        if queue[0][0] == max(queue, key=lambda x: x[0])[0]:\n",
    "            count += 1\n",
    "            \n",
    "            # 중요도가 가장 높은 문서의 idx와 m이 동일하다면 몇번 문서를 뽑았는지 출력\n",
    "            if queue[0][1] == m:\n",
    "                # 출력하고자 하는 문서번호는 몇번째에 출력되는가\n",
    "                print(count)\n",
    "                break\n",
    "            \n",
    "            # 중요도가 높은 문서 뽑기\n",
    "            else:\n",
    "                queue.pop(0)\n",
    "                \n",
    "        # 중요도가 높지 않은 문서는 제일 뒤로 빼줌 \n",
    "        else:\n",
    "            queue.append(queue.pop(0))"
   ]
  }
 ],
 "metadata": {
  "kernelspec": {
   "display_name": "Python 3",
   "language": "python",
   "name": "python3"
  },
  "language_info": {
   "codemirror_mode": {
    "name": "ipython",
    "version": 3
   },
   "file_extension": ".py",
   "mimetype": "text/x-python",
   "name": "python",
   "nbconvert_exporter": "python",
   "pygments_lexer": "ipython3",
   "version": "3.8.5"
  }
 },
 "nbformat": 4,
 "nbformat_minor": 4
}
