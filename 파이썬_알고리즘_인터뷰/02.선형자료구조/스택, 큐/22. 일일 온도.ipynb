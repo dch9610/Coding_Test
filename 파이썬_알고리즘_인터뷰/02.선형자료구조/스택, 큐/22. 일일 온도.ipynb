{
 "cells": [
  {
   "cell_type": "markdown",
   "id": "f3a6f111-a040-405e-8301-fc54713450ef",
   "metadata": {},
   "source": [
    "## 22. 일일 온도\n",
    "- 매일의 화씨 온도 리스트 T를 입력받아서, 더 따뜻한 날씨를 위해서는 며칠을 더 기다려야 하는지를 출력<br>\n",
    "리트코드 739"
   ]
  },
  {
   "cell_type": "markdown",
   "id": "909a434f-c9d4-4a39-8321-47536a42b5b6",
   "metadata": {},
   "source": [
    "---"
   ]
  },
  {
   "cell_type": "markdown",
   "id": "271fcb1d-c8ae-44a6-a31e-645fbd856c5a",
   "metadata": {},
   "source": [
    "### 풀이) 01. 스택 값 비교"
   ]
  },
  {
   "cell_type": "code",
   "execution_count": 1,
   "id": "8403638b-f001-4038-9ec3-7e838b031d1e",
   "metadata": {},
   "outputs": [],
   "source": [
    "T = [73,74,75,71,69,72,76,73]"
   ]
  },
  {
   "cell_type": "code",
   "execution_count": 10,
   "id": "0340da4a-6ffb-48a6-90fe-882e9e2b6c0f",
   "metadata": {},
   "outputs": [
    {
     "name": "stdout",
     "output_type": "stream",
     "text": [
      "0\n",
      "--------------------\n",
      "1\n",
      "--------------------\n",
      "[0]\n",
      "2\n",
      "--------------------\n",
      "[1]\n",
      "3\n",
      "--------------------\n",
      "4\n",
      "--------------------\n",
      "5\n",
      "--------------------\n",
      "[2, 3, 4]\n",
      "[2, 3]\n",
      "6\n",
      "--------------------\n",
      "[2, 5]\n",
      "[2]\n",
      "7\n",
      "--------------------\n",
      "[1, 1, 4, 2, 1, 1, 0, 0]\n"
     ]
    }
   ],
   "source": [
    "answer = [0] * len(T)\n",
    "stack=[]\n",
    "for i, cur in enumerate(T):\n",
    "    # 현재 온도가 스택 값보다 높다면 정답 처리\n",
    "    print(i)\n",
    "    print('-'*20)\n",
    "    while stack and cur > T[stack[-1]]:\n",
    "        print(stack)\n",
    "        last = stack.pop()\n",
    "        answer[last] = i - last\n",
    "    stack.append(i)\n",
    "print(answer)"
   ]
  },
  {
   "cell_type": "markdown",
   "id": "e2d20445-0ddf-4350-ac74-a1ce81dcf7d9",
   "metadata": {},
   "source": [
    "<pre>\n",
    "class Solution:\n",
    "    def dailyTemperatures(self, T: List[int]) -> List[int]:\n",
    "        answer = [0] * len(T)\n",
    "        stack=[]\n",
    "        for i, cur in enumerate(T):\n",
    "            # 현재 온도가 스택 값보다 높다면 정답 처리\n",
    "            while stack and cur > T[stack[-1]]:\n",
    "                last = stack.pop()\n",
    "                answer[last] = i - last\n",
    "            stack.append(i)\n",
    "            \n",
    "        return answer\n",
    "</pre>"
   ]
  }
 ],
 "metadata": {
  "kernelspec": {
   "display_name": "Python 3",
   "language": "python",
   "name": "python3"
  },
  "language_info": {
   "codemirror_mode": {
    "name": "ipython",
    "version": 3
   },
   "file_extension": ".py",
   "mimetype": "text/x-python",
   "name": "python",
   "nbconvert_exporter": "python",
   "pygments_lexer": "ipython3",
   "version": "3.8.8"
  }
 },
 "nbformat": 4,
 "nbformat_minor": 5
}
