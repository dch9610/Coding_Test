{
 "metadata": {
  "language_info": {
   "codemirror_mode": {
    "name": "ipython",
    "version": 3
   },
   "file_extension": ".py",
   "mimetype": "text/x-python",
   "name": "python",
   "nbconvert_exporter": "python",
   "pygments_lexer": "ipython3",
   "version": "3.8.5"
  },
  "orig_nbformat": 2,
  "kernelspec": {
   "name": "python385jvsc74a57bd0dca0ade3e726a953b501b15e8e990130d2b7799f14cfd9f4271676035ebe5511",
   "display_name": "Python 3.8.5 64-bit ('base': conda)"
  }
 },
 "nbformat": 4,
 "nbformat_minor": 2,
 "cells": [
  {
   "source": [
    "## 문제\n",
    "현정이는 L 만큼의 역량을 가지고 있어 L보다 작거나 같은 난이도의 문제를 풀 수 있다. 또한 현정이는 코딩이 느리기 때문에 대회 시간이 부족해 K개보다 많은 문제는 해결할 수 없다. 어떤 문제에 대해 쉬운 버전을 해결한다면 100점을 얻고, 어려운 버전을 해결한다면 여기에 40점을 더 받아 140점을 얻게 된다. 어려운 버전을 해결하면 쉬운 버전도 같이 풀리게 되므로, 한 문제를 해결한 것으로 계산한다.\n",
    "\n",
    "현정이가 APC에 참가했다면 최대 몇점을 얻을 수 있었을지 알려주자."
   ],
   "cell_type": "markdown",
   "metadata": {}
  },
  {
   "source": [
    "## 입력\n",
    "첫 줄에 문제의 개수 N, 현정이의 역량 L, 현정이가 대회중에 풀 수 있는 문제의 최대 개수 K가 주어진다.\n",
    "\n",
    "둘째 줄부터 N개의 줄에 걸쳐 1 ~ N번째 문제의 쉬운 버전의 난이도 sub1, 어려운 버전의 난이도 sub2 가 순서대로 주어진다."
   ],
   "cell_type": "markdown",
   "metadata": {}
  },
  {
   "source": [
    "## 출력\n",
    "현정이가 APC에 참가했다면 얻었을 점수의 최대값을 출력한다."
   ],
   "cell_type": "markdown",
   "metadata": {}
  },
  {
   "cell_type": "code",
   "execution_count": 2,
   "metadata": {},
   "outputs": [
    {
     "output_type": "stream",
     "name": "stdout",
     "text": [
      "282\n"
     ]
    }
   ],
   "source": [
    "# 입력\n",
    "# N : 문제의 개수, L : 현정이의 역량, K : 현정이가 대회중에 풀 수 있는 문제의 최대 개수\n",
    "N, L, K = map(int, input().split())\n",
    "\n",
    "easy, hard = 0,0\n",
    "\n",
    "for i in range(N):\n",
    "    sub1, sub2 = map(int, input().split())\n",
    "    if sub2 <= L:\n",
    "        hard += 1\n",
    "    elif sub1 <= L:\n",
    "        easy +=1\n",
    "\n",
    "# hard 문제\n",
    "ans = min(hard, K) * 140\n",
    "\n",
    "# easy \n",
    "if hard < K:\n",
    "    ans += max(K-hard, easy-hard)\n",
    "\n",
    "print(ans)"
   ]
  },
  {
   "cell_type": "code",
   "execution_count": null,
   "metadata": {},
   "outputs": [],
   "source": []
  }
 ]
}