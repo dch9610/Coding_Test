{
 "cells": [
  {
   "cell_type": "markdown",
   "id": "3087c6aa-45dd-4ec0-8a6c-012b531554c6",
   "metadata": {},
   "source": [
    "### 02. 문자열 뒤집기"
   ]
  },
  {
   "cell_type": "markdown",
   "id": "457f0aee-4641-4357-a0d9-dbc89a5f582e",
   "metadata": {},
   "source": [
    "#### 01. 투 포인터를 이용한 스왑"
   ]
  },
  {
   "cell_type": "code",
   "execution_count": 4,
   "id": "23063034-7e1f-4483-a148-36a42b75b723",
   "metadata": {},
   "outputs": [],
   "source": [
    "from typing import List"
   ]
  },
  {
   "cell_type": "code",
   "execution_count": 44,
   "id": "94b60e50-211f-4fc3-a3e6-490f662ca8f9",
   "metadata": {},
   "outputs": [],
   "source": [
    "class reverseString():\n",
    "    def reverseString_point(self, s:str) -> None:\n",
    "        s = list(s)\n",
    "        left, right = 0, len(s)-1 \n",
    "        \n",
    "        while left < right:\n",
    "            s[left], s[right] = s[right], s[left]\n",
    "            left += 1\n",
    "            right -= 1\n",
    "            \n",
    "        return s"
   ]
  },
  {
   "cell_type": "code",
   "execution_count": 45,
   "id": "fc0d5d19-0c32-4b95-b974-2798c45b5567",
   "metadata": {},
   "outputs": [
    {
     "data": {
      "text/plain": [
       "['o', 'l', 'l', 'e', 'H']"
      ]
     },
     "execution_count": 45,
     "metadata": {},
     "output_type": "execute_result"
    }
   ],
   "source": [
    "point = reverseString()\n",
    "s='Hello'\n",
    "point.reverseString_point(s)"
   ]
  },
  {
   "cell_type": "markdown",
   "id": "1fc84419-0f27-4e88-8d31-0c43311fd87b",
   "metadata": {},
   "source": [
    "#### 02. 파이썬다운 방식"
   ]
  },
  {
   "cell_type": "code",
   "execution_count": 28,
   "id": "8fcfe9c7-6b04-47a9-ae16-b7ad2c97a4a7",
   "metadata": {},
   "outputs": [
    {
     "data": {
      "text/plain": [
       "['o', 'l', 'l', 'e', 'H']"
      ]
     },
     "execution_count": 28,
     "metadata": {},
     "output_type": "execute_result"
    }
   ],
   "source": [
    "s = 'Hello'\n",
    "s = list(s)\n",
    "s.reverse()\n",
    "s"
   ]
  },
  {
   "cell_type": "code",
   "execution_count": 29,
   "id": "2cdc74f1-b6e5-4f01-90aa-98d173c3ef39",
   "metadata": {},
   "outputs": [
    {
     "data": {
      "text/plain": [
       "'olleH'"
      ]
     },
     "execution_count": 29,
     "metadata": {},
     "output_type": "execute_result"
    }
   ],
   "source": [
    "s = 'Hello'\n",
    "s = s[::-1]\n",
    "s"
   ]
  },
  {
   "cell_type": "code",
   "execution_count": 31,
   "id": "08caeba0-0e12-437e-b141-f31ba9fb3aed",
   "metadata": {},
   "outputs": [
    {
     "data": {
      "text/plain": [
       "['o', 'l', 'l', 'e', 'H']"
      ]
     },
     "execution_count": 31,
     "metadata": {},
     "output_type": "execute_result"
    }
   ],
   "source": [
    "s = 'Hello'\n",
    "s = list(s)\n",
    "s[:] = s[::-1]\n",
    "s"
   ]
  }
 ],
 "metadata": {
  "kernelspec": {
   "display_name": "Python 3",
   "language": "python",
   "name": "python3"
  },
  "language_info": {
   "codemirror_mode": {
    "name": "ipython",
    "version": 3
   },
   "file_extension": ".py",
   "mimetype": "text/x-python",
   "name": "python",
   "nbconvert_exporter": "python",
   "pygments_lexer": "ipython3",
   "version": "3.8.8"
  }
 },
 "nbformat": 4,
 "nbformat_minor": 5
}
