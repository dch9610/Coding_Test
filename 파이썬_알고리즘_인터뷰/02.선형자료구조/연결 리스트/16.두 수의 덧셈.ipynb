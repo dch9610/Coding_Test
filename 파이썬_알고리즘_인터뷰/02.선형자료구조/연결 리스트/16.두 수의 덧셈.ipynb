{
 "cells": [
  {
   "cell_type": "markdown",
   "id": "bcf8d9d1-5625-4d60-83a7-ef9a9c6f66ee",
   "metadata": {},
   "source": [
    "### 두 수의 덧셈\n",
    "- 역순으로 저장된 연결 리스트의 숫자를 더하라 <br>\n",
    "리트코드 21"
   ]
  },
  {
   "cell_type": "markdown",
   "id": "7440ab5d-768e-46a9-98ec-4da10e93b6e6",
   "metadata": {},
   "source": [
    "---"
   ]
  },
  {
   "cell_type": "markdown",
   "id": "755a3f7e-9b00-4cd8-83a5-efb8fa13e692",
   "metadata": {},
   "source": [
    "#### 풀이) 01. 자료형 변환\n",
    "1. 역순으로 된 연결 리스트 뒤집기\n",
    "2. 연결리스트를 파이썬의 리스트로 변경하기\n",
    "3. 리스트를 int형태로 결합하기"
   ]
  },
  {
   "cell_type": "markdown",
   "id": "037071c4-af8f-4850-9d4a-2bc2e2422dcf",
   "metadata": {},
   "source": [
    "<pre>\n",
    "class Solution:\n",
    "    # 연결리스트 뒤집기\n",
    "    def reverse(self, head: ListNode) -> ListNode:\n",
    "        node, prev = head, None\n",
    "        \n",
    "        while node:\n",
    "            next, node.next = node.next, prev\n",
    "            prev, node = node, next\n",
    "            \n",
    "        return prev\n",
    "    \n",
    "    # 연결리스트를 파이썬 리스트로 변환\n",
    "    def toList(self, node: ListNode) -> List:\n",
    "        list: List = []\n",
    "        while node:\n",
    "            list.append(node.val)\n",
    "            node = node.next\n",
    "            \n",
    "        return list\n",
    "    \n",
    "    # 파이썬 리스트를 연결 리스트로 변환\n",
    "    def toReversedLinked(self, result: str) -> ListNode:\n",
    "        prev: ListNode = None\n",
    "        for r in result:\n",
    "            node = ListNode(r)\n",
    "            node.next = prev\n",
    "            prev = node\n",
    "            \n",
    "        return node\n",
    "    \n",
    "    def addTwoNumbers(self, l1: Optional[ListNode], l2: Optional[ListNode]) -> Optional[ListNode]:\n",
    "        a = self.toList(self.reverse(l1))\n",
    "        b = self.toList(self.reverse(l2))\n",
    "        \n",
    "        resultStr = int(''.join(map(str,a))) + int(''.join(map(str,b)))\n",
    "        resultStr = int(''.join(str(e) for e in a)) + int(''.join(str(e) for e in b)) # 맵을 적용한것보다 런타임이 더 빠름\n",
    "        \n",
    "        # 최종 계산 결과 연결 리스트 변환\n",
    "        return self.toReversedLinked(str(resultStr))\n",
    "</pre>"
   ]
  },
  {
   "cell_type": "markdown",
   "id": "020028f0-7705-4f2f-a5fd-6aeabbbef8e6",
   "metadata": {},
   "source": [
    "---"
   ]
  },
  {
   "cell_type": "markdown",
   "id": "8e61d52e-9061-48cf-9a40-af85a4933d30",
   "metadata": {},
   "source": [
    "#### 풀이) 02.전가산기 구현\n",
    "- 비트 연산으로 풀이"
   ]
  },
  {
   "cell_type": "markdown",
   "id": "0be6f79b-40a7-4706-ac7b-7adec6ee636e",
   "metadata": {},
   "source": [
    "<pre>\n",
    "class Solution:\n",
    "    def addTwoNumbers(self, l1: Optional[ListNode], l2: Optional[ListNode]) -> Optional[ListNode]:\n",
    "        root = head = ListNode(0)\n",
    "        \n",
    "        carry = 0\n",
    "        \n",
    "        while l1 or l2 or carry:\n",
    "            sum = 0\n",
    "            # 두 입력값의 합 계산\n",
    "            if l1:\n",
    "                sum += l1.val\n",
    "                l1 = l1.next\n",
    "                \n",
    "            if l2:\n",
    "                sum += l2.val\n",
    "                l2 = l2.next\n",
    "                \n",
    "            # 몫(자리올림수)과 나머지(값) 계산\n",
    "            carry, val = divmod(sum + carry, 10)\n",
    "            head.next = ListNode(val)\n",
    "            head = head.next\n",
    "            \n",
    "        return root.next\n",
    "    \n",
    "</pre>"
   ]
  }
 ],
 "metadata": {
  "kernelspec": {
   "display_name": "Python 3",
   "language": "python",
   "name": "python3"
  },
  "language_info": {
   "codemirror_mode": {
    "name": "ipython",
    "version": 3
   },
   "file_extension": ".py",
   "mimetype": "text/x-python",
   "name": "python",
   "nbconvert_exporter": "python",
   "pygments_lexer": "ipython3",
   "version": "3.8.8"
  }
 },
 "nbformat": 4,
 "nbformat_minor": 5
}
