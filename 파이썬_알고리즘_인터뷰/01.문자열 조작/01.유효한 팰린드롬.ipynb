{
 "cells": [
  {
   "cell_type": "markdown",
   "metadata": {
    "tags": []
   },
   "source": [
    "### 팰린드롬이란?\n",
    "- 앞뒤가 똑같은 단어나 문장으로, 뒤집어도 같은 말이 되는 단어 또는 문장을 팰린드롬이라고 한다.\n",
    "- ex) '소주 만 병만 주소'"
   ]
  },
  {
   "cell_type": "code",
   "execution_count": 67,
   "metadata": {},
   "outputs": [],
   "source": [
    "import time"
   ]
  },
  {
   "cell_type": "markdown",
   "metadata": {},
   "source": [
    "#### 01. 리스트로 변환"
   ]
  },
  {
   "cell_type": "code",
   "execution_count": 59,
   "metadata": {},
   "outputs": [],
   "source": [
    "strs = []\n",
    "s = 'A man, a plan, a canal: Panama'\n",
    "\n",
    "for char in s:\n",
    "    if char.isalnum(): # isalnum()은 영문자, 숫자여부를 판별하는 함수\n",
    "        strs.append(char.lower()) # lower를 통해 모두 소문자로 변환\n",
    "\n",
    "while len(strs) > 1:\n",
    "    if strs.pop(0) != strs.pop(): # 처음과 끝을 비교\n",
    "        print('False')"
   ]
  },
  {
   "cell_type": "code",
   "execution_count": 60,
   "metadata": {},
   "outputs": [],
   "source": [
    "class isPalindrome():\n",
    "    def isPalindrome_list(self, s:str) -> bool:\n",
    "        strs = []\n",
    "        \n",
    "        for char in s:\n",
    "            if char.isalnum(): # isalnum()은 영문자, 숫자여부를 판별하는 함수\n",
    "                strs.append(char.lower()) # lower를 통해 모두 소문자로 변환\n",
    "        \n",
    "        start_time = time.time()\n",
    "        # 팰린드롬 여부 판별\n",
    "        while len(strs) > 1:\n",
    "            if strs.pop(0) != strs.pop():\n",
    "                return False\n",
    "        end_time = time.time()\n",
    "        print(\"Time: \" , end_time - start_time)\n",
    "        return True"
   ]
  },
  {
   "cell_type": "code",
   "execution_count": 61,
   "metadata": {},
   "outputs": [],
   "source": [
    "isPalindrome_list = isPalindrome()"
   ]
  },
  {
   "cell_type": "code",
   "execution_count": 62,
   "metadata": {},
   "outputs": [
    {
     "name": "stdout",
     "output_type": "stream",
     "text": [
      "Time:  0.0\n"
     ]
    },
    {
     "data": {
      "text/plain": [
       "True"
      ]
     },
     "execution_count": 62,
     "metadata": {},
     "output_type": "execute_result"
    }
   ],
   "source": [
    "s = 'A man, a plan, a canal: Panama'\n",
    "isPalindrome_list.isPalindrome_list(s)"
   ]
  },
  {
   "cell_type": "markdown",
   "metadata": {},
   "source": [
    "#### 02. 데크 자료형을 이용한 최적화"
   ]
  },
  {
   "cell_type": "code",
   "execution_count": 68,
   "metadata": {},
   "outputs": [],
   "source": [
    "from collections import deque"
   ]
  },
  {
   "cell_type": "code",
   "execution_count": 89,
   "metadata": {},
   "outputs": [],
   "source": [
    "class isPalindrome():\n",
    "    def isPalindrome_list(self, s:str) -> bool:\n",
    "        strs = []\n",
    "\n",
    "        for char in s:\n",
    "            if char.isalnum(): # isalnum()은 영문자, 숫자여부를 판별하는 함수\n",
    "                strs.append(char.lower()) # lower를 통해 모두 소문자로 변환\n",
    "\n",
    "        # 팰린드롬 여부 판별\n",
    "        while len(strs) > 1:\n",
    "            if strs.pop(0) != strs.pop():\n",
    "                return False\n",
    "\n",
    "        return True\n",
    "    \n",
    "    \n",
    "    def isPalindrome_Deq(self, s:str) -> bool:\n",
    "        # 자료형 데크로 선언\n",
    "        strs: Deque = deque()\n",
    "        \n",
    "        for char in s:\n",
    "            if char.isalnum():\n",
    "                strs.append(char.lower())\n",
    "        \n",
    "        start_time = time.time()\n",
    "        while len(strs)>1:\n",
    "            if strs.popleft() != strs.pop():\n",
    "                return False\n",
    "        \n",
    "        end_time = time.time()\n",
    "        print(\"Time: \" , end_time - start_time)\n",
    "        \n",
    "        return True"
   ]
  },
  {
   "cell_type": "code",
   "execution_count": 90,
   "metadata": {},
   "outputs": [],
   "source": [
    "isPalindrome_Deq = isPalindrome()"
   ]
  },
  {
   "cell_type": "code",
   "execution_count": 91,
   "metadata": {},
   "outputs": [
    {
     "name": "stdout",
     "output_type": "stream",
     "text": [
      "Time:  0.0\n"
     ]
    },
    {
     "data": {
      "text/plain": [
       "True"
      ]
     },
     "execution_count": 91,
     "metadata": {},
     "output_type": "execute_result"
    }
   ],
   "source": [
    "s = 'A man, a plan, a canal: Panama'\n",
    "isPalindrome_Deq.isPalindrome_Deq(s)"
   ]
  },
  {
   "cell_type": "markdown",
   "metadata": {},
   "source": [
    "#### 03. 슬라이싱 사용"
   ]
  },
  {
   "cell_type": "code",
   "execution_count": 99,
   "metadata": {},
   "outputs": [],
   "source": [
    "import re"
   ]
  },
  {
   "cell_type": "code",
   "execution_count": 100,
   "metadata": {},
   "outputs": [],
   "source": [
    "class isPalindrome():\n",
    "    def isPalindrome_list(self, s:str) -> bool:\n",
    "        strs = []\n",
    "\n",
    "        for char in s:\n",
    "            if char.isalnum(): # isalnum()은 영문자, 숫자여부를 판별하는 함수\n",
    "                strs.append(char.lower()) # lower를 통해 모두 소문자로 변환\n",
    "\n",
    "        # 팰린드롬 여부 판별\n",
    "        while len(strs) > 1:\n",
    "            if strs.pop(0) != strs.pop():\n",
    "                return False\n",
    "\n",
    "        return True\n",
    "    \n",
    "    \n",
    "    def isPalindrome_Deq(self, s:str) -> bool:\n",
    "        # 자료형 데크로 선언\n",
    "        strs: Deque = deque()\n",
    "        \n",
    "        for char in s:\n",
    "            if char.isalnum():\n",
    "                strs.append(char.lower())\n",
    "        \n",
    "        start_time = time.time()\n",
    "        while len(strs)>1:\n",
    "            if strs.popleft() != strs.pop():\n",
    "                return False\n",
    "        \n",
    "        end_time = time.time()\n",
    "        print(\"Time: \" , end_time - start_time)\n",
    "        \n",
    "        return True\n",
    "    \n",
    "    \n",
    "    def isPalindrome_slice(self, s:str) -> bool:\n",
    "        s = s.lower()\n",
    "        # 정규식으로 불필요한 문자 필터링\n",
    "        s = re.sub('[^a-z0-9]', '', s)\n",
    "        \n",
    "        return s == s[::-1]"
   ]
  },
  {
   "cell_type": "code",
   "execution_count": 101,
   "metadata": {},
   "outputs": [
    {
     "data": {
      "text/plain": [
       "True"
      ]
     },
     "execution_count": 101,
     "metadata": {},
     "output_type": "execute_result"
    }
   ],
   "source": [
    "isPalindrome_slice = isPalindrome()\n",
    "s = 'A man, a plan, a canal: Panama'\n",
    "isPalindrome_slice.isPalindrome_slice(s)"
   ]
  },
  {
   "cell_type": "markdown",
   "metadata": {},
   "source": [
    "#### 시간비교\n",
    "| 풀이 | 방식 | 실행 시간 |\n",
    "|---|:---:|---:|\n",
    "| 1 | 리스트로 변환 | 304밀리초 |\n",
    "| 2 | 데크 자료형을 이용한 최적화 | 64밀리초 |\n",
    "| 3 | 슬라이싱 사용 | 36밀리초 |\n"
   ]
  },
  {
   "cell_type": "code",
   "execution_count": null,
   "metadata": {},
   "outputs": [],
   "source": []
  }
 ],
 "metadata": {
  "kernelspec": {
   "display_name": "Python 3",
   "language": "python",
   "name": "python3"
  },
  "language_info": {
   "codemirror_mode": {
    "name": "ipython",
    "version": 3
   },
   "file_extension": ".py",
   "mimetype": "text/x-python",
   "name": "python",
   "nbconvert_exporter": "python",
   "pygments_lexer": "ipython3",
   "version": "3.8.5"
  }
 },
 "nbformat": 4,
 "nbformat_minor": 5
}
