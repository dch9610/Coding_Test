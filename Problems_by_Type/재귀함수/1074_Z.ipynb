{
 "cells": [
  {
   "cell_type": "markdown",
   "metadata": {},
   "source": [
    "## 문제설명\n",
    "- 문제 제목 : 1074_Z\n",
    "- 문제 유형 : 재귀 함수"
   ]
  },
  {
   "cell_type": "markdown",
   "metadata": {},
   "source": [
    "### 문제\n",
    "한수는 크기가 2N × 2N인 2차원 배열을 Z모양으로 탐색하려고 한다. 예를 들어, 2×2배열을 왼쪽 위칸, 오른쪽 위칸, 왼쪽 아래칸, 오른쪽 아래칸 순서대로 방문하면 Z모양이다.\n",
    "\n",
    "만약, N > 1이 라서 왼쪽 위에 있는 칸이 하나가 아니라면, 배열을 크기가 2N-1 × 2N-1로 4등분 한 후에 재귀적으로 순서대로 방문한다.\n",
    "\n",
    "N이 주어졌을 때, r행 c열을 몇 번째로 방문하는지 출력하는 프로그램을 작성하시오."
   ]
  },
  {
   "cell_type": "markdown",
   "metadata": {},
   "source": [
    "### 입력\n",
    "첫째 줄에 정수 N, r, c가 주어진다."
   ]
  },
  {
   "cell_type": "markdown",
   "metadata": {},
   "source": [
    "### 출력\n",
    "r행 c열을 몇번째로 방문했는지 출력한다."
   ]
  },
  {
   "cell_type": "markdown",
   "metadata": {},
   "source": [
    "### 예제 입력 1\n",
    "2 3 1\n",
    "\n",
    "### 예제 출력 1\n",
    "11\n",
    "\n",
    "---\n",
    "### 예제 입력 2\n",
    "3 7 7\n",
    "\n",
    "### 예제 출력 2\n",
    "63"
   ]
  },
  {
   "cell_type": "markdown",
   "metadata": {},
   "source": [
    "---"
   ]
  },
  {
   "cell_type": "code",
   "execution_count": 28,
   "metadata": {},
   "outputs": [],
   "source": [
    "def array_2(n, x, y):\n",
    "    # 출력값 변수\n",
    "    global result\n",
    "    \n",
    "    # 2차원 배열인 경우\n",
    "    if n == 2:\n",
    "        # Z에서 첫번째 위치(0,0)와 일치한 경우\n",
    "        if  x == X and y == Y:\n",
    "            print(result) \n",
    "            return\n",
    "        # 아닌경우 +1\n",
    "        result += 1\n",
    "         \n",
    "        # Z에서 두번째 위치(0,1)와 일치한 경우\n",
    "        if  x == X and y + 1 == Y:\n",
    "            print(result) \n",
    "            return\n",
    "        # 아닌경우 +1\n",
    "        result += 1\n",
    "        \n",
    "        # Z에서 세번째 위치(1,0)와 일치한 경우\n",
    "        if  x + 1 == X and y == Y:\n",
    "            print(result) \n",
    "            return\n",
    "        # 아닌경우 +1\n",
    "        result += 1\n",
    "        \n",
    "        # Z에서 네번째 위치(1,1)와 일치한 경우\n",
    "        if  x+1 == X and y+1 == Y:\n",
    "            print(result)\n",
    "            return\n",
    "        # 아닌경우 +1\n",
    "        result += 1\n",
    "        return\n",
    "    \n",
    "    # 2차원 배열이 아닌경우 (N>1) 각각의 위치를 나눔 (2*2)\n",
    "    array_2(n/2, x, y)\n",
    "    array_2(n/2, x, y+n/2)\n",
    "    array_2(n/2, x+n/2, y)\n",
    "    array_2(n/2, x+n/2, y+n/2)"
   ]
  },
  {
   "cell_type": "code",
   "execution_count": 29,
   "metadata": {},
   "outputs": [
    {
     "name": "stdout",
     "output_type": "stream",
     "text": [
      "2 3 1\n",
      "11\n"
     ]
    }
   ],
   "source": [
    "result = 0\n",
    "N, X, Y = map(int,input().split(' '))\n",
    "# 배열의 크기와 시작점 선언(0,0)\n",
    "array_2(2**N,0,0)"
   ]
  }
 ],
 "metadata": {
  "kernelspec": {
   "display_name": "Python 3",
   "language": "python",
   "name": "python3"
  },
  "language_info": {
   "codemirror_mode": {
    "name": "ipython",
    "version": 3
   },
   "file_extension": ".py",
   "mimetype": "text/x-python",
   "name": "python",
   "nbconvert_exporter": "python",
   "pygments_lexer": "ipython3",
   "version": "3.8.5"
  }
 },
 "nbformat": 4,
 "nbformat_minor": 4
}
