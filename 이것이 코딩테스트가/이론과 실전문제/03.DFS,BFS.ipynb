{
 "cells": [
  {
   "cell_type": "markdown",
   "metadata": {},
   "source": [
    "### 꼭 필요한 자료구조\n",
    "- 탐색 : 많은 양의 데이터 중에서 원하는 데이터를 찾는 과정\n",
    "- 자료구조 : 데이터를 표현하고 관리하고 처리하기 위한 구조\n",
    "    - 스택 : 선입후출, 후입선출 구조\n",
    "    -  큐 : 선입선출 구조\n",
    "    \n"
   ]
  },
  {
   "cell_type": "markdown",
   "metadata": {},
   "source": [
    "- 재귀함수 : 자기 자신을 다시 호출하는 함수\n",
    "    * 컴퓨터 내부에서 재귀 함수의 수행은 스택 자료구조를 이용한다."
   ]
  },
  {
   "cell_type": "code",
   "execution_count": 7,
   "metadata": {},
   "outputs": [
    {
     "name": "stdout",
     "output_type": "stream",
     "text": [
      "반복적 표현:  120\n",
      "재귀식 표현:  120\n"
     ]
    }
   ],
   "source": [
    "# 반복적으로 표현\n",
    "def fac(n):\n",
    "    result = 1\n",
    "    # 1부터 n까지의 수를 차례대로 곱하기\n",
    "    for i in range(1, n+1):\n",
    "        result *= i\n",
    "    return result\n",
    "\n",
    "# 재귀식으로 표현\n",
    "def fac_rec(n):\n",
    "    if n <=1:\n",
    "        return 1\n",
    "    return n * fac_rec(n-1)\n",
    "\n",
    "print('반복적 표현: ',fac(5))\n",
    "print('재귀식 표현: ',fac_rec(5))"
   ]
  },
  {
   "cell_type": "markdown",
   "metadata": {},
   "source": [
    "---"
   ]
  },
  {
   "cell_type": "markdown",
   "metadata": {},
   "source": [
    "### DFS\n",
    "- 깊이 우선 탐색이라고 부르며, 그래프에서 깊은 부분을 우선적으로 탐색하는 알고리즘\n",
    "    - 인접 행렬 : 2차원 배열로 그래프의 연결 관계를 표현하는 방식\n",
    "    - 인접 리스트 : 리스트로 그래프의 연결 관계를 표현하는 방식"
   ]
  },
  {
   "cell_type": "markdown",
   "metadata": {},
   "source": [
    "1. 탐색 시작 노드를 스택에 삽입하고 방문 처리를 한다.\n",
    "2. 스택의 최상단 노드에 방문하지 않은 인접 노드(낮은 노드부터)가 있으면 그 인접 노드를 스택에 넣고 방문 처리를 한다. 방문하지 않은 인접 노드가 없으면 스택에서 최상단 노드를 꺼낸다.\n",
    "3. 2번의 과정을 더 이상 수행할 수 없을 떄까지 반복한다."
   ]
  },
  {
   "cell_type": "code",
   "execution_count": 10,
   "metadata": {},
   "outputs": [
    {
     "data": {
      "text/plain": [
       "[[0, 7, 5], [7, 0, -9223372036854775807], [5, -9223372036854775807, 0]]"
      ]
     },
     "execution_count": 10,
     "metadata": {},
     "output_type": "execute_result"
    }
   ],
   "source": [
    "import sys\n",
    "# 최댓값 변수는 최솟값으로, 최솟값 변수는 최댓값으로 지정\n",
    "# 어떤 값이 들어오든 바로 교체될수 있기 때문\n",
    "INF = -sys.maxsize\n",
    "\n",
    "\n",
    "# 2차원 리스트를 이용해 인접행렬 표현\n",
    "graph = [\n",
    "    [0,7,5],\n",
    "    [7,0,INF],\n",
    "    [5,INF,0]\n",
    "]\n",
    "graph"
   ]
  },
  {
   "cell_type": "code",
   "execution_count": 17,
   "metadata": {},
   "outputs": [],
   "source": [
    "graph =[\n",
    "    [],\n",
    "    [2, 3, 8],\n",
    "    [1,7],\n",
    "    [1,4,5],\n",
    "    [3,5],\n",
    "    [3,4],\n",
    "    [7],\n",
    "    [2,6,8],\n",
    "    [1,7]\n",
    "]\n",
    "\n",
    "visted = [False] * len(graph)"
   ]
  },
  {
   "cell_type": "code",
   "execution_count": 18,
   "metadata": {},
   "outputs": [],
   "source": [
    "# 구현\n",
    "def dfs(graph, v, visted):\n",
    "    # 현재 노드를 방문 처리\n",
    "    visted[v] = True\n",
    "    print(v,end=' ')\n",
    "    \n",
    "    # 현재 노드와 연결된 다른 노드를 재귀적으로 방문\n",
    "    for i in graph[v]:\n",
    "        if not visted[i]:\n",
    "            dfs(graph, i, visted)"
   ]
  },
  {
   "cell_type": "code",
   "execution_count": 19,
   "metadata": {},
   "outputs": [
    {
     "name": "stdout",
     "output_type": "stream",
     "text": [
      "1 2 7 6 8 3 4 5 "
     ]
    }
   ],
   "source": [
    "dfs(graph, 1, visted)"
   ]
  },
  {
   "cell_type": "markdown",
   "metadata": {},
   "source": [
    "---"
   ]
  },
  {
   "cell_type": "markdown",
   "metadata": {},
   "source": [
    "### BFS\n",
    "- '너비 우선 탐색'이라는 의미를 가진다. 가까운 노드부터 탐색하는 알고리즘\n",
    "- DFS는 최대한 멀리 있는 노드를 우선으로 탐색하는 방식이라면 BFS는 그 반대이다.\n"
   ]
  },
  {
   "cell_type": "markdown",
   "metadata": {},
   "source": [
    "1. 탐색 시작 노드를 큐에 삽입하고 방문 처리를 한다.\n",
    "2. 큐에서 노드를 꺼내 해당 노드의 인접 노드 중에서 방문하지 않은 노드를 모두 큐에 삽입하고 방문 처리를 한다.\n",
    "3. 2번의 과정을 더 이상 수행할 수 없을때까지 반복한다."
   ]
  },
  {
   "cell_type": "code",
   "execution_count": 31,
   "metadata": {},
   "outputs": [],
   "source": [
    "graph =[\n",
    "    [],\n",
    "    [2, 3, 8],\n",
    "    [1,7],\n",
    "    [1,4,5],\n",
    "    [3,5],\n",
    "    [3,4],\n",
    "    [7],\n",
    "    [2,6,8],\n",
    "    [1,7]\n",
    "]\n",
    "\n",
    "visted = [False] * len(graph)"
   ]
  },
  {
   "cell_type": "code",
   "execution_count": 32,
   "metadata": {},
   "outputs": [],
   "source": [
    "from collections import deque\n",
    "\n",
    "def bfs(graph, start, visted):\n",
    "    # 큐 구현을 위해 deque 라이브러리 사용\n",
    "    queue = deque([start])\n",
    "    \n",
    "    # 현재 노드를 방문 처리\n",
    "    visted[start] = True\n",
    "    \n",
    "    # 큐가 빌때까지 반복\n",
    "    while queue:\n",
    "        # 큐에서 하나의 원소를 뽑아 출력\n",
    "        v = queue.popleft()\n",
    "        print(v, end=' ')\n",
    "        \n",
    "        # 해당 원소와 연결된, 아직 방문하지 않은 원소들을 큐에 삽입\n",
    "        for i in graph[v]:\n",
    "            if not visted[i]:\n",
    "                queue.append(i)\n",
    "                visted[i] = True\n",
    "                "
   ]
  },
  {
   "cell_type": "code",
   "execution_count": 33,
   "metadata": {},
   "outputs": [
    {
     "name": "stdout",
     "output_type": "stream",
     "text": [
      "1 2 3 8 7 4 5 6 "
     ]
    }
   ],
   "source": [
    "bfs(graph, 1, visted)"
   ]
  },
  {
   "cell_type": "markdown",
   "metadata": {},
   "source": [
    "---"
   ]
  },
  {
   "cell_type": "markdown",
   "metadata": {},
   "source": [
    "### DFS와 BFS 비교\n",
    "- DFS : 스택, 재귀함수 이용\n",
    "- BFS : 큐, 큐 자료구조 이용"
   ]
  },
  {
   "cell_type": "markdown",
   "metadata": {},
   "source": [
    "코딩테스트 중 2차원 배열에서의 탐색 문제를 만나면 그래프 형태로 바꿔서 생각하면 풀이 방법을 조금 더 쉽게 떠올릴 수 있다. <br>\n",
    "탐색문제를 보면 그래프 형태로 표현한 다음 풀이법을 고민"
   ]
  },
  {
   "cell_type": "markdown",
   "metadata": {},
   "source": [
    "---"
   ]
  },
  {
   "cell_type": "markdown",
   "metadata": {},
   "source": [
    "### 실전문제 01.음료수 얼려 먹기"
   ]
  },
  {
   "cell_type": "markdown",
   "metadata": {},
   "source": [
    "0인 부분끼리 붙어있는 걍우 아이스크림으로 간주\n",
    "\n",
    "ex) <br>\n",
    "00110<br>\n",
    "00011<br>\n",
    "11111<br>\n",
    "00000<br>\n",
    "\n",
    "3이 출력"
   ]
  },
  {
   "cell_type": "markdown",
   "metadata": {},
   "source": [
    "1. 특정한 지점의 주변 상, 하, 좌, 우를 살펴본 뒤에 주변 지점 중에서 값이 '0'이면서 아직 방문하지 않은 지점이 있다면 해당 지정을 방문\n",
    "2. 방문한 지점에서 다시 상, 하 좌, 우를 살펴보면서 방문을 다시 진행하면, 연결된 모든 지점을 방문\n",
    "3. 1 ~ 2번의 과정을 모든 노드에 반복하며 방문하지 않은 지점의 수를 센다."
   ]
  },
  {
   "cell_type": "code",
   "execution_count": 41,
   "metadata": {},
   "outputs": [
    {
     "name": "stdin",
     "output_type": "stream",
     "text": [
      " 3 3\n",
      " 111\n",
      " 011\n",
      " 100\n"
     ]
    },
    {
     "name": "stdout",
     "output_type": "stream",
     "text": [
      "2\n"
     ]
    }
   ],
   "source": [
    "# N,M 값 입력받기\n",
    "N, M = map(int, input().split())\n",
    " \n",
    "# 2차원 리스트의 맵 정보 입력받기\n",
    "graph = []\n",
    "for i in range(N):\n",
    "    graph.append(list(map(int, input())))\n",
    "\n",
    "\n",
    "# DFS로 특정한 노드를 방문한 뒤에 연결된 모든 노드들도 방문 (인접한 노드 방문)\n",
    "def dfs(x,y):\n",
    "    # 예외처리 (주어진 범위 벗어나는 경우)\n",
    "    if x <= -1 or x >= N or y <= -1 or y >= M:\n",
    "        return False\n",
    "    \n",
    "    # 현재 노드를 아직 방문하지 않았다면\n",
    "    if graph[x][y] == 0:\n",
    "        # 해당 노드 방문 처리\n",
    "        graph[x][y] = 1\n",
    "        # 상,하,좌,우 재귀호출\n",
    "        dfs(x-1,y)\n",
    "        dfs(x+1,y)\n",
    "        dfs(x,y+1)\n",
    "        dfs(x,y-1)\n",
    "        return True\n",
    "    return False\n",
    "\n",
    "# 모든 노드에 대하여 음료수 채우기\n",
    "result = 0\n",
    "for i in range(N):\n",
    "    for j in range(M):\n",
    "        # 현재 위치에서 DFS 수행\n",
    "        if dfs(i,j) == True:\n",
    "            result += 1\n",
    "        \n",
    "print(result)"
   ]
  },
  {
   "cell_type": "markdown",
   "metadata": {},
   "source": [
    "---"
   ]
  },
  {
   "cell_type": "markdown",
   "metadata": {},
   "source": [
    "### 실전문제 04.미로탈출\n",
    "p.152"
   ]
  },
  {
   "cell_type": "markdown",
   "metadata": {},
   "source": [
    "1으로만 이동하며 움직이는 최소한 칸의 개수 구하기 <br>"
   ]
  },
  {
   "cell_type": "code",
   "execution_count": 49,
   "metadata": {},
   "outputs": [
    {
     "name": "stdin",
     "output_type": "stream",
     "text": [
      " 3 3\n",
      " 110\n",
      " 010\n",
      " 011\n"
     ]
    },
    {
     "name": "stdout",
     "output_type": "stream",
     "text": [
      "5\n"
     ]
    }
   ],
   "source": [
    "from collections import deque\n",
    "\n",
    "# N,M 값 입력받기\n",
    "N, M = map(int, input().split())\n",
    " \n",
    "# 2차원 리스트의 맵 정보 입력받기\n",
    "graph = []\n",
    "for i in range(N):\n",
    "    graph.append(list(map(int, input())))\n",
    "    \n",
    "\n",
    "# 이동할 방향 정의 (상,하,좌,우)\n",
    "dx = [-1,1,0,0]\n",
    "dy = [0,0,-1,1]\n",
    "\n",
    "# bfs 함수 구현\n",
    "def bfs(x,y):\n",
    "    queue = deque()\n",
    "    queue.append((x,y))\n",
    "    \n",
    "    # 큐가 빌때까지 반복\n",
    "    while queue:\n",
    "        x,y = queue.popleft()\n",
    "        # 현재 위치에서 네 방향으로의 위치확인\n",
    "        for i in range(len(dx)):\n",
    "            nx = x + dx[i]\n",
    "            ny = y + dy[i]\n",
    "            \n",
    "            # 미로 찾기 공간을 벗어난 경우 무시\n",
    "            if nx < 0 or ny < 0 or nx >= N or ny >= M:\n",
    "                continue\n",
    "            # 벽인 경우 무시\n",
    "            if graph[nx][ny] == 0:\n",
    "                continue\n",
    "            # 해당 노드를 처음 방문하는 경우에만 최단 거리 기록\n",
    "            if graph[nx][ny] == 1:\n",
    "                graph[nx][ny] = graph[x][y] + 1\n",
    "                queue.append((nx,ny))\n",
    "    # 가장 오른쪽 아래까지의 최단 거리 반환\n",
    "    return graph[N-1][M-1]\n",
    "    \n",
    "print(bfs(0,0))"
   ]
  },
  {
   "cell_type": "code",
   "execution_count": 46,
   "metadata": {},
   "outputs": [
    {
     "data": {
      "text/plain": [
       "1"
      ]
     },
     "execution_count": 46,
     "metadata": {},
     "output_type": "execute_result"
    }
   ],
   "source": [
    "queue = deque()\n",
    "queue.append((1,1))\n",
    "x,y = queue.popleft()"
   ]
  }
 ],
 "metadata": {
  "kernelspec": {
   "display_name": "Python 3",
   "language": "python",
   "name": "python3"
  },
  "language_info": {
   "codemirror_mode": {
    "name": "ipython",
    "version": 3
   },
   "file_extension": ".py",
   "mimetype": "text/x-python",
   "name": "python",
   "nbconvert_exporter": "python",
   "pygments_lexer": "ipython3",
   "version": "3.8.5"
  }
 },
 "nbformat": 4,
 "nbformat_minor": 4
}
