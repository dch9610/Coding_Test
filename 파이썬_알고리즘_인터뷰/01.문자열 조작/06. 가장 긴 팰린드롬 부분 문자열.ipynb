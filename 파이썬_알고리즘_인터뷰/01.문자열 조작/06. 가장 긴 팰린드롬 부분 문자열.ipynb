{
 "cells": [
  {
   "cell_type": "markdown",
   "id": "7b023813-573d-4000-8c73-af437bd5fb94",
   "metadata": {},
   "source": [
    "### 06.가장 긴 팰린드롬 부분 문자열\n",
    "- 입력 : \"babad\"\n",
    "- 출력 : \"bab\"\n",
    "\n",
    "\n",
    "- 입력 : \"cbbd\"\n",
    "- 출력 : \"bb\""
   ]
  },
  {
   "cell_type": "markdown",
   "id": "faebfbe4-3d05-4dba-b14d-bd129e20edbe",
   "metadata": {},
   "source": [
    "---"
   ]
  },
  {
   "cell_type": "markdown",
   "id": "fca01b13-4432-4b70-823f-1d8052ed8e03",
   "metadata": {},
   "source": [
    "#### 01. 중앙을 중심으로 확장하는 풀이\n"
   ]
  }
 ],
 "metadata": {
  "kernelspec": {
   "display_name": "Python 3",
   "language": "python",
   "name": "python3"
  },
  "language_info": {
   "codemirror_mode": {
    "name": "ipython",
    "version": 3
   },
   "file_extension": ".py",
   "mimetype": "text/x-python",
   "name": "python",
   "nbconvert_exporter": "python",
   "pygments_lexer": "ipython3",
   "version": "3.8.8"
  }
 },
 "nbformat": 4,
 "nbformat_minor": 5
}
