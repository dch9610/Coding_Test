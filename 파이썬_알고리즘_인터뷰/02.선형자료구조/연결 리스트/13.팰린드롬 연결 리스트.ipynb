{
 "cells": [
  {
   "cell_type": "markdown",
   "id": "c327035c-96f4-4314-8ef4-fc2af824a491",
   "metadata": {},
   "source": [
    "### 연결 리스트가 팰린드롬 구조인지 판별하라\n",
    "리트코드 234"
   ]
  },
  {
   "cell_type": "markdown",
   "id": "ee8d7d58-b00e-4801-a302-3c7dc56784a9",
   "metadata": {},
   "source": [
    "#### 풀이) 01. 리스트 변환\n",
    "\n",
    "- 파이썬 리스트는 pop() 함수에 인덱스를 지정할 수 있어 마지막 요소가 아니라도 원하는 위치를 자유롭게 추출가능\n"
   ]
  },
  {
   "cell_type": "markdown",
   "id": "77f428bb-e76a-45da-a2de-e55ac7d5da08",
   "metadata": {},
   "source": [
    "<pre>\n",
    "\n",
    "class Solution:\n",
    "    def isPalindrome(self, head: Optional[ListNode]) -> bool:\n",
    "        q = list()\n",
    "        \n",
    "        if not head:\n",
    "            return True\n",
    "        \n",
    "        node = head\n",
    "        \n",
    "        # 리스트 변환\n",
    "        while node is not None:\n",
    "            q.append(node.val)\n",
    "            node = node.next\n",
    "            \n",
    "        # 팰린드롬 판별\n",
    "        while len(q) > 1:\n",
    "            if q.pop(0) != q.pop():\n",
    "                return False\n",
    "            \n",
    "        return True\n",
    "    \n",
    "</pre>"
   ]
  },
  {
   "cell_type": "markdown",
   "id": "c5d07cc7-230c-4358-aab0-ec6fd0b9eb6a",
   "metadata": {},
   "source": [
    "---"
   ]
  },
  {
   "cell_type": "markdown",
   "id": "9e8000f7-00e7-4a10-a999-4a55bee304da",
   "metadata": {},
   "source": [
    "#### 풀이) 02. 데크를 이용한 최적화\n",
    "\n",
    "- 리스트는 맨 앞 아이템을 가져오기에 적합한 자료형이 아니다.\n",
    "    - 왜냐하면 첫번째 값을 꺼내오면 모든 값이 한 칸씩 시프팅 되며, 시간 복잡도가 O(n)이 발생하기 때문\n",
    "    \n",
    "- 데크는 이중 연결 리스트 구조로 양쪽 방향 모두 추출하는데 시간 복잡도 O(1)에 실행\n",
    "- 만약 리스트로 처리했을 때, 타임아웃이 발생하거나 코딩 인터뷰에서 질문한다면, 양방향 모두 O(1)에 가능한 데크를 설명한 다음 이 자료형을 적용할 것이라고 이야기 한다."
   ]
  },
  {
   "cell_type": "markdown",
   "id": "126757d7-fa8b-4fe8-b101-1d01ef941bb6",
   "metadata": {},
   "source": [
    "<pre>\n",
    "class Solution:\n",
    "    def isPalindrome(self, head: Optional[ListNode]) -> bool:\n",
    "        q = collections.deque() # 데크자료형 선언\n",
    "        \n",
    "        if not head:\n",
    "            return True\n",
    "        \n",
    "        node = head\n",
    "        while node is not None:\n",
    "            q.append(node.val)\n",
    "            node = node.next\n",
    "            \n",
    "        while len(q) > 1:\n",
    "            if q.popleft() != q.pop():\n",
    "                return False\n",
    "            \n",
    "        return True\n",
    "    \n",
    "</pre>"
   ]
  }
 ],
 "metadata": {
  "kernelspec": {
   "display_name": "Python 3",
   "language": "python",
   "name": "python3"
  },
  "language_info": {
   "codemirror_mode": {
    "name": "ipython",
    "version": 3
   },
   "file_extension": ".py",
   "mimetype": "text/x-python",
   "name": "python",
   "nbconvert_exporter": "python",
   "pygments_lexer": "ipython3",
   "version": "3.8.8"
  }
 },
 "nbformat": 4,
 "nbformat_minor": 5
}
