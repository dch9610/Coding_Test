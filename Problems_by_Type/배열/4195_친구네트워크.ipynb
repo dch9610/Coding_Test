{
 "cells": [
  {
   "cell_type": "markdown",
   "metadata": {},
   "source": [
    "## 문제설명\n",
    "- 문제제목 : 4195_친구네트워크\n",
    "- 문제 난이도 : 중\n",
    "- 문제 유형 : 해시, 집합, 그래프"
   ]
  },
  {
   "cell_type": "markdown",
   "metadata": {},
   "source": [
    "### 문제\n",
    "민혁이는 소셜 네트워크 사이트에서 친구를 만드는 것을 좋아하는 친구이다. 우표를 모으는 취미가 있듯이, 민혁이는 소셜 네트워크 사이트에서 친구를 모으는 것이 취미이다.\n",
    "\n",
    "어떤 사이트의 친구 관계가 생긴 순서대로 주어졌을 때, 두 사람의 친구 네트워크에 몇 명이 있는지 구하는 프로그램을 작성하시오.\n",
    "\n",
    "친구 네트워크란 친구 관계만으로 이동할 수 있는 사이를 말한다."
   ]
  },
  {
   "cell_type": "markdown",
   "metadata": {},
   "source": [
    "### 입력\n",
    "첫째 줄에 테스트 케이스의 개수가 주어진다. 각 테스트 케이스의 첫째 줄에는 친구 관계의 수 F가 주어지며, 이 값은 100,000을 넘지 않는다. \n",
    "다음 F개의 줄에는 친구 관계가 생긴 순서대로 주어진다. \n",
    "친구 관계는 두 사용자의 아이디로 이루어져 있으며, 알파벳 대문자 또는 소문자로만 이루어진 길이 20 이하의 문자열이다."
   ]
  },
  {
   "cell_type": "markdown",
   "metadata": {},
   "source": [
    "### 출력\n",
    "친구 관계가 생길 때마다, 두 사람의 친구 네트워크에 몇 명이 있는지 구하는 프로그램을 작성하시오."
   ]
  },
  {
   "cell_type": "markdown",
   "metadata": {},
   "source": [
    "### 예제 입력1\n",
    "2<br>\n",
    "3<br>\n",
    "Fred Barney<br>\n",
    "Barney Betty<br>\n",
    "Betty Wilma<br>\n",
    "3<br>\n",
    "Fred Barney<br>\n",
    "Betty Wilma<br>\n",
    "Barney Betty"
   ]
  },
  {
   "cell_type": "markdown",
   "metadata": {},
   "source": [
    "### 예제 출력1\n",
    "2 <br>\n",
    "3<br>\n",
    "4<br>\n",
    "2<br> \n",
    "2<br>\n",
    "4"
   ]
  },
  {
   "cell_type": "code",
   "execution_count": 3,
   "metadata": {},
   "outputs": [
    {
     "name": "stdout",
     "output_type": "stream",
     "text": [
      "2 2 3 2 "
     ]
    }
   ],
   "source": [
    "### Union-Find 알고리즘 구현\n",
    "\n",
    "# 자기가 가리키는 부모\n",
    "def find(x):\n",
    "    if x == parent[x]:\n",
    "        return x\n",
    "    # 재귀적\n",
    "    else:\n",
    "        p = find(parent[x])\n",
    "        parent[x] = p\n",
    "        return parent[x]\n",
    "    \n",
    "# 찾은 부모값은 x로 설정\n",
    "def union(x, y):\n",
    "    x = find(x)\n",
    "    y = find(y)\n",
    "    \n",
    "    parent[y] = x\n",
    "        \n",
    "\n",
    "parent = []\n",
    "\n",
    "for i in range(0,5):\n",
    "    parent.append(i)\n",
    "    \n",
    "union(1,4)\n",
    "union(2,4)\n",
    "\n",
    "for i in range(1,len(parent)):\n",
    "    print(find(i), end=' ')\n",
    "        "
   ]
  },
  {
   "cell_type": "markdown",
   "metadata": {},
   "source": [
    "## 구현"
   ]
  },
  {
   "cell_type": "code",
   "execution_count": 8,
   "metadata": {},
   "outputs": [],
   "source": [
    "def find(x):\n",
    "    if x == parent[x]:\n",
    "        return x\n",
    "    # 재귀적\n",
    "    else:\n",
    "        p = find(parent[x])\n",
    "        parent[x] = p\n",
    "        return parent[x]\n",
    "    \n",
    "# 찾은 부모값은 x로 설정\n",
    "def union(x, y):\n",
    "    x = find(x)\n",
    "    y = find(y)\n",
    "    \n",
    "    if x!=y:\n",
    "        parent[y] = x\n",
    "        # 친구네트워크 수 증가\n",
    "        number[x] += number[y]"
   ]
  },
  {
   "cell_type": "code",
   "execution_count": 13,
   "metadata": {},
   "outputs": [
    {
     "name": "stdout",
     "output_type": "stream",
     "text": [
      "1 \n",
      "3\n",
      "F B\n",
      "2\n",
      "B Be\n",
      "3\n",
      "Be W\n",
      "4\n"
     ]
    }
   ],
   "source": [
    "test_case = int(input())\n",
    "\n",
    "for _ in range(test_case):\n",
    "    # 노드의 값들이 문자열이기 때문에 dict형태가 효과적\n",
    "    parent = dict()\n",
    "    number = dict()\n",
    "    \n",
    "    # 친구의 관계수\n",
    "    f = int(input())\n",
    "    \n",
    "    for _ in range(f):\n",
    "        # 친구의 관계 입력\n",
    "        x, y = input().split(' ')\n",
    "        \n",
    "        # 신규 친구인 경우\n",
    "        if x not in parent:\n",
    "            parent[x] = x\n",
    "            number[x] = 1\n",
    "        \n",
    "        if y not in parent:\n",
    "            parent[y] = y\n",
    "            number[y] = 1\n",
    "        \n",
    "        union(x,y)\n",
    "        print(number[find(x)])"
   ]
  }
 ],
 "metadata": {
  "kernelspec": {
   "display_name": "Python 3",
   "language": "python",
   "name": "python3"
  },
  "language_info": {
   "codemirror_mode": {
    "name": "ipython",
    "version": 3
   },
   "file_extension": ".py",
   "mimetype": "text/x-python",
   "name": "python",
   "nbconvert_exporter": "python",
   "pygments_lexer": "ipython3",
   "version": "3.8.5"
  }
 },
 "nbformat": 4,
 "nbformat_minor": 4
}
