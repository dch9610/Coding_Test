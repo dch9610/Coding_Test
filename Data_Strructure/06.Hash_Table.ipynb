{
 "cells": [
  {
   "cell_type": "markdown",
   "metadata": {},
   "source": [
    "## 대표적인 데이터 구조6: 해쉬 테이블 (Hash Table)\n",
    "\n",
    "### 1. 해쉬 구조\n",
    "* Hash Table: 키(Key)에 데이터(Value)를 저장하는 데이터 구조\n",
    "  - Key를 통해 바로 데이터를 받아올 수 있으므로, 속도가 획기적으로 빨라짐\n",
    "  - 파이썬 딕셔너리(Dictionary) 타입이 해쉬 테이블의 예: Key를 가지고 바로 데이터(Value)를 꺼냄\n",
    "  - 보통 배열로 미리 Hash Table 사이즈만큼 생성 후에 사용 (공간과 탐색 시간을 맞바꾸는 기법)\n",
    "  - <font color='#BF360C'>단, 파이썬에서는 해쉬를 별도 구현할 이유가 없음 - 딕셔너리 타입을 사용하면 됨</font>"
   ]
  },
  {
   "cell_type": "markdown",
   "metadata": {},
   "source": [
    "### 2. 알아둘 용어\n",
    "* 해쉬(Hash): 임의 값을 고정 길이로 변환하는 것\n",
    "* 해쉬 테이블(Hash Table): 키 값의 연산에 의해 직접 접근이 가능한 데이터 구조\n",
    "* 해싱 함수(Hashing Function): Key에 대해 산술 연산을 이용해 데이터 위치를 찾을 수 있는 함수 (내가 만드는 함수)\n",
    "* 해쉬 값(Hash Value) 또는 해쉬 주소(Hash Address): Key를 해싱 함수로 연산해서, 해쉬 값을 알아내고, 이를 기반으로 해쉬 테이블에서 해당 Key에 대한 데이터 위치를 일관성있게 찾을 수 있음\n",
    "* 슬롯(Slot): 한 개의 데이터를 저장할 수 있는 공간\n",
    "* 저장할 데이터에 대해 Key를 추출할 수 있는 별도 함수도 존재할 수 있음\n",
    "<img src=\"https://www.fun-coding.org/00_Images/hash.png\" width=400 />"
   ]
  },
  {
   "cell_type": "markdown",
   "metadata": {},
   "source": [
    "### 간단하 해쉬의 예"
   ]
  },
  {
   "cell_type": "markdown",
   "metadata": {},
   "source": [
    "#### 3.1. hash table 만들기\n",
    "* 참고: 파이썬 list comprehension - https://www.fun-coding.org/PL&OOP5-2.html"
   ]
  },
  {
   "cell_type": "code",
   "execution_count": 2,
   "metadata": {
    "scrolled": true
   },
   "outputs": [
    {
     "data": {
      "text/plain": [
       "[0, 0, 0, 0, 0, 0, 0, 0, 0, 0]"
      ]
     },
     "execution_count": 2,
     "metadata": {},
     "output_type": "execute_result"
    }
   ],
   "source": [
    "hash_table = list ([0 for i in range(10)]) # list 컴플레이션 문법\n",
    "hash_table"
   ]
  },
  {
   "cell_type": "markdown",
   "metadata": {},
   "source": [
    "#### 3.2. 이번엔 초간단 해쉬 함수를 만들어봅니다.\n",
    "- 다양한 해쉬 함수 고안 기법이 있으며, 가장 간단한 방식이 Division 법 (나누기를 통한 나머지 값을 사용하는 기법)"
   ]
  },
  {
   "cell_type": "code",
   "execution_count": 4,
   "metadata": {},
   "outputs": [],
   "source": [
    "def hash_func(key):\n",
    "    return key % 5"
   ]
  },
  {
   "cell_type": "markdown",
   "metadata": {},
   "source": [
    "### 3.3 해쉬 테이블에 데이터 저장\n",
    "* 데이터에 따라 필요시 key 생성 방법 정의가 필요함"
   ]
  },
  {
   "cell_type": "code",
   "execution_count": 5,
   "metadata": {},
   "outputs": [
    {
     "name": "stdout",
     "output_type": "stream",
     "text": [
      "65 68 84\n",
      "65 0\n",
      "65 65\n"
     ]
    }
   ],
   "source": [
    "data1 = 'Andy'\n",
    "data2 = 'Dave'\n",
    "data3 = 'Trump'\n",
    "data4 = 'Anthor'\n",
    "\n",
    "## ord(): 문자의 ASCII(아스키)코드 리턴\n",
    "print (ord(data1[0]), ord(data2[0]), ord(data3[0])) # ASCII 코드 값을 키값으로 활용\n",
    "print (ord(data1[0]), hash_func(ord(data1[0])))\n",
    "print (ord(data1[0]), ord(data4[0])) # A로 시작하기 때문에 키값이 같음"
   ]
  },
  {
   "cell_type": "markdown",
   "metadata": {},
   "source": [
    "- 3.3.2. 해쉬 테이블에 값 저장 예\n",
    "  - data:value 와 같이 data 와 value를 넣으면, 해당 data에 대한 key를 찾아서, 해당 key에 대응하는 해쉬주소에 value를 저장하는 예"
   ]
  },
  {
   "cell_type": "code",
   "execution_count": 6,
   "metadata": {},
   "outputs": [],
   "source": [
    "def storage_data(data, value):\n",
    "    key = ord(data[0]) ## 키값 설정\n",
    "    hash_address = hash_func(key) \n",
    "    hash_table[hash_address] = value ## 해당 키에 대응하는 해쉬주소에 value를 저장"
   ]
  },
  {
   "cell_type": "markdown",
   "metadata": {},
   "source": [
    "#### 3.4. 해쉬 테이블에서 특정 주소의 데이터를 가져오는 함수도 만들어봅니다.\n",
    "- 앞부분이 같으면 제일 처음 선언한 변수만 호출함\n",
    "  * ex) Andy, Arump 중 get_data를 Arump해도 Andy에 해당하는 값이 나옴"
   ]
  },
  {
   "cell_type": "code",
   "execution_count": 10,
   "metadata": {},
   "outputs": [],
   "source": [
    "storage_data('Andy','01055553333')\n",
    "storage_data('Dave','01044443333')\n",
    "storage_data('Trump','01033333333')"
   ]
  },
  {
   "cell_type": "markdown",
   "metadata": {},
   "source": [
    "#### 3.4. 실제 데이터를 저장하고 읽기"
   ]
  },
  {
   "cell_type": "code",
   "execution_count": 11,
   "metadata": {},
   "outputs": [],
   "source": [
    "def get_data(data):\n",
    "    key = ord(data[0])\n",
    "    hash_address = hash_func(key)\n",
    "    return hash_table[hash_address]"
   ]
  },
  {
   "cell_type": "code",
   "execution_count": 12,
   "metadata": {},
   "outputs": [
    {
     "data": {
      "text/plain": [
       "'01033333333'"
      ]
     },
     "execution_count": 12,
     "metadata": {},
     "output_type": "execute_result"
    }
   ],
   "source": [
    "get_data('Trump')"
   ]
  },
  {
   "cell_type": "markdown",
   "metadata": {},
   "source": [
    "### 4. 자료 구조 해쉬 테이블의 장단점과 주요 용도\n",
    "- 장점\n",
    "  - 데이터 저장/읽기 속도가 빠르다. (검색 속도가 빠르다.)\n",
    "  - 해쉬는 키에 대한 데이터가 있는지(중복) 확인이 쉬움\n",
    "- 단점 \n",
    "  - 일반적으로 저장공간이 좀더 많이 필요하다.\n",
    "  - **여러 키에 해당하는 주소가 동일할 경우 충돌을 해결하기 위한 별도 자료구조가 필요함**\n",
    "- 주요 용도\n",
    "  - 검색이 많이 필요한 경우\n",
    "  - 저장, 삭제, 읽기가 빈번한 경우\n",
    "  - 캐쉬 구현시 (중복 확인이 쉽기 때문)"
   ]
  },
  {
   "cell_type": "markdown",
   "metadata": {},
   "source": [
    "## 5.프로그래밍 연습\n",
    "<div class=\"alert alert-block alert-warning\">\n",
    "<strong><font color=\"blue\" size=\"3em\">연습1: 리스트 변수를 활용해서 해쉬 테이블 구현해보기</font></strong><br>\n",
    "1. 해쉬 함수: key % 8<br>\n",
    "2. 해쉬 키 생성: hash(data)\n",
    "</div>"
   ]
  },
  {
   "cell_type": "code",
   "execution_count": 1,
   "metadata": {},
   "outputs": [],
   "source": [
    "hash_table = list([0 for i in range(8)])\n",
    "\n",
    "def get_key(data):\n",
    "    return hash(data)\n",
    "\n",
    "def hash_function(key):\n",
    "    return key % 8\n",
    "\n",
    "def save_data(data, value):\n",
    "    hash_address = hash_function(get_key(data))\n",
    "    hash_table[hash_address] = value\n",
    "    \n",
    "def read_data(data):\n",
    "    hash_address = hash_function(get_key(data))\n",
    "    return hash_table[hash_address]"
   ]
  },
  {
   "cell_type": "code",
   "execution_count": 7,
   "metadata": {},
   "outputs": [
    {
     "data": {
      "text/plain": [
       "2"
      ]
     },
     "execution_count": 7,
     "metadata": {},
     "output_type": "execute_result"
    }
   ],
   "source": [
    "save_data('Dave','01020203030')\n",
    "save_data('Andy','01040405050')\n",
    "hash_function(-8095564437378626702)\n",
    "#read_data('Dave')"
   ]
  },
  {
   "cell_type": "code",
   "execution_count": 10,
   "metadata": {},
   "outputs": [
    {
     "data": {
      "text/plain": [
       "[0, 0, '01020203030', '01040405050', 0, 0, 0, 0]"
      ]
     },
     "execution_count": 10,
     "metadata": {},
     "output_type": "execute_result"
    }
   ],
   "source": [
    "hash_table"
   ]
  },
  {
   "cell_type": "markdown",
   "metadata": {},
   "source": [
    "### 6. 충돌(Collision) 해결 알고리즘 (좋은 해쉬 함수 사용하기)\n",
    "> 해쉬 테이블의 가장 큰 문제는 충돌(Collision)의 경우입니다.\n",
    "> 이 문제를 충돌(Collision) 또는 해쉬 충돌(Hash Collision)이라고 부릅니다."
   ]
  },
  {
   "cell_type": "markdown",
   "metadata": {},
   "source": [
    "#### 6.1. Chaining 기법\n",
    "- **개방 해쉬 또는 Open Hashing 기법** 중 하나: 해쉬 테이블 저장공간 외의 공간을 활용하는 기법\n",
    "- 충돌이 일어나면, 링크드 리스트라는 자료 구조를 사용해서, 링크드 리스트로 데이터를 추가로 뒤에 연결시켜서 저장하는 기법"
   ]
  },
  {
   "cell_type": "markdown",
   "metadata": {},
   "source": [
    "<div class=\"alert alert-block alert-warning\">\n",
    "<strong><font color=\"red\" size=\"3em\">연습2: 연습1의 해쉬 테이블 코드에 Chaining 기법으로 충돌해결 코드를 추가해보기</font></strong><br>\n",
    "1. 해쉬 함수: key % 8<br>\n",
    "2. 해쉬 키 생성: hash(data)\n",
    "</div>"
   ]
  },
  {
   "cell_type": "code",
   "execution_count": null,
   "metadata": {},
   "outputs": [],
   "source": [
    "hash_table = list([0 for i in range(8)])\n",
    "\n",
    "def get_key(data):\n",
    "    return hash(data)\n",
    "\n",
    "def hash_function(key):\n",
    "    return key % 8\n",
    "\n",
    "def save_data(data, value):\n",
    "    # 같은 해쉬 값의 데이터를 구분하기 위해\n",
    "    index_key = get_key(data)\n",
    "    hash_address = hash_function(index_key)\n",
    "    if hash_table[hash_address] != 0:\n",
    "        for index in range(len(hash_table[hash_address])):\n",
    "            if hash_table\n",
    "    \n",
    "def read_data(data):\n",
    "    hash_address = hash_function(get_key(data))\n",
    "    return hash_table[hash_address]"
   ]
  },
  {
   "cell_type": "code",
   "execution_count": null,
   "metadata": {},
   "outputs": [],
   "source": [
    "#### 6.2. Linear Probing 기법\n",
    "- **폐쇄 해싱 또는 Close Hashing 기법** 중 하나: 해쉬 테이블 저장공간 외의 공간을 활용하는 기법\n",
    "- 충돌이 일어나면, 링크드 리스트라는 자료 구조를 사용해서, 링크드 리스트로 데이터를 추가로 뒤에 연결시켜서 저장하는 기법"
   ]
  },
  {
   "cell_type": "code",
   "execution_count": null,
   "metadata": {},
   "outputs": [],
   "source": []
  },
  {
   "cell_type": "code",
   "execution_count": null,
   "metadata": {},
   "outputs": [],
   "source": []
  }
 ],
 "metadata": {
  "kernelspec": {
   "display_name": "Python 3",
   "language": "python",
   "name": "python3"
  },
  "language_info": {
   "codemirror_mode": {
    "name": "ipython",
    "version": 3
   },
   "file_extension": ".py",
   "mimetype": "text/x-python",
   "name": "python",
   "nbconvert_exporter": "python",
   "pygments_lexer": "ipython3",
   "version": "3.8.5"
  }
 },
 "nbformat": 4,
 "nbformat_minor": 4
}
