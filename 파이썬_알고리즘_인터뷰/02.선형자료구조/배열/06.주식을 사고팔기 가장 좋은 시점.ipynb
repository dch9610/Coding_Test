{
 "cells": [
  {
   "cell_type": "markdown",
   "metadata": {},
   "source": [
    "## 06. 주식을 사고팔기 가장 좋은 시점\n",
    "리트코드 121"
   ]
  },
  {
   "cell_type": "markdown",
   "metadata": {},
   "source": [
    "한 번의 거래로 낼 수 있는 최대 이익을 산출하라.\n",
    "\n",
    "입력 : [7,1,5,3,6,4] <br>\n",
    "출력 : 5\n",
    "\n",
    "* 1일때 사서 6일때 팔면 5의 이익을 얻는다."
   ]
  },
  {
   "cell_type": "code",
   "execution_count": 1,
   "metadata": {},
   "outputs": [],
   "source": [
    "prices = [7,1,5,3,6,4]"
   ]
  },
  {
   "cell_type": "markdown",
   "metadata": {},
   "source": [
    "---"
   ]
  },
  {
   "cell_type": "markdown",
   "metadata": {},
   "source": [
    "### 풀이 01. 브루트 포스로 계산"
   ]
  },
  {
   "cell_type": "code",
   "execution_count": 2,
   "metadata": {},
   "outputs": [
    {
     "name": "stdout",
     "output_type": "stream",
     "text": [
      "5\n"
     ]
    }
   ],
   "source": [
    "max_price = 0\n",
    "\n",
    "for i, price in enumerate(prices):\n",
    "    for j in range(i, len(prices)):\n",
    "        max_price = max(prices[j] - price, max_price)\n",
    "print(max_price)"
   ]
  },
  {
   "cell_type": "markdown",
   "metadata": {},
   "source": [
    "타임아웃으로 풀리지 않음"
   ]
  },
  {
   "cell_type": "markdown",
   "metadata": {},
   "source": [
    "---"
   ]
  },
  {
   "cell_type": "markdown",
   "metadata": {},
   "source": [
    "### 풀이 02. 저점과 현재 값과의 차이 계산"
   ]
  },
  {
   "cell_type": "code",
   "execution_count": 3,
   "metadata": {},
   "outputs": [],
   "source": [
    "import sys"
   ]
  },
  {
   "cell_type": "code",
   "execution_count": 6,
   "metadata": {},
   "outputs": [
    {
     "name": "stdout",
     "output_type": "stream",
     "text": [
      "-9223372036854775807 9223372036854775807\n"
     ]
    }
   ],
   "source": [
    "# 최댓값 변수는 최솟값으로, 최솟값 변수는 최댓값으로 지정\n",
    "# 어떤 값이 들어오든 바로 교체될수 있기 때문\n",
    "profit = -sys.maxsize\n",
    "min_price = sys.maxsize\n",
    "\n",
    "print(max_price, min_price)"
   ]
  },
  {
   "cell_type": "code",
   "execution_count": 7,
   "metadata": {},
   "outputs": [
    {
     "name": "stdout",
     "output_type": "stream",
     "text": [
      "5\n"
     ]
    }
   ],
   "source": [
    "# 빈 배열일 경우 0으로 리턴하기 위해\n",
    "profit = 0\n",
    "min_price = sys.maxsize\n",
    "\n",
    "# 최솟값과 최댓값을 계속 갱신\n",
    "for price in prices:\n",
    "    min_price = min(min_price, price)\n",
    "    profit = max(profit, price - min_price)\n",
    "    \n",
    "print(profit)"
   ]
  },
  {
   "cell_type": "markdown",
   "metadata": {},
   "source": [
    "대게 코딩 테스트 플랫폼에서는 최대, 최소 입력값의 제약조건이 기술되어 있다."
   ]
  }
 ],
 "metadata": {
  "kernelspec": {
   "display_name": "Python 3",
   "language": "python",
   "name": "python3"
  },
  "language_info": {
   "codemirror_mode": {
    "name": "ipython",
    "version": 3
   },
   "file_extension": ".py",
   "mimetype": "text/x-python",
   "name": "python",
   "nbconvert_exporter": "python",
   "pygments_lexer": "ipython3",
   "version": "3.8.8"
  }
 },
 "nbformat": 4,
 "nbformat_minor": 4
}
