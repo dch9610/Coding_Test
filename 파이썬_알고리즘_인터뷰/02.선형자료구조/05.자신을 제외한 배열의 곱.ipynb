{
 "cells": [
  {
   "cell_type": "markdown",
   "metadata": {},
   "source": [
    "## 자신을 제외한 배열의 곱"
   ]
  },
  {
   "cell_type": "markdown",
   "metadata": {},
   "source": [
    "배열을 입력받아 output[i]가 자신을 제외한 나머지 모든 요소의 곱셈 결과가 되도록 출력하라."
   ]
  },
  {
   "cell_type": "markdown",
   "metadata": {},
   "source": [
    "입력 : [1,2,3,4] <br>\n",
    "출력 : [24,12,8,6]"
   ]
  },
  {
   "cell_type": "code",
   "execution_count": 1,
   "metadata": {},
   "outputs": [],
   "source": [
    "nums = [1,2,3,4]"
   ]
  },
  {
   "cell_type": "markdown",
   "metadata": {},
   "source": [
    "---"
   ]
  },
  {
   "cell_type": "markdown",
   "metadata": {},
   "source": [
    "### 01. 왼쪽 곱셈 결과에 오른쪽 값을 차례대로 곱셈"
   ]
  },
  {
   "cell_type": "code",
   "execution_count": 9,
   "metadata": {},
   "outputs": [
    {
     "name": "stdout",
     "output_type": "stream",
     "text": [
      "[1, 1, 2, 6]\n",
      "6\n",
      "8\n",
      "12\n",
      "24\n",
      "[24, 12, 8, 6]\n"
     ]
    }
   ],
   "source": [
    "out = []\n",
    "p = 1\n",
    "\n",
    "# 왼쪽 곱셈\n",
    "for i in range(0, len(nums)):\n",
    "    out.append(p)\n",
    "    p = p * nums[i]\n",
    "print(out)\n",
    "\n",
    "# 오른쪽으로 한칸씩 옮겨서 곱을 구함\n",
    "p = 1\n",
    "for i in range(len(nums)-1,-1,-1):\n",
    "    out[i] = out[i] * p\n",
    "    p = p*nums[i]\n",
    "print(out)"
   ]
  }
 ],
 "metadata": {
  "kernelspec": {
   "display_name": "Python 3",
   "language": "python",
   "name": "python3"
  },
  "language_info": {
   "codemirror_mode": {
    "name": "ipython",
    "version": 3
   },
   "file_extension": ".py",
   "mimetype": "text/x-python",
   "name": "python",
   "nbconvert_exporter": "python",
   "pygments_lexer": "ipython3",
   "version": "3.8.5"
  }
 },
 "nbformat": 4,
 "nbformat_minor": 4
}
