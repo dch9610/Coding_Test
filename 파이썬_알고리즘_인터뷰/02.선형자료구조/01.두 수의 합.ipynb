{
 "cells": [
  {
   "cell_type": "markdown",
   "metadata": {},
   "source": [
    "## 0.1 두 수의 합\n",
    "- 리트코드 1. Two Sum"
   ]
  },
  {
   "cell_type": "markdown",
   "metadata": {},
   "source": [
    "---"
   ]
  },
  {
   "cell_type": "code",
   "execution_count": 17,
   "metadata": {},
   "outputs": [],
   "source": [
    "# 입력값\n",
    "nums = [2,7,11,15,16] \n",
    "target = 18"
   ]
  },
  {
   "cell_type": "markdown",
   "metadata": {},
   "source": [
    "#### 01.브루트 포스로 계산"
   ]
  },
  {
   "cell_type": "code",
   "execution_count": 18,
   "metadata": {},
   "outputs": [
    {
     "name": "stdout",
     "output_type": "stream",
     "text": [
      "0 4\n",
      "1 2\n"
     ]
    }
   ],
   "source": [
    "for i in range(0, len(nums)):\n",
    "    for j in range(i+1, len(nums)):\n",
    "        if nums[i] + nums[j] == target:\n",
    "            print(i, j)"
   ]
  },
  {
   "cell_type": "markdown",
   "metadata": {},
   "source": [
    "#### 02. in을 이용한 탐색"
   ]
  },
  {
   "cell_type": "code",
   "execution_count": 19,
   "metadata": {},
   "outputs": [
    {
     "data": {
      "text/plain": [
       "[7, 11, 15, 16]"
      ]
     },
     "execution_count": 19,
     "metadata": {},
     "output_type": "execute_result"
    }
   ],
   "source": [
    "nums[1:]"
   ]
  },
  {
   "cell_type": "code",
   "execution_count": 20,
   "metadata": {},
   "outputs": [
    {
     "name": "stdout",
     "output_type": "stream",
     "text": [
      "0 4\n",
      "1 2\n"
     ]
    }
   ],
   "source": [
    "for i, n in enumerate(nums):\n",
    "    complement = target - n\n",
    "    \n",
    "    if complement in nums[i+1:]:\n",
    "        print(nums.index(n), nums[i+1 :].index(complement) + (i+1))"
   ]
  },
  {
   "cell_type": "markdown",
   "metadata": {},
   "source": [
    "#### 03. 첫번째 수를 뺀 결과 키 조회"
   ]
  },
  {
   "cell_type": "code",
   "execution_count": 23,
   "metadata": {},
   "outputs": [
    {
     "name": "stdout",
     "output_type": "stream",
     "text": [
      "[0, 4]\n",
      "[1, 2]\n",
      "[2, 1]\n",
      "[4, 0]\n"
     ]
    }
   ],
   "source": [
    "nums_map = {}\n",
    "\n",
    "# 키와 값을 바꿔서 딕셔너리로 저장\n",
    "for i, num in enumerate(nums):\n",
    "    nums_map[num] = i\n",
    "    \n",
    "# 타겟에서 첫 번째 수를 뺀 결과를 키로 조회\n",
    "for i, num in enumerate(nums):\n",
    "    if target - num in nums_map and i != nums_map[target - num]:\n",
    "        print([i, nums_map[target-num]])"
   ]
  },
  {
   "cell_type": "markdown",
   "metadata": {},
   "source": [
    "#### 04.조회 구조 개선"
   ]
  },
  {
   "cell_type": "code",
   "execution_count": 31,
   "metadata": {},
   "outputs": [
    {
     "name": "stdout",
     "output_type": "stream",
     "text": [
      "1 2\n",
      "0 4\n"
     ]
    }
   ],
   "source": [
    "nums_map = {}\n",
    "\n",
    "# 하나의 for문으로 통합\n",
    "for i, num in enumerate(nums):\n",
    "    if target - num in nums_map:\n",
    "        print(nums_map[target-num],i)\n",
    "    \n",
    "    nums_map[num] = i"
   ]
  },
  {
   "cell_type": "markdown",
   "metadata": {},
   "source": [
    "#### 시간비교\n",
    "| 풀이 | 방식 | 실행 시간 |\n",
    "|---|:---:|---:|\n",
    "| 1 | 브루트 포스 | 5,284밀리초 |\n",
    "| 2 | in을 이용한 탐색 | 864밀리초 |\n",
    "| 3 | 첫번쨰 수를 뺀 결과 키 조회 | 48밀리초 |\n",
    "| 4 | 조회 구조 개선 | 44밀리초 |\n"
   ]
  },
  {
   "cell_type": "code",
   "execution_count": null,
   "metadata": {},
   "outputs": [],
   "source": []
  }
 ],
 "metadata": {
  "kernelspec": {
   "display_name": "Python 3",
   "language": "python",
   "name": "python3"
  },
  "language_info": {
   "codemirror_mode": {
    "name": "ipython",
    "version": 3
   },
   "file_extension": ".py",
   "mimetype": "text/x-python",
   "name": "python",
   "nbconvert_exporter": "python",
   "pygments_lexer": "ipython3",
   "version": "3.8.5"
  }
 },
 "nbformat": 4,
 "nbformat_minor": 4
}
