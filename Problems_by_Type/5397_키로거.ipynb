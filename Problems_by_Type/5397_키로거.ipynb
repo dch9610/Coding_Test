{
 "cells": [
  {
   "cell_type": "markdown",
   "metadata": {},
   "source": [
    "## 문제설명\n",
    "문제 제목 : 프린터 큐 1874 <br>\n",
    "문제 난이도 : 하 <br>\n",
    "문제 유형 : 큐, 구현, 그리디"
   ]
  },
  {
   "cell_type": "markdown",
   "metadata": {},
   "source": [
    "### 문제\n",
    "키로거는 사용자가 키보드를 누른 명령을 모두 기록한다. 따라서, 강산이가 비밀번호를 입력할 때, 화살표나 백스페이스를 입력해도 정확한 비밀번호를 알아낼 수 있다.\n",
    "\n",
    "강산이가 비밀번호 창에서 입력한 키가 주어졌을 때, 강산이의 비밀번호를 알아내는 프로그램을 작성하시오."
   ]
  },
  {
   "cell_type": "markdown",
   "metadata": {},
   "source": [
    "### 입력\n",
    "첫째 줄에 테스트 케이스의 개수가 주어진다. 각 테스트 케이스는 한줄로 이루어져 있고, 강산이가 입력한 순서대로 길이가 L인 문자열이 주어진다. (1 ≤ L의 길이 ≤ 1,000,000) 강산이가 백스페이스를 입력했다면, '-'가 주어진다. 이때 커서의 바로 앞에 글자가 존재한다면, 그 글자를 지운다. 화살표의 입력은 '<'와 '>'로 주어진다. 이때는 커서의 위치를 움직일 수 있다면, 왼쪽 또는 오른쪽으로 1만큼 움직인다. 나머지 문자는 비밀번호의 일부이다. 물론, 나중에 백스페이스를 통해서 지울 수는 있다. 만약 커서의 위치가 줄의 마지막이 아니라면, 커서 및 커서 오른쪽에 있는 모든 문자는 오른쪽으로 한 칸 이동한다."
   ]
  },
  {
   "cell_type": "markdown",
   "metadata": {},
   "source": [
    "### 출력\n",
    "각 테스트 케이스에 대해서, 강산이의 비밀번호를 출력한다. 비밀번호의 길이는 항상 0보다 크다."
   ]
  },
  {
   "cell_type": "markdown",
   "metadata": {},
   "source": [
    "### 문제 풀이 핵심 아이디어\n",
    "1. 문자열 크기가 최대 1,000,000이므로 시뮬레이션 방식으로는 해결할 수 없음\n",
    "2. 스택을 활용하여 선형시간 문제를 해결할 수 있는 알고리즘 설계\n",
    "\n",
    "1) 스택 두개를 만들고, 스택 두 개의 중간 지점을 커서로 간주 <br>\n",
    "2) 문자 입력 : 왼쪽 스택에 원소를 삽입 <br>\n",
    "3) - 입력 : 왼쪽 스택에서 원소를 삭제 <br>\n",
    "4) < 입력 : 왼쪽 스택에서 오른쪽 스택으로 원소를 이동 <br>\n",
    "5) > 입력 : 오른쪽 스택에서 왼쪽 스택으로 원소를 이동 <br>"
   ]
  },
  {
   "cell_type": "code",
   "execution_count": 5,
   "metadata": {},
   "outputs": [
    {
     "name": "stdout",
     "output_type": "stream",
     "text": [
      "1\n",
      "B<AA>P-C<\n",
      "AABC\n"
     ]
    }
   ],
   "source": [
    "test_case = int(input())\n",
    "\n",
    "\n",
    "for _ in range(test_case):\n",
    "    left_stack = []\n",
    "    right_stack = []\n",
    "    \n",
    "    # 데이터 입력\n",
    "    data = input()\n",
    "    \n",
    "    for i in data:\n",
    "        # 지우기 연산\n",
    "        if i == '-':\n",
    "            if left_stack:\n",
    "                left_stack.pop()\n",
    "        # 왼쪽으로 이동하는 연산\n",
    "        elif i == '<':\n",
    "            if left_stack:\n",
    "                right_stack.append(left_stack.pop())\n",
    "        elif i == '>':\n",
    "            if right_stack:\n",
    "                left_stack.append(right_stack.pop())\n",
    "                \n",
    "        # 값이 들어오면 왼쪽 스택에 저장\n",
    "        else:\n",
    "            left_stack.append(i)\n",
    "    \n",
    "    # right_stack의 결과를 뒤집어서 left_stack에 붙여줌\n",
    "    left_stack.extend(reversed(right_stack))\n",
    "    print(''.join(left_stack))"
   ]
  }
 ],
 "metadata": {
  "kernelspec": {
   "display_name": "Python 3",
   "language": "python",
   "name": "python3"
  },
  "language_info": {
   "codemirror_mode": {
    "name": "ipython",
    "version": 3
   },
   "file_extension": ".py",
   "mimetype": "text/x-python",
   "name": "python",
   "nbconvert_exporter": "python",
   "pygments_lexer": "ipython3",
   "version": "3.8.5"
  }
 },
 "nbformat": 4,
 "nbformat_minor": 4
}
