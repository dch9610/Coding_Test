{
 "cells": [
  {
   "cell_type": "markdown",
   "id": "469d8f7f-31ad-4c2f-8d69-a02ac2964060",
   "metadata": {},
   "source": [
    "### 05. 그룹 애너그램\n",
    "- 애너그램 : 문자를 재배열하여 다른 뜻을 가진 단어로 바꾸는 것"
   ]
  },
  {
   "cell_type": "markdown",
   "id": "ddc522b3-a868-4db1-8628-d69e38c527ec",
   "metadata": {},
   "source": [
    "<pre>\n",
    "입력 : ['eat', 'tea', 'tan', 'nat', 'bat']\n",
    "출력 : [['ate', 'eat', 'tea'],\n",
    "        ['nat', 'tan'],\n",
    "        ['bat']\n",
    "       ]\n",
    "</pre>"
   ]
  },
  {
   "cell_type": "markdown",
   "id": "4fd29055-cd2e-4a8e-a1d3-b17849e431af",
   "metadata": {},
   "source": [
    "#### 리트코드 제출용\n",
    "<pre>\n",
    "    class Solution:\n",
    "        def groupAnagrams(self, strs: List[str]) -> List[List[str]]:\n",
    "            anagrams = collections.defaultdict(list)\n",
    "\n",
    "            for word in strs:\n",
    "                anagrams[''.join(sorted(word))].append(word)\n",
    "            return list(anagrams.values())\n",
    "</pre>"
   ]
  },
  {
   "cell_type": "markdown",
   "id": "8909b38b-736a-47ef-b781-1d8eb4d957a8",
   "metadata": {},
   "source": [
    "---"
   ]
  },
  {
   "cell_type": "markdown",
   "id": "7befd75e-9865-4426-a4a0-2e136380847b",
   "metadata": {},
   "source": [
    "#### 여러가지 정렬방법"
   ]
  },
  {
   "cell_type": "code",
   "execution_count": 7,
   "id": "8b0c7552-6848-4757-bf2c-d44e5c3bb6d8",
   "metadata": {},
   "outputs": [
    {
     "name": "stdout",
     "output_type": "stream",
     "text": [
      "[1, 2, 4, 5, 7]\n"
     ]
    }
   ],
   "source": [
    "a = [2,5,1,4,7]\n",
    "print(sorted(a))"
   ]
  },
  {
   "cell_type": "code",
   "execution_count": 9,
   "id": "aae5caf4-2136-440a-8220-c4ab47b2f8af",
   "metadata": {},
   "outputs": [
    {
     "name": "stdout",
     "output_type": "stream",
     "text": [
      "['a', 'b', 'c', 'd', 'e']\n",
      "abcde\n"
     ]
    }
   ],
   "source": [
    "b = ['b','c','a','d','e']\n",
    "print(sorted(b))\n",
    "print(\"\".join(sorted(b)))"
   ]
  },
  {
   "cell_type": "code",
   "execution_count": 14,
   "id": "ca0d2109-e929-4b84-9255-0b2642363eba",
   "metadata": {},
   "outputs": [
    {
     "data": {
      "text/plain": [
       "['d', 'bb', 'ccc', 'aaaa']"
      ]
     },
     "execution_count": 14,
     "metadata": {},
     "output_type": "execute_result"
    }
   ],
   "source": [
    "# 길이 순서대로 정렬\n",
    "c = ['ccc','aaaa','d','bb']\n",
    "sorted(c, key=len)"
   ]
  },
  {
   "cell_type": "code",
   "execution_count": 18,
   "id": "9455241c-a7ae-4413-8da9-2b80de7b7d28",
   "metadata": {},
   "outputs": [
    {
     "name": "stdout",
     "output_type": "stream",
     "text": [
      "['abc', 'cfc', 'cde']\n"
     ]
    },
    {
     "data": {
      "text/plain": [
       "['abc', 'cfc', 'cde']"
      ]
     },
     "execution_count": 18,
     "metadata": {},
     "output_type": "execute_result"
    }
   ],
   "source": [
    "# 첫 문자열과 마지막 문자열 순으로 정렬\n",
    "d = ['cde', 'cfc', 'abc']\n",
    "\n",
    "def fn(s):\n",
    "    return s[0], s[-1]\n",
    "\n",
    "print(sorted(d, key=fn))\n",
    "\n",
    "sorted(d, key = lambda s : (s[0], s[-1]))"
   ]
  },
  {
   "cell_type": "markdown",
   "id": "ee6f2b4b-269e-4394-9e65-3a0e34798a4d",
   "metadata": {},
   "source": [
    "---"
   ]
  },
  {
   "cell_type": "markdown",
   "id": "cdac2629-5b5b-4d89-93f1-ea047477de6d",
   "metadata": {},
   "source": [
    "### 내가 짜보기"
   ]
  },
  {
   "cell_type": "code",
   "execution_count": null,
   "id": "36489698-c254-4fb8-93d5-79c47f168e43",
   "metadata": {},
   "outputs": [],
   "source": []
  },
  {
   "cell_type": "code",
   "execution_count": null,
   "id": "5ff501b5-0638-47cc-a8f8-3006f3cb36ad",
   "metadata": {},
   "outputs": [],
   "source": []
  },
  {
   "cell_type": "code",
   "execution_count": null,
   "id": "7d2bd3f8-e8ff-4905-9b8e-9b305288241b",
   "metadata": {},
   "outputs": [],
   "source": []
  }
 ],
 "metadata": {
  "kernelspec": {
   "display_name": "Python 3",
   "language": "python",
   "name": "python3"
  },
  "language_info": {
   "codemirror_mode": {
    "name": "ipython",
    "version": 3
   },
   "file_extension": ".py",
   "mimetype": "text/x-python",
   "name": "python",
   "nbconvert_exporter": "python",
   "pygments_lexer": "ipython3",
   "version": "3.8.8"
  }
 },
 "nbformat": 4,
 "nbformat_minor": 5
}
