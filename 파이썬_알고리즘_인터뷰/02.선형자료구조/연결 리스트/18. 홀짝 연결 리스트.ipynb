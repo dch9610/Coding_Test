{
 "cells": [
  {
   "cell_type": "markdown",
   "id": "d3801b88-1a50-45b3-9dcb-b7d3a47cbbfb",
   "metadata": {},
   "source": [
    "### 홀짝 연결 리스트\n",
    "- 연결 리스트를 홀수 노드 다음에 짝수 노드가 오도록 재구성하라. 공간복잡도 O(1), 시간복잡도 O(n)에 풀이 <br>\n",
    "리트코드 328"
   ]
  },
  {
   "cell_type": "markdown",
   "id": "53667b6c-65f3-4583-a168-753874d84882",
   "metadata": {},
   "source": [
    "---"
   ]
  },
  {
   "cell_type": "markdown",
   "id": "0f2e85b1-1a5b-4400-8e5d-d4dc2fec379a",
   "metadata": {},
   "source": [
    "#### 풀이) 01. 반복 구조로 홀짝 노드 처리"
   ]
  },
  {
   "cell_type": "markdown",
   "id": "a6e47659-f483-46c4-9826-3d338a24b44d",
   "metadata": {},
   "source": [
    "<pre>\n",
    "class Solution:\n",
    "    def oddEvenList(self, head: Optional[ListNode]) -> Optional[ListNode]:\n",
    "        # 예외 처리\n",
    "        if head is None:\n",
    "            return None\n",
    "        \n",
    "        odd = head\n",
    "        even = head.next\n",
    "        even_head = head.next\n",
    "        \n",
    "        # 반복하면서 홀짝 노드 처리\n",
    "        while even and even.next:\n",
    "            odd.next, even.next = odd.next.next, even.next.next\n",
    "            odd, even = odd.next, even.next\n",
    "            \n",
    "        # 홀수 노드의 마지막을 짝수 헤드로 연결\n",
    "        odd.next = even_head\n",
    "        return head\n",
    "</pre>"
   ]
  }
 ],
 "metadata": {
  "kernelspec": {
   "display_name": "Python 3",
   "language": "python",
   "name": "python3"
  },
  "language_info": {
   "codemirror_mode": {
    "name": "ipython",
    "version": 3
   },
   "file_extension": ".py",
   "mimetype": "text/x-python",
   "name": "python",
   "nbconvert_exporter": "python",
   "pygments_lexer": "ipython3",
   "version": "3.8.8"
  }
 },
 "nbformat": 4,
 "nbformat_minor": 5
}
