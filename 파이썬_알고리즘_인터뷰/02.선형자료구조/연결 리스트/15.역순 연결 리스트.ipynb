{
 "cells": [
  {
   "cell_type": "markdown",
   "id": "db10ae87-ced4-4fd9-a37a-42eb975d3d4f",
   "metadata": {},
   "source": [
    "### 역순 연결 리스트\n",
    "- 연결 리스트를 뒤집어라.<br>\n",
    "\n",
    "\n",
    "리트코드 206"
   ]
  },
  {
   "cell_type": "markdown",
   "id": "d754a20d-6116-429e-9f54-f9d8f5289aa9",
   "metadata": {},
   "source": [
    "#### 풀이) 01. 재귀 구조로 뒤집기\n",
    "- 노드 next와 현재 노드 node를 파라미터로 지정한 함수를 계속해서 재귀 호출한다.\n",
    "- node.next에는 이전 prev 리스트를 계속 연결해주면서 node가 None이 될 때까지 재귀 호출하면 마지막에 백트래킹 되면서 연결 리스트가 거꾸로 연결된다."
   ]
  },
  {
   "cell_type": "markdown",
   "id": "dafa53ff-4c13-461c-99c7-329df3fb35ee",
   "metadata": {},
   "source": [
    "<pre>\n",
    "class Solution:\n",
    "    def reverseList(self, head: Optional[ListNode]) -> Optional[ListNode]:\n",
    "        def reverse(node: ListNode, prev:ListNode=None):\n",
    "            if not node:\n",
    "                return prev\n",
    "\n",
    "            next, node.next = node.next, prev\n",
    "            return reverse(next, node)\n",
    "    \n",
    "        return reverse(head)\n",
    "    \n",
    "</pre>"
   ]
  },
  {
   "cell_type": "markdown",
   "id": "c9ea470d-c161-44eb-ac2f-bdaa9b182c73",
   "metadata": {},
   "source": [
    "---"
   ]
  },
  {
   "cell_type": "markdown",
   "id": "cfab2d77-5bde-4982-a072-479c895dc945",
   "metadata": {},
   "source": [
    "#### 풀이) 02.반복 구조로 뒤집기\n",
    "- node.next를 이전 prev 리스트로 계속 연결하면서 끝날 때까지 반복\n",
    "- 반복 풀이의 경우 prev에 node를, node에 next를 별도로 셋팅하며, node가 None이 될때까지 반복"
   ]
  },
  {
   "cell_type": "code",
   "execution_count": null,
   "id": "741a0966-af6f-4411-81e9-159fb933abfa",
   "metadata": {},
   "outputs": [],
   "source": []
  }
 ],
 "metadata": {
  "kernelspec": {
   "display_name": "Python 3",
   "language": "python",
   "name": "python3"
  },
  "language_info": {
   "codemirror_mode": {
    "name": "ipython",
    "version": 3
   },
   "file_extension": ".py",
   "mimetype": "text/x-python",
   "name": "python",
   "nbconvert_exporter": "python",
   "pygments_lexer": "ipython3",
   "version": "3.8.8"
  }
 },
 "nbformat": 4,
 "nbformat_minor": 5
}
