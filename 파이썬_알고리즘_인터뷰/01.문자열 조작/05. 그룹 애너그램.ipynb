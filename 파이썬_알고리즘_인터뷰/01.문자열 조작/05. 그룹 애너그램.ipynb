{
 "cells": [
  {
   "cell_type": "markdown",
   "id": "469d8f7f-31ad-4c2f-8d69-a02ac2964060",
   "metadata": {},
   "source": [
    "### 05. 그룹 애너그램\n",
    "- 애너그램 : 문자를 재배열하여 다른 뜻을 가진 단어로 바꾸는 것"
   ]
  },
  {
   "cell_type": "markdown",
   "id": "ddc522b3-a868-4db1-8628-d69e38c527ec",
   "metadata": {},
   "source": [
    "<pre>\n",
    "입력 : ['eat', 'tea', 'tan', 'nat', 'bat']\n",
    "출력 : [['ate', 'eat', 'tea'],\n",
    "        ['nat', 'tan'],\n",
    "        ['bat']\n",
    "       ]\n",
    "</pre>"
   ]
  },
  {
   "cell_type": "markdown",
   "id": "4fd29055-cd2e-4a8e-a1d3-b17849e431af",
   "metadata": {},
   "source": [
    "#### 리트코드 제출용\n",
    "<pre>\n",
    "    class Solution:\n",
    "        def groupAnagrams(self, strs: List[str]) -> List[List[str]]:\n",
    "            anagrams = collections.defaultdict(list)\n",
    "\n",
    "            for word in strs:\n",
    "                anagrams[''.join(sorted(word))].append(word)\n",
    "            return list(anagrams.values())\n",
    "</pre>"
   ]
  },
  {
   "cell_type": "markdown",
   "id": "8909b38b-736a-47ef-b781-1d8eb4d957a8",
   "metadata": {},
   "source": [
    "---"
   ]
  },
  {
   "cell_type": "markdown",
   "id": "cdac2629-5b5b-4d89-93f1-ea047477de6d",
   "metadata": {},
   "source": [
    "### 내가 짜보기"
   ]
  },
  {
   "cell_type": "code",
   "execution_count": null,
   "id": "36489698-c254-4fb8-93d5-79c47f168e43",
   "metadata": {},
   "outputs": [],
   "source": []
  }
 ],
 "metadata": {
  "kernelspec": {
   "display_name": "Python 3",
   "language": "python",
   "name": "python3"
  },
  "language_info": {
   "codemirror_mode": {
    "name": "ipython",
    "version": 3
   },
   "file_extension": ".py",
   "mimetype": "text/x-python",
   "name": "python",
   "nbconvert_exporter": "python",
   "pygments_lexer": "ipython3",
   "version": "3.8.8"
  }
 },
 "nbformat": 4,
 "nbformat_minor": 5
}
