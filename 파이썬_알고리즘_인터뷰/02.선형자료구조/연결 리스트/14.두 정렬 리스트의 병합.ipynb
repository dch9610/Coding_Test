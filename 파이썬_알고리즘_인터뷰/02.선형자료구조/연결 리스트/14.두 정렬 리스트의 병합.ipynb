{
 "cells": [
  {
   "cell_type": "markdown",
   "id": "054bbd1a-ce7d-4d17-9f39-09e2bef1b999",
   "metadata": {},
   "source": [
    "### 정렬되어 있는 두 연결 리스틀 합쳐라.\n",
    "리트코드 21"
   ]
  },
  {
   "cell_type": "markdown",
   "id": "a82a9d54-a8b7-4bff-96f4-46290b7770c1",
   "metadata": {},
   "source": [
    "#### 풀이) 01.재귀 구조로 연결\n",
    "- 스왑하면서 그다음 값이 엮이도록 계속 재귀호출하면, 순서대로 연결 리스트가 점점 하나로 병합되면서 엮이게 된다."
   ]
  },
  {
   "cell_type": "markdown",
   "id": "3917c57d-43d0-4b5b-a9d2-996c48c77076",
   "metadata": {},
   "source": [
    "<pre>\n",
    "class Solution:\n",
    "    def mergeTwoLists(self, l1: Optional[ListNode], l2: Optional[ListNode]) -> Optional[ListNode]:\n",
    "        if (not l1) or (l2 and l1.val > l2.val):\n",
    "            l1, l2 = l2,l1\n",
    "        \n",
    "        # 재귀함수를 이용하여 l1에 값을 연결\n",
    "        if l1:\n",
    "            l1.next = self.mergeTwoLists(l1.next, l2)\n",
    "            \n",
    "        return l1\n",
    "    \n",
    "</pre>"
   ]
  },
  {
   "cell_type": "code",
   "execution_count": null,
   "id": "04801cca-ab80-4c95-8bf7-6d874ff8c4fa",
   "metadata": {},
   "outputs": [],
   "source": []
  }
 ],
 "metadata": {
  "kernelspec": {
   "display_name": "Python 3",
   "language": "python",
   "name": "python3"
  },
  "language_info": {
   "codemirror_mode": {
    "name": "ipython",
    "version": 3
   },
   "file_extension": ".py",
   "mimetype": "text/x-python",
   "name": "python",
   "nbconvert_exporter": "python",
   "pygments_lexer": "ipython3",
   "version": "3.8.8"
  }
 },
 "nbformat": 4,
 "nbformat_minor": 5
}
