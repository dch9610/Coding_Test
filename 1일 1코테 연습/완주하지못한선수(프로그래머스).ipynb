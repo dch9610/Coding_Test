{
 "cells": [
  {
   "cell_type": "markdown",
   "id": "c6e1fc1c-844c-4de0-ae4c-5bdd51dc9384",
   "metadata": {},
   "source": [
    "### 문제설명\n",
    "수많은 마라톤 선수들이 마라톤에 참여하였습니다. 단 한 명의 선수를 제외하고는 모든 선수가 마라톤을 완주하였습니다.\n",
    "\n",
    "마라톤에 참여한 선수들의 이름이 담긴 배열 participant와 완주한 선수들의 이름이 담긴 배열 completion이 주어질 때, 완주하지 못한 선수의 이름을 return 하도록 solution 함수를 작성해주세요."
   ]
  },
  {
   "cell_type": "markdown",
   "id": "b105906d-3f3d-40c2-8098-d1cf4b44b7f4",
   "metadata": {},
   "source": [
    "### 입력\n",
    "입출력 예\n",
    "[\"leo\", \"kiki\", \"eden\"]\t[\"eden\", \"kiki\"]\t\"leo\" <br>\n",
    "[\"marina\", \"josipa\", \"nikola\", \"vinko\", \"filipa\"]\t[\"josipa\", \"filipa\", \"marina\", \"nikola\"]\t\"vinko\" <br>\n",
    "[\"mislav\", \"stanko\", \"mislav\", \"ana\"]\t[\"stanko\", \"ana\", \"mislav\"]\t\"mislav\" <br>"
   ]
  },
  {
   "cell_type": "markdown",
   "id": "0bcec092-8b5b-433d-b86f-66a613354125",
   "metadata": {},
   "source": [
    "### 입출력 예 설명\n",
    "예제 #1\n",
    "\"leo\"는 참여자 명단에는 있지만, 완주자 명단에는 없기 때문에 완주하지 못했습니다.\n",
    "\n",
    "예제 #2\n",
    "\"vinko\"는 참여자 명단에는 있지만, 완주자 명단에는 없기 때문에 완주하지 못했습니다.\n",
    "\n",
    "예제 #3\n",
    "\"mislav\"는 참여자 명단에는 두 명이 있지만, 완주자 명단에는 한 명밖에 없기 때문에 한명은 완주하지 못했습니다."
   ]
  },
  {
   "cell_type": "markdown",
   "id": "40be7551-b1a0-4b10-b68c-e22d81888dbe",
   "metadata": {},
   "source": [
    "### 풀이"
   ]
  },
  {
   "cell_type": "code",
   "execution_count": 110,
   "id": "17745def-0a63-4975-b92a-31dcad1d4a67",
   "metadata": {},
   "outputs": [],
   "source": [
    "participant = [\"mislav\", \"stanko\", \"mislav\", \"ana\"]\n",
    "completion = [\"stanko\", \"ana\", \"mislav\"]\n",
    "\n",
    "\n",
    "def solution(participant,completion):\n",
    "    participant.sort()\n",
    "    completion.sort()\n",
    "\n",
    "    for i in range(len(completion)):\n",
    "        if participant[i] != completion[i]:\n",
    "            return participant[i]\n",
    "    return participant[i+1]"
   ]
  },
  {
   "cell_type": "code",
   "execution_count": 111,
   "id": "1ebe02d3-a90c-4568-989d-7d9002e9e8a9",
   "metadata": {},
   "outputs": [
    {
     "data": {
      "text/plain": [
       "'mislav'"
      ]
     },
     "execution_count": 111,
     "metadata": {},
     "output_type": "execute_result"
    }
   ],
   "source": [
    "solution(participant,completion)"
   ]
  },
  {
   "cell_type": "markdown",
   "id": "3922fc7f-9519-46ca-9939-d3fa3d42874c",
   "metadata": {},
   "source": [
    "### 풀이 (해시테이블)"
   ]
  },
  {
   "cell_type": "code",
   "execution_count": 128,
   "id": "812466a7-0130-4dea-bbd8-b11c4de6633c",
   "metadata": {},
   "outputs": [],
   "source": [
    "def hash_solution(participant, completion):\n",
    "    answer = ''\n",
    "    temp = 0\n",
    "    dic = {}\n",
    "    for part in participant:\n",
    "        dic[hash(part)] = part\n",
    "        temp += int(hash(part))\n",
    "    print(temp)\n",
    "    for com in completion:\n",
    "        temp -= hash(com)\n",
    "        \n",
    "    answer = dic[temp]\n",
    "    print(temp)\n",
    "    print(dic)\n",
    "\n",
    "    return answer"
   ]
  },
  {
   "cell_type": "code",
   "execution_count": 129,
   "id": "3c668910-d7df-4d46-8a5d-0f9e1e86f2b0",
   "metadata": {},
   "outputs": [
    {
     "name": "stdout",
     "output_type": "stream",
     "text": [
      "12876486540766724028\n",
      "8542270931346496784\n",
      "{4482771654686098522: 'ana', 8542270931346496784: 'mislav', -8690826976612368062: 'stanko'}\n"
     ]
    },
    {
     "data": {
      "text/plain": [
       "'mislav'"
      ]
     },
     "execution_count": 129,
     "metadata": {},
     "output_type": "execute_result"
    }
   ],
   "source": [
    "hash_solution(participant, completion)"
   ]
  },
  {
   "cell_type": "code",
   "execution_count": null,
   "id": "7d30c9fb-d64c-48db-90e7-9f28c922c1ec",
   "metadata": {},
   "outputs": [],
   "source": []
  }
 ],
 "metadata": {
  "kernelspec": {
   "display_name": "Python 3",
   "language": "python",
   "name": "python3"
  },
  "language_info": {
   "codemirror_mode": {
    "name": "ipython",
    "version": 3
   },
   "file_extension": ".py",
   "mimetype": "text/x-python",
   "name": "python",
   "nbconvert_exporter": "python",
   "pygments_lexer": "ipython3",
   "version": "3.8.8"
  }
 },
 "nbformat": 4,
 "nbformat_minor": 5
}
