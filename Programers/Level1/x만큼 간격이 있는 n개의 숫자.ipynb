{
 "cells": [
  {
   "cell_type": "markdown",
   "metadata": {},
   "source": [
    "## 문제 설명\n",
    "- https://programmers.co.kr/learn/courses/30/lessons/12954"
   ]
  },
  {
   "cell_type": "markdown",
   "metadata": {},
   "source": [
    "### 알고리즘 구현방법\n",
    "1. 반복문 실행하여 answer에 append\n",
    "2. 간격은 x의 값만큼\n",
    "3. 범위는 x부터 x*n+1까지 (런타임 에러)\n",
    "    - range(x, x*n+1, x)\n",
    "\n",
    "--- \n",
    "1. 횟수만큼 x에 곱해서 append\n",
    "    - range(1, n+1) answer.append(x*i)"
   ]
  },
  {
   "cell_type": "code",
   "execution_count": 4,
   "metadata": {},
   "outputs": [
    {
     "data": {
      "text/plain": [
       "[-4, -8]"
      ]
     },
     "execution_count": 4,
     "metadata": {},
     "output_type": "execute_result"
    }
   ],
   "source": [
    "x = -4\n",
    "n = 2\n",
    "answer = []\n",
    "\n",
    "# 런타임 에러\n",
    "if x<0:\n",
    "    for i in range(x, x * n - 1, x):\n",
    "        answer.append(i)\n",
    "else:\n",
    "    for i in range(x, x * n + 1, x):\n",
    "        answer.append(i)\n",
    "answer"
   ]
  },
  {
   "cell_type": "code",
   "execution_count": 27,
   "metadata": {},
   "outputs": [],
   "source": [
    "def solution(x, n):\n",
    "    answer = []\n",
    "    for i in range(1, n+1):\n",
    "        answer.append(x*i)\n",
    "    return answer"
   ]
  },
  {
   "cell_type": "code",
   "execution_count": 30,
   "metadata": {},
   "outputs": [
    {
     "data": {
      "text/plain": [
       "[10000000, 20000000]"
      ]
     },
     "execution_count": 30,
     "metadata": {},
     "output_type": "execute_result"
    }
   ],
   "source": [
    "x = 10000000\n",
    "n = 2\n",
    "solution(x,n)"
   ]
  }
 ],
 "metadata": {
  "kernelspec": {
   "display_name": "Python 3",
   "language": "python",
   "name": "python3"
  },
  "language_info": {
   "codemirror_mode": {
    "name": "ipython",
    "version": 3
   },
   "file_extension": ".py",
   "mimetype": "text/x-python",
   "name": "python",
   "nbconvert_exporter": "python",
   "pygments_lexer": "ipython3",
   "version": "3.8.5"
  }
 },
 "nbformat": 4,
 "nbformat_minor": 4
}
