{
 "cells": [
  {
   "cell_type": "markdown",
   "metadata": {},
   "source": [
    "## 02. 빗물 트래핑\n",
    "- 42.Trapping Rain Water\n",
    "\n",
    "- 높이를 입력받아 비 온 후 얼마나 많은 물이 쌓일 수 있는지 계산"
   ]
  },
  {
   "cell_type": "code",
   "execution_count": 10,
   "metadata": {},
   "outputs": [],
   "source": [
    "# 입력값\n",
    "height = [0, 1, 0, 2, 1, 0,1, 3, 2, 1, 2, 1]"
   ]
  },
  {
   "cell_type": "markdown",
   "metadata": {},
   "source": [
    "#### 01. 투 포인터를 최대로 이동"
   ]
  },
  {
   "cell_type": "code",
   "execution_count": 22,
   "metadata": {},
   "outputs": [
    {
     "name": "stdout",
     "output_type": "stream",
     "text": [
      "6\n"
     ]
    }
   ],
   "source": [
    "if not height:\n",
    "    print(0)\n",
    "    \n",
    "volume = 0\n",
    "left = 0\n",
    "right = len(height) - 1\n",
    "left_max = height[left]\n",
    "right_max = height[right]\n",
    "\n",
    "\n",
    "while left < right :\n",
    "    left_max = max(height[left], left_max)\n",
    "    right_max = max(height[right], right_max)\n",
    "        \n",
    "    # 더 높은 쪽을 향해 투 포인터 이동\n",
    "    if left_max <= right_max:\n",
    "        volume += left_max - height[left]\n",
    "        left += 1\n",
    "    else:\n",
    "        volume += right_max - height[right]\n",
    "        right -= 1\n",
    "        \n",
    "print(volume)"
   ]
  },
  {
   "cell_type": "markdown",
   "metadata": {},
   "source": [
    "#### 02. 스택 쌓기"
   ]
  },
  {
   "cell_type": "markdown",
   "metadata": {},
   "source": [
    "스택에 쌓아 나가면서 현재 높이가 이전 높이보다 높을떄, 즉 꺾이는 부분 변곡점을 기준으로 격차만큼 volume를 채운다."
   ]
  },
  {
   "cell_type": "code",
   "execution_count": 24,
   "metadata": {},
   "outputs": [
    {
     "name": "stdout",
     "output_type": "stream",
     "text": [
      "12\n"
     ]
    }
   ],
   "source": [
    "stack = []\n",
    "volume = 0\n",
    "\n",
    "for i in range(len(height)):\n",
    "    # 변곡점을 만나는 경우\n",
    "    while stack and height[i] > height[stack[-1]]:\n",
    "        # 스택에서 꺼낸다.\n",
    "        top = stack.pop()\n",
    "        \n",
    "        if not len(stack):\n",
    "            break\n",
    "            \n",
    "        # 이전과의 차이만큼 물 높이 처리\n",
    "        distance = i - stack[-1] - 1\n",
    "        waters = min(height[i], height[stack[-1]]) - height[top]\n",
    "        \n",
    "        volume += distance + waters\n",
    "        \n",
    "    stack.append(i)\n",
    "print(volume)"
   ]
  },
  {
   "cell_type": "markdown",
   "metadata": {},
   "source": [
    "#### 시간비교\n",
    "| 풀이 | 방식 | 실행 시간 |\n",
    "|---|:---:|---:|\n",
    "| 1 | 두 포인터를 최대로 이동 | 52밀리초 |\n",
    "| 2 | 스택 쌓기 | 56밀리초 |\n"
   ]
  }
 ],
 "metadata": {
  "kernelspec": {
   "display_name": "Python 3",
   "language": "python",
   "name": "python3"
  },
  "language_info": {
   "codemirror_mode": {
    "name": "ipython",
    "version": 3
   },
   "file_extension": ".py",
   "mimetype": "text/x-python",
   "name": "python",
   "nbconvert_exporter": "python",
   "pygments_lexer": "ipython3",
   "version": "3.8.5"
  }
 },
 "nbformat": 4,
 "nbformat_minor": 4
}
