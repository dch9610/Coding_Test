{
 "cells": [
  {
   "cell_type": "markdown",
   "id": "a8f7b703-abfa-45ad-be24-1dafb3e84b1f",
   "metadata": {},
   "source": [
    "## 중복문자제거\n",
    "- 중복된 문자를 제외하고 사전식 순서로 나열하라 <br>\n",
    "리트코드 316"
   ]
  },
  {
   "cell_type": "markdown",
   "id": "25bb1d00-79e9-4a4a-b62c-95c95298736f",
   "metadata": {},
   "source": [
    "사전식 순서 : 글자 그대로 사전에서 가장 먼저 찾을 수 있는  순서 <br>\n",
    "\n",
    "만약, 중복된 입력값이 아닌 한번 입력된 값이라면 위치를 변경할 수 없다. <br>\n",
    "\n",
    "ex) ebacbc -> eabc, eabce -> abce"
   ]
  },
  {
   "cell_type": "markdown",
   "id": "10f8f17e-ce52-47c3-bd3c-3856bb9b305e",
   "metadata": {},
   "source": [
    "---"
   ]
  },
  {
   "cell_type": "markdown",
   "id": "51c740b8-0e50-4adb-a922-fdc82610c278",
   "metadata": {},
   "source": [
    "### 풀이) 02. 스택을 이용한 문자 제거"
   ]
  },
  {
   "cell_type": "markdown",
   "id": "cfe26888-0769-41d9-b0f5-40f50485149d",
   "metadata": {},
   "source": [
    "- 현재 문자 char가 스택에 쌓여 있는 문자이고, 뒤에 다시 붙일 문자가 남아 있다면(카운터가 0 이상이라면), 쌓아둔 걸 꺼내서 없앤다.\n",
    "    - collection.Counter() 함수 사용"
   ]
  },
  {
   "cell_type": "code",
   "execution_count": 7,
   "id": "6f80ae8f-0e5c-468d-be79-3bab2f6dfab5",
   "metadata": {},
   "outputs": [],
   "source": [
    "import collections"
   ]
  },
  {
   "cell_type": "code",
   "execution_count": 24,
   "id": "5b2c770c-8adc-4f29-bc70-f89714812822",
   "metadata": {},
   "outputs": [],
   "source": [
    "s = \"bcabc\""
   ]
  },
  {
   "cell_type": "code",
   "execution_count": 28,
   "id": "797088fd-0638-43f8-920d-6bfa6fcc82bd",
   "metadata": {},
   "outputs": [
    {
     "name": "stdout",
     "output_type": "stream",
     "text": [
      "Counter({'b': 0, 'c': 0, 'a': 0})\n",
      "['a', 'b', 'c']\n",
      "{'a', 'b', 'c'}\n",
      "abc\n"
     ]
    },
    {
     "data": {
      "text/plain": [
       "0"
      ]
     },
     "execution_count": 28,
     "metadata": {},
     "output_type": "execute_result"
    }
   ],
   "source": [
    "counter, seen, stack = collections.Counter(s), set(), []\n",
    "        \n",
    "for char in s:\n",
    "    counter[char] -= 1\n",
    "    if char in seen:\n",
    "        continue\n",
    "    # 뒤에 붙일 문자가 남아 있다면 스택에서 제거\n",
    "    while stack and char < stack[-1] and counter[stack[-1]] > 0:\n",
    "        seen.remove(stack.pop())\n",
    "    stack.append(char)\n",
    "    seen.add(char)\n",
    "    \n",
    "print(counter)\n",
    "print(stack)\n",
    "print(seen)\n",
    "print(''.join(stack))\n",
    "counter[stack[-1]]"
   ]
  },
  {
   "cell_type": "code",
   "execution_count": null,
   "id": "29cc762c-2e20-4d3a-b086-04d9dd2b6a4c",
   "metadata": {},
   "outputs": [],
   "source": []
  },
  {
   "cell_type": "code",
   "execution_count": null,
   "id": "2e3c0e09-a280-4a2b-bdef-c15476193037",
   "metadata": {},
   "outputs": [],
   "source": []
  }
 ],
 "metadata": {
  "kernelspec": {
   "display_name": "Python 3",
   "language": "python",
   "name": "python3"
  },
  "language_info": {
   "codemirror_mode": {
    "name": "ipython",
    "version": 3
   },
   "file_extension": ".py",
   "mimetype": "text/x-python",
   "name": "python",
   "nbconvert_exporter": "python",
   "pygments_lexer": "ipython3",
   "version": "3.8.8"
  }
 },
 "nbformat": 4,
 "nbformat_minor": 5
}
